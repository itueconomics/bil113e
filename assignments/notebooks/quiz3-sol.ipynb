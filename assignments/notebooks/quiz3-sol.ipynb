{
 "cells": [
  {
   "cell_type": "markdown",
   "metadata": {},
   "source": [
    "# PISA Scores"
   ]
  },
  {
   "cell_type": "markdown",
   "metadata": {},
   "source": [
    "You are going to make a research on your own this time. Your goals:\n",
    "\n",
    "1. Download the [Reading](https://data.oecd.org/pisa/reading-performance-pisa.htm), [Math](https://data.oecd.org/pisa/mathematics-performance-pisa.htm#indicator-chart) and [Science](https://data.oecd.org/pisa/science-performance-pisa.htm#indicator-chart) scores from OECD separately. Downlaod the data as illustrated below. First select \"Perspectives\" as \"Total\", secondly Download \"Selected Data only\".\n",
    "2. Read CSV Files using `Pandas`.\n",
    "3. Calculate the Average PISA score by $\\frac{Math + Science + Reading}{3}$. \n",
    "4. Plot the average scores of OECD countries. \n",
    "\n",
    "![How to download](https://itueconomics.github.io/bil113e/assets/oecd-pisa.JPG)"
   ]
  },
  {
   "cell_type": "markdown",
   "metadata": {},
   "source": [
    "- Be careful about the file names. Each download have a different name. "
   ]
  },
  {
   "cell_type": "markdown",
   "metadata": {},
   "source": [
    "You need to upload your work to [Ninova](http://ninova.itu.edu.tr) as an `HTML` file.\n",
    "\n",
    "Good luck!"
   ]
  },
  {
   "cell_type": "markdown",
   "metadata": {
    "collapsed": true
   },
   "source": [
    "# Question 1"
   ]
  },
  {
   "cell_type": "markdown",
   "metadata": {},
   "source": [
    "I seperatelly downloaded my files and named them `reading.csv`, `math.csv` and `science.csv`."
   ]
  },
  {
   "cell_type": "markdown",
   "metadata": {},
   "source": [
    "# Question 2"
   ]
  },
  {
   "cell_type": "markdown",
   "metadata": {},
   "source": [
    "Firstly I import my libraries."
   ]
  },
  {
   "cell_type": "code",
   "execution_count": 1,
   "metadata": {
    "collapsed": true
   },
   "outputs": [],
   "source": [
    "import pandas as pd\n",
    "import numpy as np\n",
    "import matplotlib.pyplot as plt\n",
    "%matplotlib inline"
   ]
  },
  {
   "cell_type": "code",
   "execution_count": 2,
   "metadata": {},
   "outputs": [
    {
     "name": "stdout",
     "output_type": "stream",
     "text": [
      " Volume in drive C is Disk\n",
      " Volume Serial Number is 00AE-2429\n",
      "\n",
      " Directory of C:\\Users\\af\\Desktop\\quiz 3\n",
      "\n",
      "20.05.2018  18:34    <DIR>          .\n",
      "20.05.2018  18:34    <DIR>          ..\n",
      "03.05.2018  11:57    <DIR>          .ipynb_checkpoints\n",
      "20.05.2018  18:15             2.428 math.csv\n",
      "20.05.2018  18:15             2.428 reading.csv\n",
      "20.05.2018  18:15             2.508 science.csv\n",
      "20.05.2018  18:34            48.498 Untitled.ipynb\n",
      "               4 File(s)         55.862 bytes\n",
      "               3 Dir(s)  31.956.430.848 bytes free\n"
     ]
    }
   ],
   "source": [
    "#Be careful if your csv files and notebook are in the same folder. You can either check the folder you are working or command:\n",
    "!dir"
   ]
  },
  {
   "cell_type": "code",
   "execution_count": 3,
   "metadata": {
    "collapsed": true,
    "scrolled": true
   },
   "outputs": [],
   "source": [
    "reading = pd.read_csv('reading.csv')\n",
    "math = pd.read_csv('math.csv')\n",
    "science = pd.read_csv('science.csv')"
   ]
  },
  {
   "cell_type": "markdown",
   "metadata": {},
   "source": [
    "Let's check out the dataframes:"
   ]
  },
  {
   "cell_type": "code",
   "execution_count": 4,
   "metadata": {},
   "outputs": [
    {
     "data": {
      "text/html": [
       "<div>\n",
       "<style>\n",
       "    .dataframe thead tr:only-child th {\n",
       "        text-align: right;\n",
       "    }\n",
       "\n",
       "    .dataframe thead th {\n",
       "        text-align: left;\n",
       "    }\n",
       "\n",
       "    .dataframe tbody tr th {\n",
       "        vertical-align: top;\n",
       "    }\n",
       "</style>\n",
       "<table border=\"1\" class=\"dataframe\">\n",
       "  <thead>\n",
       "    <tr style=\"text-align: right;\">\n",
       "      <th></th>\n",
       "      <th>LOCATION</th>\n",
       "      <th>INDICATOR</th>\n",
       "      <th>SUBJECT</th>\n",
       "      <th>MEASURE</th>\n",
       "      <th>FREQUENCY</th>\n",
       "      <th>TIME</th>\n",
       "      <th>Value</th>\n",
       "      <th>Flag Codes</th>\n",
       "    </tr>\n",
       "  </thead>\n",
       "  <tbody>\n",
       "    <tr>\n",
       "      <th>0</th>\n",
       "      <td>AUS</td>\n",
       "      <td>PISAREAD</td>\n",
       "      <td>TOT</td>\n",
       "      <td>MEANSCORE</td>\n",
       "      <td>A</td>\n",
       "      <td>2015</td>\n",
       "      <td>503</td>\n",
       "      <td>NaN</td>\n",
       "    </tr>\n",
       "    <tr>\n",
       "      <th>1</th>\n",
       "      <td>AUT</td>\n",
       "      <td>PISAREAD</td>\n",
       "      <td>TOT</td>\n",
       "      <td>MEANSCORE</td>\n",
       "      <td>A</td>\n",
       "      <td>2015</td>\n",
       "      <td>485</td>\n",
       "      <td>NaN</td>\n",
       "    </tr>\n",
       "    <tr>\n",
       "      <th>2</th>\n",
       "      <td>BEL</td>\n",
       "      <td>PISAREAD</td>\n",
       "      <td>TOT</td>\n",
       "      <td>MEANSCORE</td>\n",
       "      <td>A</td>\n",
       "      <td>2015</td>\n",
       "      <td>499</td>\n",
       "      <td>NaN</td>\n",
       "    </tr>\n",
       "    <tr>\n",
       "      <th>3</th>\n",
       "      <td>CAN</td>\n",
       "      <td>PISAREAD</td>\n",
       "      <td>TOT</td>\n",
       "      <td>MEANSCORE</td>\n",
       "      <td>A</td>\n",
       "      <td>2015</td>\n",
       "      <td>527</td>\n",
       "      <td>NaN</td>\n",
       "    </tr>\n",
       "    <tr>\n",
       "      <th>4</th>\n",
       "      <td>CZE</td>\n",
       "      <td>PISAREAD</td>\n",
       "      <td>TOT</td>\n",
       "      <td>MEANSCORE</td>\n",
       "      <td>A</td>\n",
       "      <td>2015</td>\n",
       "      <td>487</td>\n",
       "      <td>NaN</td>\n",
       "    </tr>\n",
       "  </tbody>\n",
       "</table>\n",
       "</div>"
      ],
      "text/plain": [
       "  LOCATION INDICATOR SUBJECT    MEASURE FREQUENCY  TIME  Value  Flag Codes\n",
       "0      AUS  PISAREAD     TOT  MEANSCORE         A  2015    503         NaN\n",
       "1      AUT  PISAREAD     TOT  MEANSCORE         A  2015    485         NaN\n",
       "2      BEL  PISAREAD     TOT  MEANSCORE         A  2015    499         NaN\n",
       "3      CAN  PISAREAD     TOT  MEANSCORE         A  2015    527         NaN\n",
       "4      CZE  PISAREAD     TOT  MEANSCORE         A  2015    487         NaN"
      ]
     },
     "execution_count": 4,
     "metadata": {},
     "output_type": "execute_result"
    }
   ],
   "source": [
    "reading.head()"
   ]
  },
  {
   "cell_type": "code",
   "execution_count": 5,
   "metadata": {},
   "outputs": [
    {
     "data": {
      "text/html": [
       "<div>\n",
       "<style>\n",
       "    .dataframe thead tr:only-child th {\n",
       "        text-align: right;\n",
       "    }\n",
       "\n",
       "    .dataframe thead th {\n",
       "        text-align: left;\n",
       "    }\n",
       "\n",
       "    .dataframe tbody tr th {\n",
       "        vertical-align: top;\n",
       "    }\n",
       "</style>\n",
       "<table border=\"1\" class=\"dataframe\">\n",
       "  <thead>\n",
       "    <tr style=\"text-align: right;\">\n",
       "      <th></th>\n",
       "      <th>LOCATION</th>\n",
       "      <th>INDICATOR</th>\n",
       "      <th>SUBJECT</th>\n",
       "      <th>MEASURE</th>\n",
       "      <th>FREQUENCY</th>\n",
       "      <th>TIME</th>\n",
       "      <th>Value</th>\n",
       "      <th>Flag Codes</th>\n",
       "    </tr>\n",
       "  </thead>\n",
       "  <tbody>\n",
       "    <tr>\n",
       "      <th>0</th>\n",
       "      <td>AUS</td>\n",
       "      <td>PISAMATH</td>\n",
       "      <td>TOT</td>\n",
       "      <td>MEANSCORE</td>\n",
       "      <td>A</td>\n",
       "      <td>2015</td>\n",
       "      <td>494</td>\n",
       "      <td>NaN</td>\n",
       "    </tr>\n",
       "    <tr>\n",
       "      <th>1</th>\n",
       "      <td>AUT</td>\n",
       "      <td>PISAMATH</td>\n",
       "      <td>TOT</td>\n",
       "      <td>MEANSCORE</td>\n",
       "      <td>A</td>\n",
       "      <td>2015</td>\n",
       "      <td>497</td>\n",
       "      <td>NaN</td>\n",
       "    </tr>\n",
       "    <tr>\n",
       "      <th>2</th>\n",
       "      <td>BEL</td>\n",
       "      <td>PISAMATH</td>\n",
       "      <td>TOT</td>\n",
       "      <td>MEANSCORE</td>\n",
       "      <td>A</td>\n",
       "      <td>2015</td>\n",
       "      <td>507</td>\n",
       "      <td>NaN</td>\n",
       "    </tr>\n",
       "    <tr>\n",
       "      <th>3</th>\n",
       "      <td>CAN</td>\n",
       "      <td>PISAMATH</td>\n",
       "      <td>TOT</td>\n",
       "      <td>MEANSCORE</td>\n",
       "      <td>A</td>\n",
       "      <td>2015</td>\n",
       "      <td>516</td>\n",
       "      <td>NaN</td>\n",
       "    </tr>\n",
       "    <tr>\n",
       "      <th>4</th>\n",
       "      <td>CZE</td>\n",
       "      <td>PISAMATH</td>\n",
       "      <td>TOT</td>\n",
       "      <td>MEANSCORE</td>\n",
       "      <td>A</td>\n",
       "      <td>2015</td>\n",
       "      <td>492</td>\n",
       "      <td>NaN</td>\n",
       "    </tr>\n",
       "  </tbody>\n",
       "</table>\n",
       "</div>"
      ],
      "text/plain": [
       "  LOCATION INDICATOR SUBJECT    MEASURE FREQUENCY  TIME  Value  Flag Codes\n",
       "0      AUS  PISAMATH     TOT  MEANSCORE         A  2015    494         NaN\n",
       "1      AUT  PISAMATH     TOT  MEANSCORE         A  2015    497         NaN\n",
       "2      BEL  PISAMATH     TOT  MEANSCORE         A  2015    507         NaN\n",
       "3      CAN  PISAMATH     TOT  MEANSCORE         A  2015    516         NaN\n",
       "4      CZE  PISAMATH     TOT  MEANSCORE         A  2015    492         NaN"
      ]
     },
     "execution_count": 5,
     "metadata": {},
     "output_type": "execute_result"
    }
   ],
   "source": [
    "math.head()"
   ]
  },
  {
   "cell_type": "code",
   "execution_count": 6,
   "metadata": {},
   "outputs": [
    {
     "data": {
      "text/html": [
       "<div>\n",
       "<style>\n",
       "    .dataframe thead tr:only-child th {\n",
       "        text-align: right;\n",
       "    }\n",
       "\n",
       "    .dataframe thead th {\n",
       "        text-align: left;\n",
       "    }\n",
       "\n",
       "    .dataframe tbody tr th {\n",
       "        vertical-align: top;\n",
       "    }\n",
       "</style>\n",
       "<table border=\"1\" class=\"dataframe\">\n",
       "  <thead>\n",
       "    <tr style=\"text-align: right;\">\n",
       "      <th></th>\n",
       "      <th>LOCATION</th>\n",
       "      <th>INDICATOR</th>\n",
       "      <th>SUBJECT</th>\n",
       "      <th>MEASURE</th>\n",
       "      <th>FREQUENCY</th>\n",
       "      <th>TIME</th>\n",
       "      <th>Value</th>\n",
       "      <th>Flag Codes</th>\n",
       "    </tr>\n",
       "  </thead>\n",
       "  <tbody>\n",
       "    <tr>\n",
       "      <th>0</th>\n",
       "      <td>AUS</td>\n",
       "      <td>PISASCIENCE</td>\n",
       "      <td>TOT</td>\n",
       "      <td>MEANSCORE</td>\n",
       "      <td>A</td>\n",
       "      <td>2015</td>\n",
       "      <td>510</td>\n",
       "      <td>NaN</td>\n",
       "    </tr>\n",
       "    <tr>\n",
       "      <th>1</th>\n",
       "      <td>AUT</td>\n",
       "      <td>PISASCIENCE</td>\n",
       "      <td>TOT</td>\n",
       "      <td>MEANSCORE</td>\n",
       "      <td>A</td>\n",
       "      <td>2015</td>\n",
       "      <td>495</td>\n",
       "      <td>NaN</td>\n",
       "    </tr>\n",
       "    <tr>\n",
       "      <th>2</th>\n",
       "      <td>BEL</td>\n",
       "      <td>PISASCIENCE</td>\n",
       "      <td>TOT</td>\n",
       "      <td>MEANSCORE</td>\n",
       "      <td>A</td>\n",
       "      <td>2015</td>\n",
       "      <td>502</td>\n",
       "      <td>NaN</td>\n",
       "    </tr>\n",
       "    <tr>\n",
       "      <th>3</th>\n",
       "      <td>CAN</td>\n",
       "      <td>PISASCIENCE</td>\n",
       "      <td>TOT</td>\n",
       "      <td>MEANSCORE</td>\n",
       "      <td>A</td>\n",
       "      <td>2015</td>\n",
       "      <td>528</td>\n",
       "      <td>NaN</td>\n",
       "    </tr>\n",
       "    <tr>\n",
       "      <th>4</th>\n",
       "      <td>CZE</td>\n",
       "      <td>PISASCIENCE</td>\n",
       "      <td>TOT</td>\n",
       "      <td>MEANSCORE</td>\n",
       "      <td>A</td>\n",
       "      <td>2015</td>\n",
       "      <td>493</td>\n",
       "      <td>NaN</td>\n",
       "    </tr>\n",
       "  </tbody>\n",
       "</table>\n",
       "</div>"
      ],
      "text/plain": [
       "  LOCATION    INDICATOR SUBJECT    MEASURE FREQUENCY  TIME  Value  Flag Codes\n",
       "0      AUS  PISASCIENCE     TOT  MEANSCORE         A  2015    510         NaN\n",
       "1      AUT  PISASCIENCE     TOT  MEANSCORE         A  2015    495         NaN\n",
       "2      BEL  PISASCIENCE     TOT  MEANSCORE         A  2015    502         NaN\n",
       "3      CAN  PISASCIENCE     TOT  MEANSCORE         A  2015    528         NaN\n",
       "4      CZE  PISASCIENCE     TOT  MEANSCORE         A  2015    493         NaN"
      ]
     },
     "execution_count": 6,
     "metadata": {},
     "output_type": "execute_result"
    }
   ],
   "source": [
    "science.head()"
   ]
  },
  {
   "cell_type": "markdown",
   "metadata": {},
   "source": [
    "# Question 3"
   ]
  },
  {
   "cell_type": "markdown",
   "metadata": {},
   "source": [
    "Only `Value` columns are important for us. You can do this question in many ways. I will create a new dataframe and import the `Value` columns into new one."
   ]
  },
  {
   "cell_type": "code",
   "execution_count": 7,
   "metadata": {
    "collapsed": true
   },
   "outputs": [],
   "source": [
    "df = pd.DataFrame()"
   ]
  },
  {
   "cell_type": "code",
   "execution_count": 8,
   "metadata": {
    "collapsed": true
   },
   "outputs": [],
   "source": [
    "df['math'] = math['Value']"
   ]
  },
  {
   "cell_type": "code",
   "execution_count": 9,
   "metadata": {
    "collapsed": true
   },
   "outputs": [],
   "source": [
    "df['reading'] = reading['Value']"
   ]
  },
  {
   "cell_type": "code",
   "execution_count": 10,
   "metadata": {
    "collapsed": true
   },
   "outputs": [],
   "source": [
    "df['science'] = science['Value']"
   ]
  },
  {
   "cell_type": "code",
   "execution_count": 11,
   "metadata": {
    "collapsed": true
   },
   "outputs": [],
   "source": [
    "df.index = math['LOCATION']"
   ]
  },
  {
   "cell_type": "markdown",
   "metadata": {},
   "source": [
    "Let's see new dataframe:"
   ]
  },
  {
   "cell_type": "code",
   "execution_count": 12,
   "metadata": {},
   "outputs": [
    {
     "data": {
      "text/html": [
       "<div>\n",
       "<style>\n",
       "    .dataframe thead tr:only-child th {\n",
       "        text-align: right;\n",
       "    }\n",
       "\n",
       "    .dataframe thead th {\n",
       "        text-align: left;\n",
       "    }\n",
       "\n",
       "    .dataframe tbody tr th {\n",
       "        vertical-align: top;\n",
       "    }\n",
       "</style>\n",
       "<table border=\"1\" class=\"dataframe\">\n",
       "  <thead>\n",
       "    <tr style=\"text-align: right;\">\n",
       "      <th></th>\n",
       "      <th>math</th>\n",
       "      <th>reading</th>\n",
       "      <th>science</th>\n",
       "    </tr>\n",
       "    <tr>\n",
       "      <th>LOCATION</th>\n",
       "      <th></th>\n",
       "      <th></th>\n",
       "      <th></th>\n",
       "    </tr>\n",
       "  </thead>\n",
       "  <tbody>\n",
       "    <tr>\n",
       "      <th>AUS</th>\n",
       "      <td>494</td>\n",
       "      <td>503</td>\n",
       "      <td>510.0</td>\n",
       "    </tr>\n",
       "    <tr>\n",
       "      <th>AUT</th>\n",
       "      <td>497</td>\n",
       "      <td>485</td>\n",
       "      <td>495.0</td>\n",
       "    </tr>\n",
       "    <tr>\n",
       "      <th>BEL</th>\n",
       "      <td>507</td>\n",
       "      <td>499</td>\n",
       "      <td>502.0</td>\n",
       "    </tr>\n",
       "    <tr>\n",
       "      <th>CAN</th>\n",
       "      <td>516</td>\n",
       "      <td>527</td>\n",
       "      <td>528.0</td>\n",
       "    </tr>\n",
       "    <tr>\n",
       "      <th>CZE</th>\n",
       "      <td>492</td>\n",
       "      <td>487</td>\n",
       "      <td>493.0</td>\n",
       "    </tr>\n",
       "  </tbody>\n",
       "</table>\n",
       "</div>"
      ],
      "text/plain": [
       "          math  reading  science\n",
       "LOCATION                        \n",
       "AUS        494      503    510.0\n",
       "AUT        497      485    495.0\n",
       "BEL        507      499    502.0\n",
       "CAN        516      527    528.0\n",
       "CZE        492      487    493.0"
      ]
     },
     "execution_count": 12,
     "metadata": {},
     "output_type": "execute_result"
    }
   ],
   "source": [
    "df.head()"
   ]
  },
  {
   "cell_type": "code",
   "execution_count": 13,
   "metadata": {
    "collapsed": true
   },
   "outputs": [],
   "source": [
    "df['Average'] = df.mean(1) # 1 inside the `mean(1)` is to find the means of rows. "
   ]
  },
  {
   "cell_type": "code",
   "execution_count": 14,
   "metadata": {},
   "outputs": [
    {
     "data": {
      "text/html": [
       "<div>\n",
       "<style>\n",
       "    .dataframe thead tr:only-child th {\n",
       "        text-align: right;\n",
       "    }\n",
       "\n",
       "    .dataframe thead th {\n",
       "        text-align: left;\n",
       "    }\n",
       "\n",
       "    .dataframe tbody tr th {\n",
       "        vertical-align: top;\n",
       "    }\n",
       "</style>\n",
       "<table border=\"1\" class=\"dataframe\">\n",
       "  <thead>\n",
       "    <tr style=\"text-align: right;\">\n",
       "      <th></th>\n",
       "      <th>math</th>\n",
       "      <th>reading</th>\n",
       "      <th>science</th>\n",
       "      <th>Average</th>\n",
       "    </tr>\n",
       "    <tr>\n",
       "      <th>LOCATION</th>\n",
       "      <th></th>\n",
       "      <th></th>\n",
       "      <th></th>\n",
       "      <th></th>\n",
       "    </tr>\n",
       "  </thead>\n",
       "  <tbody>\n",
       "    <tr>\n",
       "      <th>AUS</th>\n",
       "      <td>494</td>\n",
       "      <td>503</td>\n",
       "      <td>510.0</td>\n",
       "      <td>502.333333</td>\n",
       "    </tr>\n",
       "    <tr>\n",
       "      <th>AUT</th>\n",
       "      <td>497</td>\n",
       "      <td>485</td>\n",
       "      <td>495.0</td>\n",
       "      <td>492.333333</td>\n",
       "    </tr>\n",
       "    <tr>\n",
       "      <th>BEL</th>\n",
       "      <td>507</td>\n",
       "      <td>499</td>\n",
       "      <td>502.0</td>\n",
       "      <td>502.666667</td>\n",
       "    </tr>\n",
       "    <tr>\n",
       "      <th>CAN</th>\n",
       "      <td>516</td>\n",
       "      <td>527</td>\n",
       "      <td>528.0</td>\n",
       "      <td>523.666667</td>\n",
       "    </tr>\n",
       "    <tr>\n",
       "      <th>CZE</th>\n",
       "      <td>492</td>\n",
       "      <td>487</td>\n",
       "      <td>493.0</td>\n",
       "      <td>490.666667</td>\n",
       "    </tr>\n",
       "  </tbody>\n",
       "</table>\n",
       "</div>"
      ],
      "text/plain": [
       "          math  reading  science     Average\n",
       "LOCATION                                    \n",
       "AUS        494      503    510.0  502.333333\n",
       "AUT        497      485    495.0  492.333333\n",
       "BEL        507      499    502.0  502.666667\n",
       "CAN        516      527    528.0  523.666667\n",
       "CZE        492      487    493.0  490.666667"
      ]
     },
     "execution_count": 14,
     "metadata": {},
     "output_type": "execute_result"
    }
   ],
   "source": [
    "df.head()"
   ]
  },
  {
   "cell_type": "markdown",
   "metadata": {},
   "source": [
    "# Question 4"
   ]
  },
  {
   "cell_type": "code",
   "execution_count": 15,
   "metadata": {},
   "outputs": [
    {
     "data": {
      "text/plain": [
       "<matplotlib.axes._subplots.AxesSubplot at 0x18cde0bea90>"
      ]
     },
     "execution_count": 15,
     "metadata": {},
     "output_type": "execute_result"
    },
    {
     "data": {
      "image/png": "[encoded data removed]",
      "text/plain": [
       "<matplotlib.figure.Figure at 0x18cde0bea58>"
      ]
     },
     "metadata": {},
     "output_type": "display_data"
    }
   ],
   "source": [
    "plt.figure(figsize=(10,5), dpi=80)\n",
    "plt.title('Average PISA Scores by OECD countries')\n",
    "plt.ylabel('Scores')\n",
    "plt.ylim(df['Average'].min()-10,df['Average'].max()+10)\n",
    "df['Average'].sort_values().plot('bar')"
   ]
  }
 ],
 "metadata": {
  "kernelspec": {
   "display_name": "Python 3",
   "language": "python",
   "name": "python3"
  },
  "language_info": {
   "codemirror_mode": {
    "name": "ipython",
    "version": 3
   },
   "file_extension": ".py",
   "mimetype": "text/x-python",
   "name": "python",
   "nbconvert_exporter": "python",
   "pygments_lexer": "ipython3",
   "version": "3.6.4"
  }
 },
 "nbformat": 4,
 "nbformat_minor": 2
}
