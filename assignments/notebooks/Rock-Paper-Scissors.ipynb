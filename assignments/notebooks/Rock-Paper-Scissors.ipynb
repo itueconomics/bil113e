{
 "cells": [
  {
   "cell_type": "markdown",
   "metadata": {},
   "source": [
    "# Rock-Paper-Scissors"
   ]
  },
  {
   "cell_type": "markdown",
   "metadata": {},
   "source": [
    "[Downlaod Notebook](Rock-Paper-Scissors.ipynb)"
   ]
  },
  {
   "cell_type": "markdown",
   "metadata": {},
   "source": [
    "Dear all,\n",
    "\n",
    "This is going to be an make-up exercise for quiz-1. Your quiz 1 grade will be maximum of quiz 1 and make-up exam: `max(quiz-1, make-up)`. "
   ]
  },
  {
   "cell_type": "markdown",
   "metadata": {},
   "source": [
    "Again you will create a game. You can help each other but do not upload the same codes with your friend. It is going to be treated as `cheating`. I recommend you try to do it by yourself until last day. You can google for Python Rock-Paper-Scissors algorithms from the internet but all will require some specific features for the game. Be careful about the details. Do not copy paste the scripts on the internet. "
   ]
  },
  {
   "cell_type": "markdown",
   "metadata": {},
   "source": [
    "Game is `Rock-Paper-Scissors`. I think you are familiar with the rules:"
   ]
  },
  {
   "cell_type": "markdown",
   "metadata": {},
   "source": [
    "<center>![rules](../assets/Rock-Paper-Scissors.jpg)</center>"
   ]
  },
  {
   "cell_type": "markdown",
   "metadata": {},
   "source": [
    "## Grading criteria"
   ]
  },
  {
   "cell_type": "markdown",
   "metadata": {},
   "source": [
    "- Game must have option as 1-Player and 2-Players. USE the structure given below. Do not delete codes I wrote.\n",
    "- If it is played 1-Player then Computer should make random choices between rock, paper and scissors. \n",
    "- You should correct the upper and lower cases in the game. So users can either write 'paper' or 'Paper' or 'PAPER'...(IMPORTANT)\n",
    "- If it is 1 player write 'Computer Wins' not 'Player 2 Wins'.\n",
    "- Try to prevent any possible errors user can make."
   ]
  },
  {
   "cell_type": "code",
   "execution_count": null,
   "metadata": {
    "collapsed": true
   },
   "outputs": [],
   "source": [
    "def game(*arg):\n",
    "    if len(arg) == 1:\n",
    "        # 1-Player Game\n",
    "        p1 = arg[0] #player-1's game\n",
    "        p2 = None # IMPORTANT: replace None with a random choice between rock papers and siccors\n",
    "    elif len(arg) == 2:\n",
    "        # 2-Player Game\n",
    "        p1 = arg[0] #player-1's game\n",
    "        p2 = arg[1] #player-2's game\n",
    "    else:\n",
    "        print('You should give 1 argument for 1-Player and 2 for 2-Players')\n",
    "        return None # If there are more than 2 arguments than function will stop by `return`\n",
    "    # Start coding the game from here\n",
    "    # Start coding the game from here\n",
    "    # Start coding the game from here"
   ]
  },
  {
   "cell_type": "markdown",
   "metadata": {},
   "source": [
    "## Sample Input and Outputs"
   ]
  },
  {
   "cell_type": "markdown",
   "metadata": {},
   "source": [
    "### Your function must give similar results with these. If it is 1 Player Game than results will be random:"
   ]
  },
  {
   "cell_type": "markdown",
   "metadata": {},
   "source": [
    "game('Rock')\n",
    "\n",
    ">Tie!\n",
    "\n",
    "game('Rock')\n",
    "\n",
    ">Player 1 Win!\n",
    "\n",
    "game('Rock')\n",
    "\n",
    ">Computer Win!"
   ]
  },
  {
   "cell_type": "markdown",
   "metadata": {},
   "source": [
    "### If it is 2 players:"
   ]
  },
  {
   "cell_type": "markdown",
   "metadata": {},
   "source": [
    "game('Rock','Rock')\n",
    ">Tie!\n",
    "\n",
    "game('Rock','Paper')\n",
    ">Player 2 Wins!\n",
    "\n",
    "game('Rock', 'Scissors')\n",
    ">Player 1 Wins!"
   ]
  },
  {
   "cell_type": "markdown",
   "metadata": {},
   "source": [
    "Good luck!"
   ]
  }
 ],
 "metadata": {
  "kernelspec": {
   "display_name": "Python 3",
   "language": "python",
   "name": "python3"
  },
  "language_info": {
   "codemirror_mode": {
    "name": "ipython",
    "version": 3
   },
   "file_extension": ".py",
   "mimetype": "text/x-python",
   "name": "python",
   "nbconvert_exporter": "python",
   "pygments_lexer": "ipython3",
   "version": "3.6.4"
  }
 },
 "nbformat": 4,
 "nbformat_minor": 2
}
