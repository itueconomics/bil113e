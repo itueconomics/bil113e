{
 "cells": [
  {
   "cell_type": "markdown",
   "metadata": {},
   "source": [
    "# Hangman Game"
   ]
  },
  {
   "cell_type": "markdown",
   "metadata": {},
   "source": [
    "### [Solution](hangman-solution.html)"
   ]
  },
  {
   "cell_type": "markdown",
   "metadata": {},
   "source": [
    "You need to create Hangman Game in this assignment. Follow the instructions:"
   ]
  },
  {
   "cell_type": "markdown",
   "metadata": {},
   "source": [
    "We will use `requests` library to download data from a URL."
   ]
  },
  {
   "cell_type": "code",
   "execution_count": null,
   "metadata": {
    "collapsed": true
   },
   "outputs": [],
   "source": [
    "from requests import get"
   ]
  },
  {
   "cell_type": "markdown",
   "metadata": {},
   "source": [
    "We will get a word list to play the game. "
   ]
  },
  {
   "cell_type": "code",
   "execution_count": null,
   "metadata": {
    "collapsed": true
   },
   "outputs": [],
   "source": [
    "words = get('https://itueconomics.github.io/bil113e/assets/words.txt').text"
   ]
  },
  {
   "cell_type": "code",
   "execution_count": null,
   "metadata": {
    "collapsed": true
   },
   "outputs": [],
   "source": [
    "words = words.split()"
   ]
  },
  {
   "cell_type": "markdown",
   "metadata": {},
   "source": [
    "First 10 words."
   ]
  },
  {
   "cell_type": "code",
   "execution_count": null,
   "metadata": {
    "collapsed": true
   },
   "outputs": [],
   "source": [
    "words[:10]"
   ]
  },
  {
   "cell_type": "markdown",
   "metadata": {},
   "source": [
    "## 1. Select a random word from the `words` list"
   ]
  },
  {
   "cell_type": "markdown",
   "metadata": {},
   "source": [
    "You can use `randint` function in `random` library to make random selection.\n",
    "\n",
    "See documentation: https://docs.python.org/3/library/random.html#random.randint"
   ]
  },
  {
   "cell_type": "code",
   "execution_count": null,
   "metadata": {
    "collapsed": true
   },
   "outputs": [],
   "source": [
    "from random import randint"
   ]
  },
  {
   "cell_type": "markdown",
   "metadata": {},
   "source": [
    "See how it works:"
   ]
  },
  {
   "cell_type": "code",
   "execution_count": null,
   "metadata": {
    "collapsed": true
   },
   "outputs": [],
   "source": [
    "print(randint(2,10))\n",
    "print(randint(2,10))\n",
    "print(randint(2,10))\n",
    "print(randint(2,10))\n",
    "print(randint(2,10))"
   ]
  },
  {
   "cell_type": "markdown",
   "metadata": {},
   "source": [
    "This part will be graded. You need to write a function that will pick up a random word from a list. Use the hints inside the function."
   ]
  },
  {
   "cell_type": "code",
   "execution_count": null,
   "metadata": {
    "collapsed": true
   },
   "outputs": [],
   "source": [
    "def pick_random_word(word_list):\n",
    "    #write down your code that will return a random word inside the word_list list.\n",
    "    #use len() function to determine the limist of random integers.\n",
    "    #also note that index is starting from 0\n",
    "    return None # you have to change None and make it a rnadom word."
   ]
  },
  {
   "cell_type": "markdown",
   "metadata": {},
   "source": [
    "Check out if you function works:"
   ]
  },
  {
   "cell_type": "code",
   "execution_count": null,
   "metadata": {
    "collapsed": true
   },
   "outputs": [],
   "source": [
    "pick_random_word(words)"
   ]
  },
  {
   "cell_type": "markdown",
   "metadata": {},
   "source": [
    "## 2. Create the game"
   ]
  },
  {
   "cell_type": "markdown",
   "metadata": {},
   "source": [
    "Let's assume we have 8 rights to make guess about the words by default. However we will make it changable. So need to create a loop inside the game. \n",
    "\n",
    "Write down your codes after the comments 1, 2, and 3. Those parts will be graded."
   ]
  },
  {
   "cell_type": "code",
   "execution_count": null,
   "metadata": {
    "collapsed": true
   },
   "outputs": [],
   "source": [
    "def game(turns = 8):\n",
    "    word = pick_random_word(words) \n",
    "    guess = []\n",
    "    t = 0\n",
    "    while t < turns:\n",
    "        g = input('\\nMake a guess: ')\n",
    "        if g in word:\n",
    "            # ADD CODE 1: append the correct answer to the guess variable\n",
    "            print('\\nCorrect answers!')\n",
    "        else:\n",
    "            # ADD CODE 2: increase t value by one if the answer is wrong...\n",
    "            print('\\nWe do not have {0}'.format(g))\n",
    "        for i in word:\n",
    "            if i in guess:\n",
    "                print(i, end=' ')\n",
    "                \n",
    "            else:\n",
    "                print('_', end=' ')\n",
    "        #ADD CODE 3: write the condition that checks if all letters are found. use set() function. compare guess and word\n",
    "        if CONDITION: \n",
    "            print('\\n\\nYou WIN!!!')\n",
    "            break"
   ]
  },
  {
   "cell_type": "markdown",
   "metadata": {},
   "source": [
    "Run the game:"
   ]
  },
  {
   "cell_type": "code",
   "execution_count": null,
   "metadata": {
    "collapsed": true
   },
   "outputs": [],
   "source": [
    "#This part will be graded if it runs well.\n",
    "game()"
   ]
  },
  {
   "cell_type": "markdown",
   "metadata": {},
   "source": [
    "## Grading"
   ]
  },
  {
   "cell_type": "markdown",
   "metadata": {},
   "source": [
    "1. `pick_random_word(): 25%`\n",
    "2. `ADD CODE 1: 15%`\n",
    "3. `ADD CODE 2: 15%`\n",
    "4. `ADD CODE 3: 20%`\n",
    "5. `If game runs: 25%`"
   ]
  },
  {
   "cell_type": "code",
   "execution_count": null,
   "metadata": {
    "collapsed": true
   },
   "outputs": [],
   "source": []
  }
 ],
 "metadata": {
  "kernelspec": {
   "display_name": "Python 3",
   "language": "python",
   "name": "python3"
  },
  "language_info": {
   "codemirror_mode": {
    "name": "ipython",
    "version": 3
   },
   "file_extension": ".py",
   "mimetype": "text/x-python",
   "name": "python",
   "nbconvert_exporter": "python",
   "pygments_lexer": "ipython3",
   "version": "3.6.4"
  }
 },
 "nbformat": 4,
 "nbformat_minor": 2
}
