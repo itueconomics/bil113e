{
 "cells": [
  {
   "cell_type": "markdown",
   "metadata": {},
   "source": [
    "# Linear Regression Solver"
   ]
  },
  {
   "cell_type": "markdown",
   "metadata": {},
   "source": [
    "[Download the Notebook](http://itueconomics.github.io/bil113e/assignments/notebooks/Linear_Regression.ipynb)"
   ]
  },
  {
   "cell_type": "markdown",
   "metadata": {},
   "source": [
    "We are going to write a function to solve a linear regression. First Linear regression concepts are introduced."
   ]
  },
  {
   "cell_type": "markdown",
   "metadata": {},
   "source": [
    "<img align = 'middle' src='http://itueconomics.github.io/bil113e/assets/regression.png'>"
   ]
  },
  {
   "cell_type": "markdown",
   "metadata": {},
   "source": [
    "## Linear Regression"
   ]
  },
  {
   "cell_type": "markdown",
   "metadata": {},
   "source": [
    "Assume we want to find the best fit for the equation:\n",
    "\n",
    "$$ Y = \\beta _0 + \\beta _1 X + e $$"
   ]
  },
  {
   "cell_type": "markdown",
   "metadata": {},
   "source": [
    "What are the values for $\\beta _0$ and $\\beta _1$?"
   ]
  },
  {
   "cell_type": "markdown",
   "metadata": {},
   "source": [
    "We need to `optimize` this function by minimization of `errors` which is:\n",
    "\n",
    "$$ e = Y - \\beta _0 - \\beta _1 X $$"
   ]
  },
  {
   "cell_type": "markdown",
   "metadata": {},
   "source": [
    "There could be more than one variable to fit:\n",
    "\n",
    "$$ e = Y - \\beta _0 - \\beta _1 X_1 - \\beta _2 X_2 - \\beta _3 X_3 ... $$"
   ]
  },
  {
   "cell_type": "markdown",
   "metadata": {},
   "source": [
    "We can write it in matrix notation like:\n",
    "\n",
    "$$ e = Y - X\\beta $$"
   ]
  },
  {
   "cell_type": "markdown",
   "metadata": {},
   "source": [
    "The matrix $X$ contains all variables and $\\beta$ contains all parameters. It is a bit easier way to write like this. We use the `least square minimization` for regression fits:\n",
    "\n",
    "$$\n",
    "\\begin{align}\n",
    "\\min{\\beta} \\quad  e'e &= (Y−X\\beta)′(Y−X\\beta)\\\\\n",
    " \\, &= Y′Y−2\\beta′X′Y+\\beta′X′X\\beta\n",
    "\\end{align}\n",
    "$$"
   ]
  },
  {
   "cell_type": "markdown",
   "metadata": {},
   "source": [
    "The solution is the partial derivative of sum of squares residuals with respect to $\\beta$:\n",
    "$$\n",
    "\\frac{\\partial e'e}{\\beta} = −2X′Y+2X′X\\beta = 0 \\\\\n",
    "$$\n",
    "\n",
    "So the $\\beta$ is:\n",
    "\n",
    "$$ \\beta = (X′X)^{-1}X′Y $$"
   ]
  },
  {
   "cell_type": "markdown",
   "metadata": {},
   "source": [
    "Well... It might seem confusing if you meet Least Squares first time but you will use it in Econometrics a lot. It is very basic concept but we are only interested in the solution/formula of the $\\beta$ for now. We can define a function that fits the regression."
   ]
  },
  {
   "cell_type": "code",
   "execution_count": 1,
   "metadata": {
    "collapsed": true
   },
   "outputs": [],
   "source": [
    "import numpy as np"
   ]
  },
  {
   "cell_type": "code",
   "execution_count": 2,
   "metadata": {
    "collapsed": true
   },
   "outputs": [],
   "source": [
    "def ols(x,y):\n",
    "    # you need to make calculations inside the function and return the BETA coefficients\n",
    "    return None # return Beta coefficients"
   ]
  },
  {
   "cell_type": "markdown",
   "metadata": {},
   "source": [
    "### Hints"
   ]
  },
  {
   "cell_type": "markdown",
   "metadata": {},
   "source": [
    "- First multiply $X'$ with X, then $X'$ with $Y$. Lastly multiply the two results.\n",
    "- For multiplication you should use the `np.dot()` function. \n",
    "- $X'$ means `X.T` in numpy format. For instance multiplication of $X'Y$ = `np.dot(X.T,Y)`.\n",
    "- Use the `numpy.linalg.inv()` function to take the inverse of $(X'X)^{-1}$"
   ]
  },
  {
   "cell_type": "markdown",
   "metadata": {},
   "source": [
    "### Test"
   ]
  },
  {
   "cell_type": "markdown",
   "metadata": {},
   "source": [
    "Test if your function works. For we need to create random values."
   ]
  },
  {
   "cell_type": "code",
   "execution_count": 3,
   "metadata": {},
   "outputs": [],
   "source": [
    "np.random.seed(1)\n",
    "X = np.concatenate((np.ones((10,1)),np.random.random((10,3))), axis=1) \n",
    "Y = np.random.randint(10, size=(10,1))"
   ]
  },
  {
   "cell_type": "code",
   "execution_count": 4,
   "metadata": {},
   "outputs": [
    {
     "name": "stdout",
     "output_type": "stream",
     "text": [
      "None\n"
     ]
    }
   ],
   "source": [
    "print(ols(X,Y))"
   ]
  }
 ],
 "metadata": {
  "kernelspec": {
   "display_name": "Python 3",
   "language": "python",
   "name": "python3"
  },
  "language_info": {
   "codemirror_mode": {
    "name": "ipython",
    "version": 3
   },
   "file_extension": ".py",
   "mimetype": "text/x-python",
   "name": "python",
   "nbconvert_exporter": "python",
   "pygments_lexer": "ipython3",
   "version": "3.6.4"
  }
 },
 "nbformat": 4,
 "nbformat_minor": 2
}
