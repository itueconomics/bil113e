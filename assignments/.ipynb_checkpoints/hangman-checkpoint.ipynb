{
 "cells": [
  {
   "cell_type": "markdown",
   "metadata": {},
   "source": [
    "# Hangman Game"
   ]
  },
  {
   "cell_type": "markdown",
   "metadata": {},
   "source": [
    "### [Solution](hangman-solution.html)"
   ]
  },
  {
   "cell_type": "markdown",
   "metadata": {},
   "source": [
    "You need to create Hangman Game in this assignment. Follow the instructions:"
   ]
  },
  {
   "cell_type": "markdown",
   "metadata": {},
   "source": [
    "We will use `requests` library to download data from a URL."
   ]
  },
  {
   "cell_type": "code",
   "execution_count": 1,
   "metadata": {
    "collapsed": true
   },
   "outputs": [],
   "source": [
    "from requests import get"
   ]
  },
  {
   "cell_type": "markdown",
   "metadata": {},
   "source": [
    "We will get a word list to play the game. "
   ]
  },
  {
   "cell_type": "code",
   "execution_count": 2,
   "metadata": {
    "collapsed": true
   },
   "outputs": [],
   "source": [
    "words = get('https://itueconomics.github.io/bil113e/assets/words.txt').text"
   ]
  },
  {
   "cell_type": "code",
   "execution_count": 3,
   "metadata": {
    "collapsed": true
   },
   "outputs": [],
   "source": [
    "words = words.split()"
   ]
  },
  {
   "cell_type": "markdown",
   "metadata": {},
   "source": [
    "First 10 words."
   ]
  },
  {
   "cell_type": "code",
   "execution_count": 4,
   "metadata": {},
   "outputs": [
    {
     "data": {
      "text/plain": [
       "['Aalborg',\n",
       " 'Aalesund',\n",
       " 'Aandahl',\n",
       " 'Aaqbiye',\n",
       " 'aardvark',\n",
       " 'aardvarks',\n",
       " 'aardwolf',\n",
       " 'aardwolves',\n",
       " 'Aaronic',\n",
       " 'Aaronical']"
      ]
     },
     "execution_count": 4,
     "metadata": {},
     "output_type": "execute_result"
    }
   ],
   "source": [
    "words[:10]"
   ]
  },
  {
   "cell_type": "markdown",
   "metadata": {},
   "source": [
    "## 1. Select a random word from the `words` list"
   ]
  },
  {
   "cell_type": "markdown",
   "metadata": {},
   "source": [
    "You can use `randint` function in `random` library to make random selection.\n",
    "\n",
    "See documentation: https://docs.python.org/3/library/random.html#random.randint"
   ]
  },
  {
   "cell_type": "code",
   "execution_count": 5,
   "metadata": {
    "collapsed": true
   },
   "outputs": [],
   "source": [
    "from random import randint"
   ]
  },
  {
   "cell_type": "markdown",
   "metadata": {},
   "source": [
    "See how it works:"
   ]
  },
  {
   "cell_type": "code",
   "execution_count": 6,
   "metadata": {},
   "outputs": [
    {
     "name": "stdout",
     "output_type": "stream",
     "text": [
      "9\n",
      "5\n",
      "2\n",
      "4\n",
      "2\n"
     ]
    }
   ],
   "source": [
    "print(randint(2,10))\n",
    "print(randint(2,10))\n",
    "print(randint(2,10))\n",
    "print(randint(2,10))\n",
    "print(randint(2,10))"
   ]
  },
  {
   "cell_type": "markdown",
   "metadata": {},
   "source": [
    "This part will be graded. You need to write a function that will pick up a random word from a list. Use the hints inside the function."
   ]
  },
  {
   "cell_type": "code",
   "execution_count": 7,
   "metadata": {
    "collapsed": true
   },
   "outputs": [],
   "source": [
    "def pick_random_word(word_list):\n",
    "    rand_number = randint(0, len(word_list) - 1)\n",
    "    return word_list[rand_number]"
   ]
  },
  {
   "cell_type": "markdown",
   "metadata": {},
   "source": [
    "Check out if you function works:"
   ]
  },
  {
   "cell_type": "code",
   "execution_count": 8,
   "metadata": {},
   "outputs": [
    {
     "data": {
      "text/plain": [
       "'somnambulize'"
      ]
     },
     "execution_count": 8,
     "metadata": {},
     "output_type": "execute_result"
    }
   ],
   "source": [
    "pick_random_word(words)"
   ]
  },
  {
   "cell_type": "markdown",
   "metadata": {},
   "source": [
    "## 2. Create the game"
   ]
  },
  {
   "cell_type": "markdown",
   "metadata": {},
   "source": [
    "Let's assume we have 8 rights to make guess about the words by default. However we will make it changable. So need to create a loop inside the game. \n",
    "\n",
    "Write down your codes after the comments 1, 2, and 3. Those parts will be graded."
   ]
  },
  {
   "cell_type": "code",
   "execution_count": 9,
   "metadata": {
    "collapsed": true
   },
   "outputs": [],
   "source": [
    "def game(turns = 8):\n",
    "    word = pick_random_word(words) \n",
    "    guess = []\n",
    "    t = 0\n",
    "    while t < turns:\n",
    "        g = input('\\nMake a guess: ')\n",
    "        if g in word:\n",
    "            # ADD CODE 1: append the correct answer to the guess variable\n",
    "            guess.append(g)\n",
    "            print('\\nCorrect answers!')\n",
    "        else:\n",
    "            # ADD CODE 2: increase t value by one if the answer is wrong...\n",
    "            t += 1\n",
    "            print('\\nWe do not have {0}'.format(g))\n",
    "        for i in word:\n",
    "            if i in guess:\n",
    "                print(i, end=' ')\n",
    "                \n",
    "            else:\n",
    "                print('_', end=' ')\n",
    "        #ADD CODE 3: write the condition that checks if all letters are found. use set() function. compare guess and word\n",
    "        if set(guess) == set(word): \n",
    "            print('\\n\\nYou WIN!!!')\n",
    "            break"
   ]
  },
  {
   "cell_type": "markdown",
   "metadata": {},
   "source": [
    "Run the game:"
   ]
  },
  {
   "cell_type": "code",
   "execution_count": 10,
   "metadata": {},
   "outputs": [
    {
     "name": "stdout",
     "output_type": "stream",
     "text": [
      "\n",
      "Make a guess: a\n",
      "\n",
      "Correct answers!\n",
      "_ _ _ _ _ _ _ a \n",
      "Make a guess: e\n",
      "\n",
      "Correct answers!\n",
      "e _ _ _ e _ _ a \n",
      "Make a guess: i\n",
      "\n",
      "Correct answers!\n",
      "e _ _ _ e _ i a \n",
      "Make a guess: b\n",
      "\n",
      "We do not have b\n",
      "e _ _ _ e _ i a \n",
      "Make a guess: c\n",
      "\n",
      "Correct answers!\n",
      "e c _ _ e _ i a \n",
      "Make a guess: o\n",
      "\n",
      "We do not have o\n",
      "e c _ _ e _ i a \n",
      "Make a guess: r\n",
      "\n",
      "We do not have r\n",
      "e c _ _ e _ i a \n",
      "Make a guess: t\n",
      "\n",
      "We do not have t\n",
      "e c _ _ e _ i a \n",
      "Make a guess: n\n",
      "\n",
      "Correct answers!\n",
      "e c _ n e _ i a \n",
      "Make a guess: d\n",
      "\n",
      "We do not have d\n",
      "e c _ n e _ i a \n",
      "Make a guess: b\n",
      "\n",
      "We do not have b\n",
      "e c _ n e _ i a \n",
      "Make a guess: k\n",
      "\n",
      "We do not have k\n",
      "e c _ n e _ i a \n",
      "Make a guess: l\n",
      "\n",
      "We do not have l\n",
      "e c _ n e _ i a "
     ]
    }
   ],
   "source": [
    "#This part will be graded if it runs well.\n",
    "game()"
   ]
  },
  {
   "cell_type": "markdown",
   "metadata": {},
   "source": [
    "## Grading"
   ]
  },
  {
   "cell_type": "markdown",
   "metadata": {},
   "source": [
    "1. `pick_random_word(): 25%`\n",
    "2. `ADD CODE 1: 15%`\n",
    "3. `ADD CODE 2: 15%`\n",
    "4. `ADD CODE 3: 20%`\n",
    "5. `If game runs: 25%`"
   ]
  },
  {
   "cell_type": "code",
   "execution_count": null,
   "metadata": {
    "collapsed": true
   },
   "outputs": [],
   "source": []
  }
 ],
 "metadata": {
  "kernelspec": {
   "display_name": "Python 3",
   "language": "python",
   "name": "python3"
  },
  "language_info": {
   "codemirror_mode": {
    "name": "ipython",
    "version": 3
   },
   "file_extension": ".py",
   "mimetype": "text/x-python",
   "name": "python",
   "nbconvert_exporter": "python",
   "pygments_lexer": "ipython3",
   "version": "3.6.4"
  }
 },
 "nbformat": 4,
 "nbformat_minor": 2
}
