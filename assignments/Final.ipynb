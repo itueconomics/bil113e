{
 "cells": [
  {
   "cell_type": "markdown",
   "metadata": {},
   "source": [
    "# Final Project"
   ]
  },
  {
   "cell_type": "markdown",
   "metadata": {},
   "source": [
    "    Name: Name and Surname\n",
    "    Number: Student ID"
   ]
  },
  {
   "cell_type": "markdown",
   "metadata": {},
   "source": [
    "Each student have to do a different research on his/her own. To do so you need to find and download a dataset from [World Bank](http://databank.worldbank.org/data/). Follow the instructions carefully.\n",
    "\n",
    "- Upload your homework as HTML file: `File > Download as > HTML`\n",
    "- Ask your questions from [Nivova](http://ninova.itu.edu.tr)\n",
    "- You can get extra grade by showing your codes off. Extra grades can compensate your missing questions, partly. Simply, try to apply everything you have learned so far. *But do not make irrelevant coding.* \n",
    "- If you late for submission of the Final project to [Nivova](http://ninova.itu.edu.tr) then you have to get a report from deanery approving your excuse. \n",
    "\n",
    "Final project is very similar with the [Quiz 3](https://itueconomics.github.io/bil113e/assignments/pisa-scores.html). Carefully examine it. \n",
    "\n",
    "Good luck!"
   ]
  },
  {
   "cell_type": "markdown",
   "metadata": {},
   "source": [
    "## 1. Find Data and Research Question"
   ]
  },
  {
   "cell_type": "markdown",
   "metadata": {},
   "source": [
    "Go to the [World Bank](http://databank.worldbank.org/data/) and find a research question. Check out the next steps and make your decision accordingly. Research questions can be:\n",
    "\n",
    "- You can compare one country with world/region.\n",
    "- You can compare two countries for something.\n",
    "- You can compare all countries for something.\n",
    "- You can examine the progress of something withing a country/region/world.\n",
    "- You can find the relationship between two things like correlation between gdp and education.\n",
    "- and so on..."
   ]
  },
  {
   "cell_type": "markdown",
   "metadata": {},
   "source": [
    "You can help each other but pick up different topics. If you have the same topic and same answers then same projects will be considered as cheated. "
   ]
  },
  {
   "cell_type": "markdown",
   "metadata": {},
   "source": [
    "NOTE: Download your data as CSV or Excel. "
   ]
  },
  {
   "cell_type": "markdown",
   "metadata": {},
   "source": [
    "---> Answer HERE"
   ]
  },
  {
   "cell_type": "markdown",
   "metadata": {},
   "source": [
    "## 2. Clean Data"
   ]
  },
  {
   "cell_type": "markdown",
   "metadata": {},
   "source": [
    "Make sure your data is clean. Especially check out the `tail()`. There could be some empty rows in your dataframe."
   ]
  },
  {
   "cell_type": "code",
   "execution_count": 1,
   "metadata": {
    "collapsed": true
   },
   "outputs": [],
   "source": [
    "# Your Code Here"
   ]
  },
  {
   "cell_type": "markdown",
   "metadata": {},
   "source": [
    "## 3. Data Manipulation"
   ]
  },
  {
   "cell_type": "markdown",
   "metadata": {},
   "source": [
    "Make data manipulation:\n",
    "\n",
    "1. Is there any null rows?\n",
    "2. If there is null values what will you do?\n",
    "3. Can you do some extra calculation (like Average PISA score calculation)\n",
    "4. Clean unnecessary columns.\n",
    "5. and more...\n",
    "\n",
    "Show your code, do not make any comment."
   ]
  },
  {
   "cell_type": "code",
   "execution_count": 10,
   "metadata": {
    "collapsed": true
   },
   "outputs": [],
   "source": [
    "#Your code here"
   ]
  },
  {
   "cell_type": "markdown",
   "metadata": {},
   "source": [
    "## 4. Data Visualization"
   ]
  },
  {
   "cell_type": "markdown",
   "metadata": {},
   "source": [
    "Do data visualization properly. It should show something meaningful. "
   ]
  },
  {
   "cell_type": "code",
   "execution_count": 11,
   "metadata": {
    "collapsed": true
   },
   "outputs": [],
   "source": [
    "# Your code here"
   ]
  },
  {
   "cell_type": "markdown",
   "metadata": {},
   "source": [
    "NOTE: If you use extra attributes for data visualization you will get extra grade. Like adding grid, title, changing colors etc."
   ]
  },
  {
   "cell_type": "markdown",
   "metadata": {},
   "source": [
    "## 5. Statistical analysis"
   ]
  },
  {
   "cell_type": "markdown",
   "metadata": {},
   "source": [
    "You can:\n",
    "\n",
    "- Investigate the correlation between two or more variables/Series\n",
    "- Show the trends/seasonality of the series\n",
    "- Apply linear models as in [sklearn](https://itueconomics.github.io/bil113e/titanic.html) lecture.\n",
    "- Make forecasts\n",
    "- and so on..."
   ]
  },
  {
   "cell_type": "code",
   "execution_count": null,
   "metadata": {
    "collapsed": true
   },
   "outputs": [],
   "source": [
    "# Your code here"
   ]
  }
 ],
 "metadata": {
  "kernelspec": {
   "display_name": "Python 3",
   "language": "python",
   "name": "python3"
  },
  "language_info": {
   "codemirror_mode": {
    "name": "ipython",
    "version": 3
   },
   "file_extension": ".py",
   "mimetype": "text/x-python",
   "name": "python",
   "nbconvert_exporter": "python",
   "pygments_lexer": "ipython3",
   "version": "3.6.4"
  }
 },
 "nbformat": 4,
 "nbformat_minor": 2
}
