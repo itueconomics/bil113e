{
 "cells": [
  {
   "cell_type": "markdown",
   "metadata": {},
   "source": [
    "# Pandas Introduction"
   ]
  },
  {
   "cell_type": "markdown",
   "metadata": {},
   "source": [
    "Framework of this course and some examples are taken from the [Quantopian](https://www.quantopian.com/lectures). Quantopian lectures are not for Python version we use in the course. So there are some syntax differences. \n",
    "\n",
    "We far we learnt basic concepts about the libraries with [Numpy Introduction](https://itueconomics.github.io/bil113e/python2-numpy.html) course. We will introduce another major library used for stastics, big data and similar works. We will use pandas with numpy. So we import our libraries:"
   ]
  },
  {
   "cell_type": "code",
   "execution_count": 1,
   "metadata": {
    "collapsed": true
   },
   "outputs": [],
   "source": [
    "import numpy as np\n",
    "import pandas as pd"
   ]
  },
  {
   "cell_type": "markdown",
   "metadata": {},
   "source": [
    "Please add a command to show `matplotlib` libraries. We will introduce `matplotlib` library in the **Data Visualization** course later."
   ]
  },
  {
   "cell_type": "code",
   "execution_count": 2,
   "metadata": {
    "collapsed": true
   },
   "outputs": [],
   "source": [
    "%matplotlib inline"
   ]
  },
  {
   "cell_type": "markdown",
   "metadata": {},
   "source": [
    "Let's create a [random.normal](https://docs.scipy.org/doc/numpy/reference/generated/numpy.random.normal.html) function to define a random dataset contains 100 values, with mean $0$ and standard deviation $ 0.5$."
   ]
  },
  {
   "cell_type": "code",
   "execution_count": 3,
   "metadata": {
    "collapsed": true
   },
   "outputs": [],
   "source": [
    "dist = np.random.normal(0, 0.5, (100,))"
   ]
  },
  {
   "cell_type": "code",
   "execution_count": 4,
   "metadata": {},
   "outputs": [
    {
     "name": "stdout",
     "output_type": "stream",
     "text": [
      "(100,)\n"
     ]
    }
   ],
   "source": [
    "print(dist.shape)"
   ]
  },
  {
   "cell_type": "markdown",
   "metadata": {},
   "source": [
    "## Series"
   ]
  },
  {
   "cell_type": "markdown",
   "metadata": {},
   "source": [
    "Using `pandas` library we can convert `dist` array into a `Series`:"
   ]
  },
  {
   "cell_type": "code",
   "execution_count": 5,
   "metadata": {
    "collapsed": true
   },
   "outputs": [],
   "source": [
    "s = pd.Series(dist)"
   ]
  },
  {
   "cell_type": "code",
   "execution_count": 6,
   "metadata": {},
   "outputs": [
    {
     "data": {
      "text/plain": [
       "0   -0.321964\n",
       "1    0.280593\n",
       "2   -0.005053\n",
       "3   -0.201538\n",
       "4    0.029836\n",
       "dtype: float64"
      ]
     },
     "execution_count": 6,
     "metadata": {},
     "output_type": "execute_result"
    }
   ],
   "source": [
    "s.head() # First 5 element"
   ]
  },
  {
   "cell_type": "code",
   "execution_count": 7,
   "metadata": {},
   "outputs": [
    {
     "data": {
      "text/plain": [
       "0   -0.321964\n",
       "1    0.280593\n",
       "2   -0.005053\n",
       "3   -0.201538\n",
       "4    0.029836\n",
       "5    0.029218\n",
       "6    0.894343\n",
       "7    0.081845\n",
       "8   -0.483552\n",
       "9   -0.073439\n",
       "dtype: float64"
      ]
     },
     "execution_count": 7,
     "metadata": {},
     "output_type": "execute_result"
    }
   ],
   "source": [
    "s.head(10) # First 10 element"
   ]
  },
  {
   "cell_type": "code",
   "execution_count": 8,
   "metadata": {},
   "outputs": [
    {
     "data": {
      "text/plain": [
       "95   -0.621613\n",
       "96    0.179452\n",
       "97    0.156116\n",
       "98    0.025205\n",
       "99    0.169320\n",
       "dtype: float64"
      ]
     },
     "execution_count": 8,
     "metadata": {},
     "output_type": "execute_result"
    }
   ],
   "source": [
    "s.tail() # Last 5 element"
   ]
  },
  {
   "cell_type": "code",
   "execution_count": 9,
   "metadata": {},
   "outputs": [
    {
     "data": {
      "text/plain": [
       "90   -0.294686\n",
       "91   -0.430115\n",
       "92    0.826325\n",
       "93   -0.909499\n",
       "94    0.323734\n",
       "95   -0.621613\n",
       "96    0.179452\n",
       "97    0.156116\n",
       "98    0.025205\n",
       "99    0.169320\n",
       "dtype: float64"
      ]
     },
     "execution_count": 9,
     "metadata": {},
     "output_type": "execute_result"
    }
   ],
   "source": [
    "s.tail(10) # Last 10 element"
   ]
  },
  {
   "cell_type": "code",
   "execution_count": 10,
   "metadata": {},
   "outputs": [
    {
     "data": {
      "text/plain": [
       "<matplotlib.axes._subplots.AxesSubplot at 0x1ea7c4f9a58>"
      ]
     },
     "execution_count": 10,
     "metadata": {},
     "output_type": "execute_result"
    },
    {
     "data": {
      "image/png": "[encoded data removed]",
      "text/plain": [
       "<matplotlib.figure.Figure at 0x1ea7c4efbe0>"
      ]
     },
     "metadata": {},
     "output_type": "display_data"
    }
   ],
   "source": [
    "s.plot()"
   ]
  },
  {
   "cell_type": "markdown",
   "metadata": {},
   "source": [
    "This is our Series data. Unlike the arrays Series have other options. `Series` are more useful for data analysis compared to the arrays. Though they have different uses. "
   ]
  },
  {
   "cell_type": "code",
   "execution_count": 11,
   "metadata": {},
   "outputs": [
    {
     "name": "stdout",
     "output_type": "stream",
     "text": [
      "None\n"
     ]
    }
   ],
   "source": [
    "print(s.name)"
   ]
  },
  {
   "cell_type": "markdown",
   "metadata": {},
   "source": [
    "We do not have a name for series. Let's define it:"
   ]
  },
  {
   "cell_type": "code",
   "execution_count": 12,
   "metadata": {},
   "outputs": [
    {
     "name": "stdout",
     "output_type": "stream",
     "text": [
      "Stock returns\n"
     ]
    }
   ],
   "source": [
    "s.name = \"Stock returns\"\n",
    "print(s.name)"
   ]
  },
  {
   "cell_type": "code",
   "execution_count": 13,
   "metadata": {},
   "outputs": [
    {
     "name": "stdout",
     "output_type": "stream",
     "text": [
      "RangeIndex(start=0, stop=100, step=1)\n"
     ]
    }
   ],
   "source": [
    "print(s.index)"
   ]
  },
  {
   "cell_type": "markdown",
   "metadata": {},
   "source": [
    "Assume that this is a return data of a stock. So the Index range should be data, daily:"
   ]
  },
  {
   "cell_type": "markdown",
   "metadata": {},
   "source": [
    "[pandas.date_range](https://pandas.pydata.org/pandas-docs/stable/generated/pandas.date_range.html)"
   ]
  },
  {
   "cell_type": "code",
   "execution_count": 14,
   "metadata": {
    "collapsed": true
   },
   "outputs": [],
   "source": [
    "new_index = pd.date_range(\"2016-01-01\", periods=len(s), freq=\"B\")"
   ]
  },
  {
   "cell_type": "markdown",
   "metadata": {},
   "source": [
    "- set a starting date: `2016-01-01`\n",
    "- defined the periods with: `len(s)`\n",
    "- frequency created for the business days to skip weekends: `B`"
   ]
  },
  {
   "cell_type": "code",
   "execution_count": 15,
   "metadata": {
    "collapsed": true
   },
   "outputs": [],
   "source": [
    "s.index = new_index"
   ]
  },
  {
   "cell_type": "markdown",
   "metadata": {},
   "source": [
    "We change the series index with `new_index` created above. Let's plot it:"
   ]
  },
  {
   "cell_type": "markdown",
   "metadata": {},
   "source": [
    "[pandas.series.plot](https://pandas.pydata.org/pandas-docs/stable/generated/pandas.Series.plot.html)"
   ]
  },
  {
   "cell_type": "code",
   "execution_count": 16,
   "metadata": {},
   "outputs": [
    {
     "data": {
      "text/plain": [
       "<matplotlib.axes._subplots.AxesSubplot at 0x1ea7c800c50>"
      ]
     },
     "execution_count": 16,
     "metadata": {},
     "output_type": "execute_result"
    },
    {
     "data": {
      "image/png": "[encoded data removed]",
      "text/plain": [
       "<matplotlib.figure.Figure at 0x1ea7c59c710>"
      ]
     },
     "metadata": {},
     "output_type": "display_data"
    }
   ],
   "source": [
    "s.plot(title=s.name)"
   ]
  },
  {
   "cell_type": "markdown",
   "metadata": {},
   "source": [
    "Well... We have a more proper plot compared to the first one. Please be careful about the options. "
   ]
  },
  {
   "cell_type": "markdown",
   "metadata": {},
   "source": [
    "Assume these values are percentage, like `1%`. What happened at the end of the day? We need to define them as $s \\times 0.01 + $ to see their true values. After this process we will find cumulative product:"
   ]
  },
  {
   "cell_type": "code",
   "execution_count": 17,
   "metadata": {},
   "outputs": [
    {
     "data": {
      "text/plain": [
       "<matplotlib.axes._subplots.AxesSubplot at 0x1ea7c5bceb8>"
      ]
     },
     "execution_count": 17,
     "metadata": {},
     "output_type": "execute_result"
    },
    {
     "data": {
      "image/png": "[encoded data removed]",
      "text/plain": [
       "<matplotlib.figure.Figure at 0x1ea7c8fd588>"
      ]
     },
     "metadata": {},
     "output_type": "display_data"
    }
   ],
   "source": [
    "s_cum = (s*0.01 + 1).cumprod()\n",
    "s_cum.plot(title=s_cum.name)"
   ]
  },
  {
   "cell_type": "markdown",
   "metadata": {},
   "source": [
    "It looks like within 100 days our stock price increased/decreased(percent): "
   ]
  },
  {
   "cell_type": "code",
   "execution_count": 18,
   "metadata": {},
   "outputs": [
    {
     "name": "stdout",
     "output_type": "stream",
     "text": [
      "-6.38563287385\n"
     ]
    }
   ],
   "source": [
    "print((s_cum[-1] - 1)*100)"
   ]
  },
  {
   "cell_type": "markdown",
   "metadata": {},
   "source": [
    "### Accessing elements"
   ]
  },
  {
   "cell_type": "markdown",
   "metadata": {},
   "source": [
    "`iloc[start:end:step]`"
   ]
  },
  {
   "cell_type": "markdown",
   "metadata": {},
   "source": [
    "By default `step=1`."
   ]
  },
  {
   "cell_type": "code",
   "execution_count": 19,
   "metadata": {},
   "outputs": [
    {
     "name": "stdout",
     "output_type": "stream",
     "text": [
      "First element of the series:  -0.321964108236\n",
      "Last element of the series:  0.169319950875\n",
      "(or) Last element of the series:  0.169319950875\n"
     ]
    }
   ],
   "source": [
    "print(\"First element of the series: \", s.iloc[0])\n",
    "print(\"Last element of the series: \", s.iloc[len(s)-1])\n",
    "print(\"(or) Last element of the series: \", s.iloc[-1])"
   ]
  },
  {
   "cell_type": "markdown",
   "metadata": {},
   "source": [
    "You can make slicing:"
   ]
  },
  {
   "cell_type": "code",
   "execution_count": 20,
   "metadata": {},
   "outputs": [
    {
     "name": "stdout",
     "output_type": "stream",
     "text": [
      "2016-01-01   -0.321964\n",
      "2016-01-04    0.280593\n",
      "2016-01-05   -0.005053\n",
      "2016-01-06   -0.201538\n",
      "2016-01-07    0.029836\n",
      "2016-01-08    0.029218\n",
      "2016-01-11    0.894343\n",
      "2016-01-12    0.081845\n",
      "2016-01-13   -0.483552\n",
      "2016-01-14   -0.073439\n",
      "Freq: B, Name: Stock returns, dtype: float64\n"
     ]
    }
   ],
   "source": [
    "print(s.iloc[:10])"
   ]
  },
  {
   "cell_type": "code",
   "execution_count": 21,
   "metadata": {},
   "outputs": [
    {
     "name": "stdout",
     "output_type": "stream",
     "text": [
      "2016-01-01   -0.321964\n",
      "2016-01-15    0.414508\n",
      "2016-01-29   -0.616066\n",
      "2016-02-12   -0.091768\n",
      "2016-02-26    0.408072\n",
      "2016-03-11    0.011427\n",
      "2016-03-25    0.783694\n",
      "2016-04-08    0.654312\n",
      "2016-04-22   -0.181374\n",
      "2016-05-06   -0.294686\n",
      "Freq: 10B, Name: Stock returns, dtype: float64\n"
     ]
    }
   ],
   "source": [
    "print(s.iloc[:100:10])"
   ]
  },
  {
   "cell_type": "markdown",
   "metadata": {},
   "source": [
    "You can access series elements with `index_name`:"
   ]
  },
  {
   "cell_type": "code",
   "execution_count": 22,
   "metadata": {},
   "outputs": [
    {
     "name": "stdout",
     "output_type": "stream",
     "text": [
      "-0.321964108236\n"
     ]
    }
   ],
   "source": [
    "print(s.loc['2016-01-01'])"
   ]
  },
  {
   "cell_type": "code",
   "execution_count": 23,
   "metadata": {},
   "outputs": [
    {
     "name": "stdout",
     "output_type": "stream",
     "text": [
      "2016-01-01   -0.321964\n",
      "2016-01-04    0.280593\n",
      "2016-01-05   -0.005053\n",
      "2016-01-06   -0.201538\n",
      "2016-01-07    0.029836\n",
      "2016-01-08    0.029218\n",
      "Freq: B, Name: Stock returns, dtype: float64\n"
     ]
    }
   ],
   "source": [
    "print(s.loc['2016-01-01':'2016-01-10']) # Between dates"
   ]
  },
  {
   "cell_type": "markdown",
   "metadata": {},
   "source": [
    "### Boolean"
   ]
  },
  {
   "cell_type": "markdown",
   "metadata": {},
   "source": [
    "Which dates have negative returns?"
   ]
  },
  {
   "cell_type": "code",
   "execution_count": 24,
   "metadata": {},
   "outputs": [
    {
     "name": "stdout",
     "output_type": "stream",
     "text": [
      "2016-01-01     True\n",
      "2016-01-04    False\n",
      "2016-01-05     True\n",
      "2016-01-06     True\n",
      "2016-01-07    False\n",
      "Freq: B, Name: Stock returns, dtype: bool\n"
     ]
    }
   ],
   "source": [
    "print((s < 0).head())"
   ]
  },
  {
   "cell_type": "markdown",
   "metadata": {},
   "source": [
    "How to access those series?"
   ]
  },
  {
   "cell_type": "code",
   "execution_count": 25,
   "metadata": {},
   "outputs": [
    {
     "name": "stdout",
     "output_type": "stream",
     "text": [
      "2016-01-01   -0.321964\n",
      "2016-01-05   -0.005053\n",
      "2016-01-06   -0.201538\n",
      "2016-01-13   -0.483552\n",
      "2016-01-14   -0.073439\n",
      "Name: Stock returns, dtype: float64\n"
     ]
    }
   ],
   "source": [
    "print(s[s < 0].head())"
   ]
  },
  {
   "cell_type": "code",
   "execution_count": 26,
   "metadata": {},
   "outputs": [
    {
     "name": "stdout",
     "output_type": "stream",
     "text": [
      "Series([], Freq: B, Name: Stock returns, dtype: float64)\n"
     ]
    }
   ],
   "source": [
    "print(s[s > 1])"
   ]
  },
  {
   "cell_type": "markdown",
   "metadata": {},
   "source": [
    "It looks like we have only series above that are greater than 1."
   ]
  },
  {
   "cell_type": "code",
   "execution_count": 27,
   "metadata": {},
   "outputs": [
    {
     "name": "stdout",
     "output_type": "stream",
     "text": [
      "2016-03-29   -1.351139\n",
      "2016-03-31   -1.198884\n",
      "Name: Stock returns, dtype: float64\n"
     ]
    }
   ],
   "source": [
    "print(s[(s > 1) | (s < -1)])"
   ]
  },
  {
   "cell_type": "markdown",
   "metadata": {},
   "source": [
    "Or simply:"
   ]
  },
  {
   "cell_type": "code",
   "execution_count": 28,
   "metadata": {},
   "outputs": [
    {
     "name": "stdout",
     "output_type": "stream",
     "text": [
      "2016-03-29   -1.351139\n",
      "2016-03-31   -1.198884\n",
      "Name: Stock returns, dtype: float64\n"
     ]
    }
   ],
   "source": [
    "print(s[np.abs(s) > 1])"
   ]
  },
  {
   "cell_type": "markdown",
   "metadata": {},
   "source": [
    "### Some basic functions:"
   ]
  },
  {
   "cell_type": "code",
   "execution_count": 29,
   "metadata": {},
   "outputs": [
    {
     "name": "stdout",
     "output_type": "stream",
     "text": [
      "-0.06487877851757855\n",
      "0.4680387792000749\n",
      "0.894343278417\n",
      "-1.35113890671\n",
      "-0.06044505067116986\n"
     ]
    }
   ],
   "source": [
    "print(s.mean()) # mean\n",
    "print(s.std()) # standard deviation\n",
    "print(s.max()) # max value\n",
    "print(s.min()) # min value\n",
    "print(s.median()) # median value"
   ]
  },
  {
   "cell_type": "markdown",
   "metadata": {},
   "source": [
    "You can do all by just `describe` function:"
   ]
  },
  {
   "cell_type": "code",
   "execution_count": 30,
   "metadata": {},
   "outputs": [
    {
     "data": {
      "text/plain": [
       "count    100.000000\n",
       "mean      -0.064879\n",
       "std        0.468039\n",
       "min       -1.351139\n",
       "25%       -0.322890\n",
       "50%       -0.060445\n",
       "75%        0.234964\n",
       "max        0.894343\n",
       "Name: Stock returns, dtype: float64"
      ]
     },
     "execution_count": 30,
     "metadata": {},
     "output_type": "execute_result"
    }
   ],
   "source": [
    "s.describe()"
   ]
  },
  {
   "cell_type": "code",
   "execution_count": 31,
   "metadata": {},
   "outputs": [
    {
     "name": "stdout",
     "output_type": "stream",
     "text": [
      "2016-01-01    0.321964\n",
      "2016-01-04    0.280593\n",
      "2016-01-05    0.005053\n",
      "2016-01-06    0.201538\n",
      "2016-01-07    0.029836\n",
      "Freq: B, Name: Stock returns, dtype: float64\n"
     ]
    }
   ],
   "source": [
    "print(s.abs().head()) # Returns absolute values"
   ]
  },
  {
   "cell_type": "markdown",
   "metadata": {},
   "source": [
    "### NaN values"
   ]
  },
  {
   "cell_type": "code",
   "execution_count": 32,
   "metadata": {
    "collapsed": true
   },
   "outputs": [],
   "source": [
    "new_series = pd.Series([1,5,np.nan,2,6,8,2,np.nan])"
   ]
  },
  {
   "cell_type": "code",
   "execution_count": 33,
   "metadata": {},
   "outputs": [
    {
     "data": {
      "text/plain": [
       "<matplotlib.axes._subplots.AxesSubplot at 0x1ea7c8997f0>"
      ]
     },
     "execution_count": 33,
     "metadata": {},
     "output_type": "execute_result"
    },
    {
     "data": {
      "image/png": "[encoded data removed]",
      "text/plain": [
       "<matplotlib.figure.Figure at 0x1ea7c845550>"
      ]
     },
     "metadata": {},
     "output_type": "display_data"
    }
   ],
   "source": [
    "new_series.plot()"
   ]
  },
  {
   "cell_type": "markdown",
   "metadata": {},
   "source": [
    "We can drop null values:"
   ]
  },
  {
   "cell_type": "code",
   "execution_count": 34,
   "metadata": {
    "collapsed": true
   },
   "outputs": [],
   "source": [
    "new_series = new_series.dropna()"
   ]
  },
  {
   "cell_type": "code",
   "execution_count": 35,
   "metadata": {},
   "outputs": [
    {
     "data": {
      "text/plain": [
       "<matplotlib.axes._subplots.AxesSubplot at 0x1ea7c950048>"
      ]
     },
     "execution_count": 35,
     "metadata": {},
     "output_type": "execute_result"
    },
    {
     "data": {
      "image/png": "[encoded data removed]",
      "text/plain": [
       "<matplotlib.figure.Figure at 0x1ea7c95feb8>"
      ]
     },
     "metadata": {},
     "output_type": "display_data"
    }
   ],
   "source": [
    "new_series.plot()"
   ]
  },
  {
   "cell_type": "markdown",
   "metadata": {},
   "source": [
    "## DataFrame"
   ]
  },
  {
   "cell_type": "markdown",
   "metadata": {},
   "source": [
    "[pandas.DataFrame](https://pandas.pydata.org/pandas-docs/stable/generated/pandas.DataFrame.html)"
   ]
  },
  {
   "cell_type": "markdown",
   "metadata": {},
   "source": [
    "- Dataframe\n",
    "- rolling mean\n",
    "- file operations"
   ]
  },
  {
   "cell_type": "markdown",
   "metadata": {},
   "source": [
    "We can carry many operations of the `Series` within the `pandas.DataFrame`"
   ]
  },
  {
   "cell_type": "code",
   "execution_count": 36,
   "metadata": {},
   "outputs": [
    {
     "name": "stdout",
     "output_type": "stream",
     "text": [
      "{'a': [1, 2, 3, 4, 5], 'b': ['L', 'K', 'J', 'M', 'Z'], 'c': array([ 0.8556798 ,  1.90921447, -0.57658977, -1.27079435,  0.99856942])}\n"
     ]
    }
   ],
   "source": [
    "dict_data = {\n",
    "    'a' : [1, 2, 3, 4, 5],\n",
    "    'b' : ['L', 'K', 'J', 'M', 'Z'],\n",
    "    'c' : np.random.normal(0, 1, 5)\n",
    "}\n",
    "print (dict_data)"
   ]
  },
  {
   "cell_type": "code",
   "execution_count": 37,
   "metadata": {},
   "outputs": [
    {
     "name": "stdout",
     "output_type": "stream",
     "text": [
      "            a  b         c\n",
      "2016-01-01  1  L  0.855680\n",
      "2016-01-02  2  K  1.909214\n",
      "2016-01-03  3  J -0.576590\n",
      "2016-01-04  4  M -1.270794\n",
      "2016-01-05  5  Z  0.998569\n"
     ]
    }
   ],
   "source": [
    "df = pd.DataFrame(dict_data, index=pd.date_range('2016-01-01', periods=5))\n",
    "print (df)"
   ]
  },
  {
   "cell_type": "markdown",
   "metadata": {},
   "source": [
    "What happened here is that we define three series named `a, b, and c`. They can converted to the `pandas.Series` seperately instead we create a `DataFrame` to combine all attributes. Each column in the `DataFrame` are a `pandas.Series`."
   ]
  },
  {
   "cell_type": "code",
   "execution_count": 38,
   "metadata": {},
   "outputs": [
    {
     "name": "stdout",
     "output_type": "stream",
     "text": [
      "<class 'pandas.core.series.Series'>\n",
      "<class 'pandas.core.series.Series'>\n",
      "<class 'pandas.core.series.Series'>\n"
     ]
    }
   ],
   "source": [
    "print(type(df['a']))\n",
    "print(type(df['b']))\n",
    "print(type(df['c']))"
   ]
  },
  {
   "cell_type": "markdown",
   "metadata": {},
   "source": [
    "But together:"
   ]
  },
  {
   "cell_type": "code",
   "execution_count": 39,
   "metadata": {},
   "outputs": [
    {
     "name": "stdout",
     "output_type": "stream",
     "text": [
      "<class 'pandas.core.frame.DataFrame'>\n"
     ]
    }
   ],
   "source": [
    "print(type(df))"
   ]
  },
  {
   "cell_type": "markdown",
   "metadata": {},
   "source": [
    "You can define a `DataFrame` in many ways:"
   ]
  },
  {
   "cell_type": "markdown",
   "metadata": {},
   "source": [
    "You do not necessarly type the name of the column. You can just write down the column indexes. First column is:"
   ]
  },
  {
   "cell_type": "code",
   "execution_count": 40,
   "metadata": {},
   "outputs": [
    {
     "data": {
      "text/plain": [
       "2016-01-01    1\n",
       "2016-01-02    2\n",
       "2016-01-03    3\n",
       "2016-01-04    4\n",
       "2016-01-05    5\n",
       "Freq: D, Name: a, dtype: int64"
      ]
     },
     "execution_count": 40,
     "metadata": {},
     "output_type": "execute_result"
    }
   ],
   "source": [
    "df.iloc[:,0].head()"
   ]
  },
  {
   "cell_type": "code",
   "execution_count": 41,
   "metadata": {},
   "outputs": [
    {
     "name": "stdout",
     "output_type": "stream",
     "text": [
      "   Evens  Odds\n",
      "0      2     1\n",
      "1      4     3\n",
      "2      6     5\n",
      "3      8     7\n",
      "4     10     9\n"
     ]
    }
   ],
   "source": [
    "s_1 = pd.Series([2, 4, 6, 8, 10], name='Evens')\n",
    "s_2 = pd.Series([1, 3, 5, 7, 9], name=\"Odds\")\n",
    "numbers = pd.concat([s_1, s_2], axis=1)\n",
    "print(numbers)"
   ]
  },
  {
   "cell_type": "markdown",
   "metadata": {},
   "source": [
    "Column names:"
   ]
  },
  {
   "cell_type": "code",
   "execution_count": 42,
   "metadata": {},
   "outputs": [
    {
     "name": "stdout",
     "output_type": "stream",
     "text": [
      "Index(['Evens', 'Odds'], dtype='object')\n"
     ]
    }
   ],
   "source": [
    "print(numbers.columns)"
   ]
  },
  {
   "cell_type": "markdown",
   "metadata": {},
   "source": [
    "Change column names:"
   ]
  },
  {
   "cell_type": "code",
   "execution_count": 43,
   "metadata": {
    "collapsed": true
   },
   "outputs": [],
   "source": [
    "numbers.columns = ['Shmevens', 'Shmodds']"
   ]
  },
  {
   "cell_type": "code",
   "execution_count": 44,
   "metadata": {},
   "outputs": [
    {
     "name": "stdout",
     "output_type": "stream",
     "text": [
      "   Shmevens  Shmodds\n",
      "0         2        1\n",
      "1         4        3\n",
      "2         6        5\n",
      "3         8        7\n",
      "4        10        9\n"
     ]
    }
   ],
   "source": [
    "print(numbers)"
   ]
  },
  {
   "cell_type": "markdown",
   "metadata": {},
   "source": [
    "Most of the attributes of the `pandas.Series` are valid for `DataFrames`:"
   ]
  },
  {
   "cell_type": "code",
   "execution_count": 45,
   "metadata": {},
   "outputs": [
    {
     "name": "stdout",
     "output_type": "stream",
     "text": [
      "RangeIndex(start=0, stop=5, step=1)\n"
     ]
    }
   ],
   "source": [
    "print(numbers.index)"
   ]
  },
  {
   "cell_type": "code",
   "execution_count": 46,
   "metadata": {},
   "outputs": [
    {
     "name": "stdout",
     "output_type": "stream",
     "text": [
      "            Shmevens  Shmodds\n",
      "2016-01-01         2        1\n",
      "2016-01-02         4        3\n",
      "2016-01-03         6        5\n",
      "2016-01-04         8        7\n",
      "2016-01-05        10        9\n"
     ]
    }
   ],
   "source": [
    "numbers.index = pd.date_range(\"2016-01-01\", periods=len(numbers))\n",
    "print(numbers)"
   ]
  },
  {
   "cell_type": "code",
   "execution_count": 47,
   "metadata": {},
   "outputs": [
    {
     "name": "stdout",
     "output_type": "stream",
     "text": [
      "[[ 2  1]\n",
      " [ 4  3]\n",
      " [ 6  5]\n",
      " [ 8  7]\n",
      " [10  9]]\n"
     ]
    }
   ],
   "source": [
    "print(numbers.values)"
   ]
  },
  {
   "cell_type": "markdown",
   "metadata": {},
   "source": [
    "Let's create a similar DataFrame as done with series, randomly:"
   ]
  },
  {
   "cell_type": "code",
   "execution_count": 48,
   "metadata": {
    "collapsed": true
   },
   "outputs": [],
   "source": [
    "dist = np.random.normal(0, 0.5, (100,10))"
   ]
  },
  {
   "cell_type": "code",
   "execution_count": 49,
   "metadata": {},
   "outputs": [
    {
     "data": {
      "text/html": [
       "<div>\n",
       "<style>\n",
       "    .dataframe thead tr:only-child th {\n",
       "        text-align: right;\n",
       "    }\n",
       "\n",
       "    .dataframe thead th {\n",
       "        text-align: left;\n",
       "    }\n",
       "\n",
       "    .dataframe tbody tr th {\n",
       "        vertical-align: top;\n",
       "    }\n",
       "</style>\n",
       "<table border=\"1\" class=\"dataframe\">\n",
       "  <thead>\n",
       "    <tr style=\"text-align: right;\">\n",
       "      <th></th>\n",
       "      <th>0</th>\n",
       "      <th>1</th>\n",
       "      <th>2</th>\n",
       "      <th>3</th>\n",
       "      <th>4</th>\n",
       "      <th>5</th>\n",
       "      <th>6</th>\n",
       "      <th>7</th>\n",
       "      <th>8</th>\n",
       "      <th>9</th>\n",
       "    </tr>\n",
       "  </thead>\n",
       "  <tbody>\n",
       "    <tr>\n",
       "      <th>0</th>\n",
       "      <td>-0.073456</td>\n",
       "      <td>-0.214274</td>\n",
       "      <td>-0.436774</td>\n",
       "      <td>-0.486635</td>\n",
       "      <td>-1.069038</td>\n",
       "      <td>-1.381537</td>\n",
       "      <td>0.082776</td>\n",
       "      <td>-1.062746</td>\n",
       "      <td>0.823630</td>\n",
       "      <td>-0.301270</td>\n",
       "    </tr>\n",
       "    <tr>\n",
       "      <th>1</th>\n",
       "      <td>-0.406194</td>\n",
       "      <td>0.150647</td>\n",
       "      <td>-0.364099</td>\n",
       "      <td>-0.893591</td>\n",
       "      <td>-0.031166</td>\n",
       "      <td>0.623430</td>\n",
       "      <td>0.233466</td>\n",
       "      <td>0.624065</td>\n",
       "      <td>0.903526</td>\n",
       "      <td>0.142565</td>\n",
       "    </tr>\n",
       "    <tr>\n",
       "      <th>2</th>\n",
       "      <td>-0.070739</td>\n",
       "      <td>0.096734</td>\n",
       "      <td>0.088027</td>\n",
       "      <td>-0.041823</td>\n",
       "      <td>0.092651</td>\n",
       "      <td>-0.696343</td>\n",
       "      <td>-0.198983</td>\n",
       "      <td>0.321534</td>\n",
       "      <td>-0.374691</td>\n",
       "      <td>0.863783</td>\n",
       "    </tr>\n",
       "    <tr>\n",
       "      <th>3</th>\n",
       "      <td>0.217489</td>\n",
       "      <td>-0.407413</td>\n",
       "      <td>-0.248128</td>\n",
       "      <td>-0.070824</td>\n",
       "      <td>-0.032970</td>\n",
       "      <td>-0.844033</td>\n",
       "      <td>-0.694498</td>\n",
       "      <td>-0.053734</td>\n",
       "      <td>0.707750</td>\n",
       "      <td>0.688689</td>\n",
       "    </tr>\n",
       "    <tr>\n",
       "      <th>4</th>\n",
       "      <td>0.854233</td>\n",
       "      <td>0.565743</td>\n",
       "      <td>0.410882</td>\n",
       "      <td>-0.924071</td>\n",
       "      <td>0.626029</td>\n",
       "      <td>-0.579001</td>\n",
       "      <td>0.032065</td>\n",
       "      <td>0.672347</td>\n",
       "      <td>0.085758</td>\n",
       "      <td>-1.296039</td>\n",
       "    </tr>\n",
       "  </tbody>\n",
       "</table>\n",
       "</div>"
      ],
      "text/plain": [
       "          0         1         2         3         4         5         6  \\\n",
       "0 -0.073456 -0.214274 -0.436774 -0.486635 -1.069038 -1.381537  0.082776   \n",
       "1 -0.406194  0.150647 -0.364099 -0.893591 -0.031166  0.623430  0.233466   \n",
       "2 -0.070739  0.096734  0.088027 -0.041823  0.092651 -0.696343 -0.198983   \n",
       "3  0.217489 -0.407413 -0.248128 -0.070824 -0.032970 -0.844033 -0.694498   \n",
       "4  0.854233  0.565743  0.410882 -0.924071  0.626029 -0.579001  0.032065   \n",
       "\n",
       "          7         8         9  \n",
       "0 -1.062746  0.823630 -0.301270  \n",
       "1  0.624065  0.903526  0.142565  \n",
       "2  0.321534 -0.374691  0.863783  \n",
       "3 -0.053734  0.707750  0.688689  \n",
       "4  0.672347  0.085758 -1.296039  "
      ]
     },
     "execution_count": 49,
     "metadata": {},
     "output_type": "execute_result"
    }
   ],
   "source": [
    "df = pd.DataFrame(dist)\n",
    "df.head()"
   ]
  },
  {
   "cell_type": "code",
   "execution_count": 50,
   "metadata": {
    "collapsed": true
   },
   "outputs": [],
   "source": [
    "df.index = pd.date_range(\"2016-01-01\", periods=len(df.index), freq='B')"
   ]
  },
  {
   "cell_type": "code",
   "execution_count": 51,
   "metadata": {
    "collapsed": true
   },
   "outputs": [],
   "source": [
    "df.columns = ['Stck {}'.format(str(i)) for i in range(1,11)]"
   ]
  },
  {
   "cell_type": "code",
   "execution_count": 52,
   "metadata": {},
   "outputs": [
    {
     "data": {
      "text/html": [
       "<div>\n",
       "<style>\n",
       "    .dataframe thead tr:only-child th {\n",
       "        text-align: right;\n",
       "    }\n",
       "\n",
       "    .dataframe thead th {\n",
       "        text-align: left;\n",
       "    }\n",
       "\n",
       "    .dataframe tbody tr th {\n",
       "        vertical-align: top;\n",
       "    }\n",
       "</style>\n",
       "<table border=\"1\" class=\"dataframe\">\n",
       "  <thead>\n",
       "    <tr style=\"text-align: right;\">\n",
       "      <th></th>\n",
       "      <th>Stck 1</th>\n",
       "      <th>Stck 2</th>\n",
       "      <th>Stck 3</th>\n",
       "      <th>Stck 4</th>\n",
       "      <th>Stck 5</th>\n",
       "      <th>Stck 6</th>\n",
       "      <th>Stck 7</th>\n",
       "      <th>Stck 8</th>\n",
       "      <th>Stck 9</th>\n",
       "      <th>Stck 10</th>\n",
       "    </tr>\n",
       "  </thead>\n",
       "  <tbody>\n",
       "    <tr>\n",
       "      <th>2016-01-01</th>\n",
       "      <td>-0.073456</td>\n",
       "      <td>-0.214274</td>\n",
       "      <td>-0.436774</td>\n",
       "      <td>-0.486635</td>\n",
       "      <td>-1.069038</td>\n",
       "      <td>-1.381537</td>\n",
       "      <td>0.082776</td>\n",
       "      <td>-1.062746</td>\n",
       "      <td>0.823630</td>\n",
       "      <td>-0.301270</td>\n",
       "    </tr>\n",
       "    <tr>\n",
       "      <th>2016-01-04</th>\n",
       "      <td>-0.406194</td>\n",
       "      <td>0.150647</td>\n",
       "      <td>-0.364099</td>\n",
       "      <td>-0.893591</td>\n",
       "      <td>-0.031166</td>\n",
       "      <td>0.623430</td>\n",
       "      <td>0.233466</td>\n",
       "      <td>0.624065</td>\n",
       "      <td>0.903526</td>\n",
       "      <td>0.142565</td>\n",
       "    </tr>\n",
       "    <tr>\n",
       "      <th>2016-01-05</th>\n",
       "      <td>-0.070739</td>\n",
       "      <td>0.096734</td>\n",
       "      <td>0.088027</td>\n",
       "      <td>-0.041823</td>\n",
       "      <td>0.092651</td>\n",
       "      <td>-0.696343</td>\n",
       "      <td>-0.198983</td>\n",
       "      <td>0.321534</td>\n",
       "      <td>-0.374691</td>\n",
       "      <td>0.863783</td>\n",
       "    </tr>\n",
       "    <tr>\n",
       "      <th>2016-01-06</th>\n",
       "      <td>0.217489</td>\n",
       "      <td>-0.407413</td>\n",
       "      <td>-0.248128</td>\n",
       "      <td>-0.070824</td>\n",
       "      <td>-0.032970</td>\n",
       "      <td>-0.844033</td>\n",
       "      <td>-0.694498</td>\n",
       "      <td>-0.053734</td>\n",
       "      <td>0.707750</td>\n",
       "      <td>0.688689</td>\n",
       "    </tr>\n",
       "    <tr>\n",
       "      <th>2016-01-07</th>\n",
       "      <td>0.854233</td>\n",
       "      <td>0.565743</td>\n",
       "      <td>0.410882</td>\n",
       "      <td>-0.924071</td>\n",
       "      <td>0.626029</td>\n",
       "      <td>-0.579001</td>\n",
       "      <td>0.032065</td>\n",
       "      <td>0.672347</td>\n",
       "      <td>0.085758</td>\n",
       "      <td>-1.296039</td>\n",
       "    </tr>\n",
       "  </tbody>\n",
       "</table>\n",
       "</div>"
      ],
      "text/plain": [
       "              Stck 1    Stck 2    Stck 3    Stck 4    Stck 5    Stck 6  \\\n",
       "2016-01-01 -0.073456 -0.214274 -0.436774 -0.486635 -1.069038 -1.381537   \n",
       "2016-01-04 -0.406194  0.150647 -0.364099 -0.893591 -0.031166  0.623430   \n",
       "2016-01-05 -0.070739  0.096734  0.088027 -0.041823  0.092651 -0.696343   \n",
       "2016-01-06  0.217489 -0.407413 -0.248128 -0.070824 -0.032970 -0.844033   \n",
       "2016-01-07  0.854233  0.565743  0.410882 -0.924071  0.626029 -0.579001   \n",
       "\n",
       "              Stck 7    Stck 8    Stck 9   Stck 10  \n",
       "2016-01-01  0.082776 -1.062746  0.823630 -0.301270  \n",
       "2016-01-04  0.233466  0.624065  0.903526  0.142565  \n",
       "2016-01-05 -0.198983  0.321534 -0.374691  0.863783  \n",
       "2016-01-06 -0.694498 -0.053734  0.707750  0.688689  \n",
       "2016-01-07  0.032065  0.672347  0.085758 -1.296039  "
      ]
     },
     "execution_count": 52,
     "metadata": {},
     "output_type": "execute_result"
    }
   ],
   "source": [
    "df.head()"
   ]
  },
  {
   "cell_type": "markdown",
   "metadata": {},
   "source": [
    "Now we have 10 stock prices returns within one DataFrame. Let's calculate the returns as multiplication of previous day: "
   ]
  },
  {
   "cell_type": "code",
   "execution_count": 53,
   "metadata": {
    "collapsed": true
   },
   "outputs": [],
   "source": [
    "df_cum = df*0.01 + 1\n",
    "df_cum = df_cum.cumprod()"
   ]
  },
  {
   "cell_type": "code",
   "execution_count": 54,
   "metadata": {},
   "outputs": [
    {
     "data": {
      "text/html": [
       "<div>\n",
       "<style>\n",
       "    .dataframe thead tr:only-child th {\n",
       "        text-align: right;\n",
       "    }\n",
       "\n",
       "    .dataframe thead th {\n",
       "        text-align: left;\n",
       "    }\n",
       "\n",
       "    .dataframe tbody tr th {\n",
       "        vertical-align: top;\n",
       "    }\n",
       "</style>\n",
       "<table border=\"1\" class=\"dataframe\">\n",
       "  <thead>\n",
       "    <tr style=\"text-align: right;\">\n",
       "      <th></th>\n",
       "      <th>Stck 1</th>\n",
       "      <th>Stck 2</th>\n",
       "      <th>Stck 3</th>\n",
       "      <th>Stck 4</th>\n",
       "      <th>Stck 5</th>\n",
       "      <th>Stck 6</th>\n",
       "      <th>Stck 7</th>\n",
       "      <th>Stck 8</th>\n",
       "      <th>Stck 9</th>\n",
       "      <th>Stck 10</th>\n",
       "    </tr>\n",
       "  </thead>\n",
       "  <tbody>\n",
       "    <tr>\n",
       "      <th>2016-01-01</th>\n",
       "      <td>0.999265</td>\n",
       "      <td>0.997857</td>\n",
       "      <td>0.995632</td>\n",
       "      <td>0.995134</td>\n",
       "      <td>0.989310</td>\n",
       "      <td>0.986185</td>\n",
       "      <td>1.000828</td>\n",
       "      <td>0.989373</td>\n",
       "      <td>1.008236</td>\n",
       "      <td>0.996987</td>\n",
       "    </tr>\n",
       "    <tr>\n",
       "      <th>2016-01-04</th>\n",
       "      <td>0.995206</td>\n",
       "      <td>0.999361</td>\n",
       "      <td>0.992007</td>\n",
       "      <td>0.986241</td>\n",
       "      <td>0.989001</td>\n",
       "      <td>0.992333</td>\n",
       "      <td>1.003164</td>\n",
       "      <td>0.995547</td>\n",
       "      <td>1.017346</td>\n",
       "      <td>0.998409</td>\n",
       "    </tr>\n",
       "    <tr>\n",
       "      <th>2016-01-05</th>\n",
       "      <td>0.994502</td>\n",
       "      <td>1.000327</td>\n",
       "      <td>0.992880</td>\n",
       "      <td>0.985829</td>\n",
       "      <td>0.989918</td>\n",
       "      <td>0.985423</td>\n",
       "      <td>1.001168</td>\n",
       "      <td>0.998748</td>\n",
       "      <td>1.013534</td>\n",
       "      <td>1.007033</td>\n",
       "    </tr>\n",
       "    <tr>\n",
       "      <th>2016-01-06</th>\n",
       "      <td>0.996665</td>\n",
       "      <td>0.996252</td>\n",
       "      <td>0.990417</td>\n",
       "      <td>0.985131</td>\n",
       "      <td>0.989591</td>\n",
       "      <td>0.977105</td>\n",
       "      <td>0.994215</td>\n",
       "      <td>0.998211</td>\n",
       "      <td>1.020707</td>\n",
       "      <td>1.013968</td>\n",
       "    </tr>\n",
       "    <tr>\n",
       "      <th>2016-01-07</th>\n",
       "      <td>1.005179</td>\n",
       "      <td>1.001888</td>\n",
       "      <td>0.994486</td>\n",
       "      <td>0.976027</td>\n",
       "      <td>0.995786</td>\n",
       "      <td>0.971448</td>\n",
       "      <td>0.994534</td>\n",
       "      <td>1.004923</td>\n",
       "      <td>1.021583</td>\n",
       "      <td>1.000827</td>\n",
       "    </tr>\n",
       "  </tbody>\n",
       "</table>\n",
       "</div>"
      ],
      "text/plain": [
       "              Stck 1    Stck 2    Stck 3    Stck 4    Stck 5    Stck 6  \\\n",
       "2016-01-01  0.999265  0.997857  0.995632  0.995134  0.989310  0.986185   \n",
       "2016-01-04  0.995206  0.999361  0.992007  0.986241  0.989001  0.992333   \n",
       "2016-01-05  0.994502  1.000327  0.992880  0.985829  0.989918  0.985423   \n",
       "2016-01-06  0.996665  0.996252  0.990417  0.985131  0.989591  0.977105   \n",
       "2016-01-07  1.005179  1.001888  0.994486  0.976027  0.995786  0.971448   \n",
       "\n",
       "              Stck 7    Stck 8    Stck 9   Stck 10  \n",
       "2016-01-01  1.000828  0.989373  1.008236  0.996987  \n",
       "2016-01-04  1.003164  0.995547  1.017346  0.998409  \n",
       "2016-01-05  1.001168  0.998748  1.013534  1.007033  \n",
       "2016-01-06  0.994215  0.998211  1.020707  1.013968  \n",
       "2016-01-07  0.994534  1.004923  1.021583  1.000827  "
      ]
     },
     "execution_count": 54,
     "metadata": {},
     "output_type": "execute_result"
    }
   ],
   "source": [
    "df_cum.head()"
   ]
  },
  {
   "cell_type": "markdown",
   "metadata": {},
   "source": [
    "[pandas.DataFrame.plot](https://pandas.pydata.org/pandas-docs/stable/generated/pandas.DataFrame.plot.html)"
   ]
  },
  {
   "cell_type": "code",
   "execution_count": 55,
   "metadata": {},
   "outputs": [
    {
     "data": {
      "text/plain": [
       "<matplotlib.axes._subplots.AxesSubplot at 0x1ea7ca08668>"
      ]
     },
     "execution_count": 55,
     "metadata": {},
     "output_type": "execute_result"
    },
    {
     "data": {
      "image/png": "[encoded data removed]",
      "text/plain": [
       "<matplotlib.figure.Figure at 0x1ea7ca08ef0>"
      ]
     },
     "metadata": {},
     "output_type": "display_data"
    }
   ],
   "source": [
    "df_cum.plot(figsize = (10,5))"
   ]
  },
  {
   "cell_type": "markdown",
   "metadata": {},
   "source": [
    "As you see at the end of the day some stocks made profit and some made loss. "
   ]
  },
  {
   "cell_type": "markdown",
   "metadata": {},
   "source": [
    "Locating the values works same with `Series`. The last day profits are loses:"
   ]
  },
  {
   "cell_type": "code",
   "execution_count": 56,
   "metadata": {},
   "outputs": [
    {
     "data": {
      "text/plain": [
       "Stck 1     1.088529\n",
       "Stck 2     1.100379\n",
       "Stck 3     0.992921\n",
       "Stck 4     0.953145\n",
       "Stck 5     0.971681\n",
       "Stck 6     1.027014\n",
       "Stck 7     1.031878\n",
       "Stck 8     0.970227\n",
       "Stck 9     0.996127\n",
       "Stck 10    0.973321\n",
       "Name: 2016-05-19 00:00:00, dtype: float64"
      ]
     },
     "execution_count": 56,
     "metadata": {},
     "output_type": "execute_result"
    }
   ],
   "source": [
    "df_cum.iloc[-1]"
   ]
  },
  {
   "cell_type": "markdown",
   "metadata": {},
   "source": [
    "**BUT ** This is a two dimensional shape and you need two parameters to locate specific values. "
   ]
  },
  {
   "cell_type": "code",
   "execution_count": 57,
   "metadata": {},
   "outputs": [
    {
     "data": {
      "text/plain": [
       "0.99292127718307022"
      ]
     },
     "execution_count": 57,
     "metadata": {},
     "output_type": "execute_result"
    }
   ],
   "source": [
    "df_cum.iloc[-1,2]"
   ]
  },
  {
   "cell_type": "markdown",
   "metadata": {},
   "source": [
    "For example we can only care about profited stocks:"
   ]
  },
  {
   "cell_type": "code",
   "execution_count": 58,
   "metadata": {},
   "outputs": [
    {
     "data": {
      "text/plain": [
       "Stck 1      True\n",
       "Stck 2      True\n",
       "Stck 3     False\n",
       "Stck 4     False\n",
       "Stck 5     False\n",
       "Stck 6      True\n",
       "Stck 7      True\n",
       "Stck 8     False\n",
       "Stck 9     False\n",
       "Stck 10    False\n",
       "Name: 2016-05-19 00:00:00, dtype: bool"
      ]
     },
     "execution_count": 58,
     "metadata": {},
     "output_type": "execute_result"
    }
   ],
   "source": [
    "df_cum.iloc[-1]>1"
   ]
  },
  {
   "cell_type": "markdown",
   "metadata": {},
   "source": [
    "### Adding new columns"
   ]
  },
  {
   "cell_type": "markdown",
   "metadata": {},
   "source": [
    "You can simply define a column name:"
   ]
  },
  {
   "cell_type": "code",
   "execution_count": 59,
   "metadata": {
    "collapsed": true
   },
   "outputs": [],
   "source": [
    "df['new'] = 1"
   ]
  },
  {
   "cell_type": "code",
   "execution_count": 60,
   "metadata": {},
   "outputs": [
    {
     "data": {
      "text/html": [
       "<div>\n",
       "<style>\n",
       "    .dataframe thead tr:only-child th {\n",
       "        text-align: right;\n",
       "    }\n",
       "\n",
       "    .dataframe thead th {\n",
       "        text-align: left;\n",
       "    }\n",
       "\n",
       "    .dataframe tbody tr th {\n",
       "        vertical-align: top;\n",
       "    }\n",
       "</style>\n",
       "<table border=\"1\" class=\"dataframe\">\n",
       "  <thead>\n",
       "    <tr style=\"text-align: right;\">\n",
       "      <th></th>\n",
       "      <th>Stck 1</th>\n",
       "      <th>Stck 2</th>\n",
       "      <th>Stck 3</th>\n",
       "      <th>Stck 4</th>\n",
       "      <th>Stck 5</th>\n",
       "      <th>Stck 6</th>\n",
       "      <th>Stck 7</th>\n",
       "      <th>Stck 8</th>\n",
       "      <th>Stck 9</th>\n",
       "      <th>Stck 10</th>\n",
       "      <th>new</th>\n",
       "    </tr>\n",
       "  </thead>\n",
       "  <tbody>\n",
       "    <tr>\n",
       "      <th>2016-01-01</th>\n",
       "      <td>-0.073456</td>\n",
       "      <td>-0.214274</td>\n",
       "      <td>-0.436774</td>\n",
       "      <td>-0.486635</td>\n",
       "      <td>-1.069038</td>\n",
       "      <td>-1.381537</td>\n",
       "      <td>0.082776</td>\n",
       "      <td>-1.062746</td>\n",
       "      <td>0.823630</td>\n",
       "      <td>-0.301270</td>\n",
       "      <td>1</td>\n",
       "    </tr>\n",
       "    <tr>\n",
       "      <th>2016-01-04</th>\n",
       "      <td>-0.406194</td>\n",
       "      <td>0.150647</td>\n",
       "      <td>-0.364099</td>\n",
       "      <td>-0.893591</td>\n",
       "      <td>-0.031166</td>\n",
       "      <td>0.623430</td>\n",
       "      <td>0.233466</td>\n",
       "      <td>0.624065</td>\n",
       "      <td>0.903526</td>\n",
       "      <td>0.142565</td>\n",
       "      <td>1</td>\n",
       "    </tr>\n",
       "    <tr>\n",
       "      <th>2016-01-05</th>\n",
       "      <td>-0.070739</td>\n",
       "      <td>0.096734</td>\n",
       "      <td>0.088027</td>\n",
       "      <td>-0.041823</td>\n",
       "      <td>0.092651</td>\n",
       "      <td>-0.696343</td>\n",
       "      <td>-0.198983</td>\n",
       "      <td>0.321534</td>\n",
       "      <td>-0.374691</td>\n",
       "      <td>0.863783</td>\n",
       "      <td>1</td>\n",
       "    </tr>\n",
       "    <tr>\n",
       "      <th>2016-01-06</th>\n",
       "      <td>0.217489</td>\n",
       "      <td>-0.407413</td>\n",
       "      <td>-0.248128</td>\n",
       "      <td>-0.070824</td>\n",
       "      <td>-0.032970</td>\n",
       "      <td>-0.844033</td>\n",
       "      <td>-0.694498</td>\n",
       "      <td>-0.053734</td>\n",
       "      <td>0.707750</td>\n",
       "      <td>0.688689</td>\n",
       "      <td>1</td>\n",
       "    </tr>\n",
       "    <tr>\n",
       "      <th>2016-01-07</th>\n",
       "      <td>0.854233</td>\n",
       "      <td>0.565743</td>\n",
       "      <td>0.410882</td>\n",
       "      <td>-0.924071</td>\n",
       "      <td>0.626029</td>\n",
       "      <td>-0.579001</td>\n",
       "      <td>0.032065</td>\n",
       "      <td>0.672347</td>\n",
       "      <td>0.085758</td>\n",
       "      <td>-1.296039</td>\n",
       "      <td>1</td>\n",
       "    </tr>\n",
       "  </tbody>\n",
       "</table>\n",
       "</div>"
      ],
      "text/plain": [
       "              Stck 1    Stck 2    Stck 3    Stck 4    Stck 5    Stck 6  \\\n",
       "2016-01-01 -0.073456 -0.214274 -0.436774 -0.486635 -1.069038 -1.381537   \n",
       "2016-01-04 -0.406194  0.150647 -0.364099 -0.893591 -0.031166  0.623430   \n",
       "2016-01-05 -0.070739  0.096734  0.088027 -0.041823  0.092651 -0.696343   \n",
       "2016-01-06  0.217489 -0.407413 -0.248128 -0.070824 -0.032970 -0.844033   \n",
       "2016-01-07  0.854233  0.565743  0.410882 -0.924071  0.626029 -0.579001   \n",
       "\n",
       "              Stck 7    Stck 8    Stck 9   Stck 10  new  \n",
       "2016-01-01  0.082776 -1.062746  0.823630 -0.301270    1  \n",
       "2016-01-04  0.233466  0.624065  0.903526  0.142565    1  \n",
       "2016-01-05 -0.198983  0.321534 -0.374691  0.863783    1  \n",
       "2016-01-06 -0.694498 -0.053734  0.707750  0.688689    1  \n",
       "2016-01-07  0.032065  0.672347  0.085758 -1.296039    1  "
      ]
     },
     "execution_count": 60,
     "metadata": {},
     "output_type": "execute_result"
    }
   ],
   "source": [
    "df.head()"
   ]
  },
  {
   "cell_type": "markdown",
   "metadata": {},
   "source": [
    "Deleting a column is very easy:"
   ]
  },
  {
   "cell_type": "code",
   "execution_count": 61,
   "metadata": {
    "collapsed": true
   },
   "outputs": [],
   "source": [
    "del df['new']"
   ]
  },
  {
   "cell_type": "markdown",
   "metadata": {},
   "source": [
    "Sorting by columns:"
   ]
  },
  {
   "cell_type": "code",
   "execution_count": 62,
   "metadata": {},
   "outputs": [
    {
     "data": {
      "text/html": [
       "<div>\n",
       "<style>\n",
       "    .dataframe thead tr:only-child th {\n",
       "        text-align: right;\n",
       "    }\n",
       "\n",
       "    .dataframe thead th {\n",
       "        text-align: left;\n",
       "    }\n",
       "\n",
       "    .dataframe tbody tr th {\n",
       "        vertical-align: top;\n",
       "    }\n",
       "</style>\n",
       "<table border=\"1\" class=\"dataframe\">\n",
       "  <thead>\n",
       "    <tr style=\"text-align: right;\">\n",
       "      <th></th>\n",
       "      <th>Stck 1</th>\n",
       "      <th>Stck 2</th>\n",
       "      <th>Stck 3</th>\n",
       "      <th>Stck 4</th>\n",
       "      <th>Stck 5</th>\n",
       "      <th>Stck 6</th>\n",
       "      <th>Stck 7</th>\n",
       "      <th>Stck 8</th>\n",
       "      <th>Stck 9</th>\n",
       "      <th>Stck 10</th>\n",
       "    </tr>\n",
       "  </thead>\n",
       "  <tbody>\n",
       "    <tr>\n",
       "      <th>2016-02-29</th>\n",
       "      <td>-0.277568</td>\n",
       "      <td>-0.973318</td>\n",
       "      <td>0.363348</td>\n",
       "      <td>-0.278988</td>\n",
       "      <td>0.206532</td>\n",
       "      <td>0.472207</td>\n",
       "      <td>1.091209</td>\n",
       "      <td>-0.445430</td>\n",
       "      <td>-0.269475</td>\n",
       "      <td>-0.625537</td>\n",
       "    </tr>\n",
       "    <tr>\n",
       "      <th>2016-04-12</th>\n",
       "      <td>0.246974</td>\n",
       "      <td>-0.900327</td>\n",
       "      <td>0.502140</td>\n",
       "      <td>-0.157664</td>\n",
       "      <td>-0.113003</td>\n",
       "      <td>0.164283</td>\n",
       "      <td>0.501105</td>\n",
       "      <td>-0.902335</td>\n",
       "      <td>0.636096</td>\n",
       "      <td>0.075772</td>\n",
       "    </tr>\n",
       "    <tr>\n",
       "      <th>2016-05-09</th>\n",
       "      <td>-0.878241</td>\n",
       "      <td>-0.834296</td>\n",
       "      <td>0.158869</td>\n",
       "      <td>0.730985</td>\n",
       "      <td>-0.574491</td>\n",
       "      <td>0.886679</td>\n",
       "      <td>0.211882</td>\n",
       "      <td>-0.749029</td>\n",
       "      <td>-0.265493</td>\n",
       "      <td>0.431259</td>\n",
       "    </tr>\n",
       "    <tr>\n",
       "      <th>2016-03-28</th>\n",
       "      <td>0.022101</td>\n",
       "      <td>-0.809996</td>\n",
       "      <td>0.773811</td>\n",
       "      <td>0.344324</td>\n",
       "      <td>0.439307</td>\n",
       "      <td>-0.273975</td>\n",
       "      <td>0.428877</td>\n",
       "      <td>-0.053079</td>\n",
       "      <td>-0.175394</td>\n",
       "      <td>1.463427</td>\n",
       "    </tr>\n",
       "    <tr>\n",
       "      <th>2016-03-23</th>\n",
       "      <td>-0.881556</td>\n",
       "      <td>-0.801809</td>\n",
       "      <td>0.456306</td>\n",
       "      <td>0.412910</td>\n",
       "      <td>1.088407</td>\n",
       "      <td>-0.317045</td>\n",
       "      <td>0.231863</td>\n",
       "      <td>0.066125</td>\n",
       "      <td>0.267619</td>\n",
       "      <td>0.657438</td>\n",
       "    </tr>\n",
       "  </tbody>\n",
       "</table>\n",
       "</div>"
      ],
      "text/plain": [
       "              Stck 1    Stck 2    Stck 3    Stck 4    Stck 5    Stck 6  \\\n",
       "2016-02-29 -0.277568 -0.973318  0.363348 -0.278988  0.206532  0.472207   \n",
       "2016-04-12  0.246974 -0.900327  0.502140 -0.157664 -0.113003  0.164283   \n",
       "2016-05-09 -0.878241 -0.834296  0.158869  0.730985 -0.574491  0.886679   \n",
       "2016-03-28  0.022101 -0.809996  0.773811  0.344324  0.439307 -0.273975   \n",
       "2016-03-23 -0.881556 -0.801809  0.456306  0.412910  1.088407 -0.317045   \n",
       "\n",
       "              Stck 7    Stck 8    Stck 9   Stck 10  \n",
       "2016-02-29  1.091209 -0.445430 -0.269475 -0.625537  \n",
       "2016-04-12  0.501105 -0.902335  0.636096  0.075772  \n",
       "2016-05-09  0.211882 -0.749029 -0.265493  0.431259  \n",
       "2016-03-28  0.428877 -0.053079 -0.175394  1.463427  \n",
       "2016-03-23  0.231863  0.066125  0.267619  0.657438  "
      ]
     },
     "execution_count": 62,
     "metadata": {},
     "output_type": "execute_result"
    }
   ],
   "source": [
    "df.sort_values(by='Stck 2').head()"
   ]
  },
  {
   "cell_type": "markdown",
   "metadata": {},
   "source": [
    "### All and Any"
   ]
  },
  {
   "cell_type": "markdown",
   "metadata": {},
   "source": [
    "We will learn some "
   ]
  },
  {
   "cell_type": "markdown",
   "metadata": {},
   "source": [
    "- fillna\n",
    "- "
   ]
  },
  {
   "cell_type": "markdown",
   "metadata": {},
   "source": [
    "## Read and Save DataFrame to files"
   ]
  },
  {
   "cell_type": "markdown",
   "metadata": {},
   "source": [
    "We will learn how to read files and save dataframe to the files. pandas can read all common databases. Command `pd.read_`:"
   ]
  },
  {
   "cell_type": "code",
   "execution_count": 63,
   "metadata": {
    "collapsed": true
   },
   "outputs": [],
   "source": [
    "movies = pd.read_csv('movies.csv')"
   ]
  },
  {
   "cell_type": "code",
   "execution_count": 64,
   "metadata": {},
   "outputs": [
    {
     "data": {
      "text/html": [
       "<div>\n",
       "<style>\n",
       "    .dataframe thead tr:only-child th {\n",
       "        text-align: right;\n",
       "    }\n",
       "\n",
       "    .dataframe thead th {\n",
       "        text-align: left;\n",
       "    }\n",
       "\n",
       "    .dataframe tbody tr th {\n",
       "        vertical-align: top;\n",
       "    }\n",
       "</style>\n",
       "<table border=\"1\" class=\"dataframe\">\n",
       "  <thead>\n",
       "    <tr style=\"text-align: right;\">\n",
       "      <th></th>\n",
       "      <th>movieId</th>\n",
       "      <th>title</th>\n",
       "      <th>genres</th>\n",
       "    </tr>\n",
       "  </thead>\n",
       "  <tbody>\n",
       "    <tr>\n",
       "      <th>0</th>\n",
       "      <td>1</td>\n",
       "      <td>Toy Story (1995)</td>\n",
       "      <td>Adventure|Animation|Children|Comedy|Fantasy</td>\n",
       "    </tr>\n",
       "    <tr>\n",
       "      <th>1</th>\n",
       "      <td>2</td>\n",
       "      <td>Jumanji (1995)</td>\n",
       "      <td>Adventure|Children|Fantasy</td>\n",
       "    </tr>\n",
       "    <tr>\n",
       "      <th>2</th>\n",
       "      <td>3</td>\n",
       "      <td>Grumpier Old Men (1995)</td>\n",
       "      <td>Comedy|Romance</td>\n",
       "    </tr>\n",
       "    <tr>\n",
       "      <th>3</th>\n",
       "      <td>4</td>\n",
       "      <td>Waiting to Exhale (1995)</td>\n",
       "      <td>Comedy|Drama|Romance</td>\n",
       "    </tr>\n",
       "    <tr>\n",
       "      <th>4</th>\n",
       "      <td>5</td>\n",
       "      <td>Father of the Bride Part II (1995)</td>\n",
       "      <td>Comedy</td>\n",
       "    </tr>\n",
       "  </tbody>\n",
       "</table>\n",
       "</div>"
      ],
      "text/plain": [
       "   movieId                               title  \\\n",
       "0        1                    Toy Story (1995)   \n",
       "1        2                      Jumanji (1995)   \n",
       "2        3             Grumpier Old Men (1995)   \n",
       "3        4            Waiting to Exhale (1995)   \n",
       "4        5  Father of the Bride Part II (1995)   \n",
       "\n",
       "                                        genres  \n",
       "0  Adventure|Animation|Children|Comedy|Fantasy  \n",
       "1                   Adventure|Children|Fantasy  \n",
       "2                               Comedy|Romance  \n",
       "3                         Comedy|Drama|Romance  \n",
       "4                                       Comedy  "
      ]
     },
     "execution_count": 64,
     "metadata": {},
     "output_type": "execute_result"
    }
   ],
   "source": [
    "movies.head()"
   ]
  },
  {
   "cell_type": "code",
   "execution_count": 65,
   "metadata": {},
   "outputs": [
    {
     "data": {
      "text/html": [
       "<div>\n",
       "<style>\n",
       "    .dataframe thead tr:only-child th {\n",
       "        text-align: right;\n",
       "    }\n",
       "\n",
       "    .dataframe thead th {\n",
       "        text-align: left;\n",
       "    }\n",
       "\n",
       "    .dataframe tbody tr th {\n",
       "        vertical-align: top;\n",
       "    }\n",
       "</style>\n",
       "<table border=\"1\" class=\"dataframe\">\n",
       "  <thead>\n",
       "    <tr style=\"text-align: right;\">\n",
       "      <th></th>\n",
       "      <th>movieId</th>\n",
       "      <th>title</th>\n",
       "      <th>genres</th>\n",
       "    </tr>\n",
       "  </thead>\n",
       "  <tbody>\n",
       "    <tr>\n",
       "      <th>9120</th>\n",
       "      <td>162672</td>\n",
       "      <td>Mohenjo Daro (2016)</td>\n",
       "      <td>Adventure|Drama|Romance</td>\n",
       "    </tr>\n",
       "    <tr>\n",
       "      <th>9121</th>\n",
       "      <td>163056</td>\n",
       "      <td>Shin Godzilla (2016)</td>\n",
       "      <td>Action|Adventure|Fantasy|Sci-Fi</td>\n",
       "    </tr>\n",
       "    <tr>\n",
       "      <th>9122</th>\n",
       "      <td>163949</td>\n",
       "      <td>The Beatles: Eight Days a Week - The Touring Y...</td>\n",
       "      <td>Documentary</td>\n",
       "    </tr>\n",
       "    <tr>\n",
       "      <th>9123</th>\n",
       "      <td>164977</td>\n",
       "      <td>The Gay Desperado (1936)</td>\n",
       "      <td>Comedy</td>\n",
       "    </tr>\n",
       "    <tr>\n",
       "      <th>9124</th>\n",
       "      <td>164979</td>\n",
       "      <td>Women of '69, Unboxed</td>\n",
       "      <td>Documentary</td>\n",
       "    </tr>\n",
       "  </tbody>\n",
       "</table>\n",
       "</div>"
      ],
      "text/plain": [
       "      movieId                                              title  \\\n",
       "9120   162672                                Mohenjo Daro (2016)   \n",
       "9121   163056                               Shin Godzilla (2016)   \n",
       "9122   163949  The Beatles: Eight Days a Week - The Touring Y...   \n",
       "9123   164977                           The Gay Desperado (1936)   \n",
       "9124   164979                              Women of '69, Unboxed   \n",
       "\n",
       "                               genres  \n",
       "9120          Adventure|Drama|Romance  \n",
       "9121  Action|Adventure|Fantasy|Sci-Fi  \n",
       "9122                      Documentary  \n",
       "9123                           Comedy  \n",
       "9124                      Documentary  "
      ]
     },
     "execution_count": 65,
     "metadata": {},
     "output_type": "execute_result"
    }
   ],
   "source": [
    "movies.tail()"
   ]
  },
  {
   "cell_type": "markdown",
   "metadata": {},
   "source": [
    "You can find this database from [movieLens](https://grouplens.org/datasets/movielens/). \n",
    "\n",
    "download [movies.csv](../assets/movies.csv)"
   ]
  },
  {
   "cell_type": "markdown",
   "metadata": {},
   "source": [
    "We will do some operations with this dataset. For example title contains year of the movies. It would look nicer if we can seperate it and create a new column. We will use the `Series.str` operations. Find the [documentation](https://pandas.pydata.org/pandas-docs/stable/api.html#string-handling). "
   ]
  },
  {
   "cell_type": "markdown",
   "metadata": {},
   "source": [
    "You can do this operation with many different way. First way is to use `str.extract` method to find years and define a new column:"
   ]
  },
  {
   "cell_type": "code",
   "execution_count": 66,
   "metadata": {},
   "outputs": [
    {
     "name": "stderr",
     "output_type": "stream",
     "text": [
      "C:\\ProgramData\\Anaconda3\\lib\\site-packages\\ipykernel_launcher.py:1: FutureWarning: currently extract(expand=None) means expand=False (return Index/Series/DataFrame) but in a future version of pandas this will be changed to expand=True (return DataFrame)\n",
      "  \"\"\"Entry point for launching an IPython kernel.\n"
     ]
    }
   ],
   "source": [
    "movies['year'] = movies['title'].str.extract('(\\d{4})')"
   ]
  },
  {
   "cell_type": "code",
   "execution_count": 67,
   "metadata": {},
   "outputs": [
    {
     "data": {
      "text/html": [
       "<div>\n",
       "<style>\n",
       "    .dataframe thead tr:only-child th {\n",
       "        text-align: right;\n",
       "    }\n",
       "\n",
       "    .dataframe thead th {\n",
       "        text-align: left;\n",
       "    }\n",
       "\n",
       "    .dataframe tbody tr th {\n",
       "        vertical-align: top;\n",
       "    }\n",
       "</style>\n",
       "<table border=\"1\" class=\"dataframe\">\n",
       "  <thead>\n",
       "    <tr style=\"text-align: right;\">\n",
       "      <th></th>\n",
       "      <th>movieId</th>\n",
       "      <th>title</th>\n",
       "      <th>genres</th>\n",
       "      <th>year</th>\n",
       "    </tr>\n",
       "  </thead>\n",
       "  <tbody>\n",
       "    <tr>\n",
       "      <th>9120</th>\n",
       "      <td>162672</td>\n",
       "      <td>Mohenjo Daro (2016)</td>\n",
       "      <td>Adventure|Drama|Romance</td>\n",
       "      <td>2016</td>\n",
       "    </tr>\n",
       "    <tr>\n",
       "      <th>9121</th>\n",
       "      <td>163056</td>\n",
       "      <td>Shin Godzilla (2016)</td>\n",
       "      <td>Action|Adventure|Fantasy|Sci-Fi</td>\n",
       "      <td>2016</td>\n",
       "    </tr>\n",
       "    <tr>\n",
       "      <th>9122</th>\n",
       "      <td>163949</td>\n",
       "      <td>The Beatles: Eight Days a Week - The Touring Y...</td>\n",
       "      <td>Documentary</td>\n",
       "      <td>2016</td>\n",
       "    </tr>\n",
       "    <tr>\n",
       "      <th>9123</th>\n",
       "      <td>164977</td>\n",
       "      <td>The Gay Desperado (1936)</td>\n",
       "      <td>Comedy</td>\n",
       "      <td>1936</td>\n",
       "    </tr>\n",
       "    <tr>\n",
       "      <th>9124</th>\n",
       "      <td>164979</td>\n",
       "      <td>Women of '69, Unboxed</td>\n",
       "      <td>Documentary</td>\n",
       "      <td>NaN</td>\n",
       "    </tr>\n",
       "  </tbody>\n",
       "</table>\n",
       "</div>"
      ],
      "text/plain": [
       "      movieId                                              title  \\\n",
       "9120   162672                                Mohenjo Daro (2016)   \n",
       "9121   163056                               Shin Godzilla (2016)   \n",
       "9122   163949  The Beatles: Eight Days a Week - The Touring Y...   \n",
       "9123   164977                           The Gay Desperado (1936)   \n",
       "9124   164979                              Women of '69, Unboxed   \n",
       "\n",
       "                               genres  year  \n",
       "9120          Adventure|Drama|Romance  2016  \n",
       "9121  Action|Adventure|Fantasy|Sci-Fi  2016  \n",
       "9122                      Documentary  2016  \n",
       "9123                           Comedy  1936  \n",
       "9124                      Documentary   NaN  "
      ]
     },
     "execution_count": 67,
     "metadata": {},
     "output_type": "execute_result"
    }
   ],
   "source": [
    "movies.tail()"
   ]
  },
  {
   "cell_type": "markdown",
   "metadata": {},
   "source": [
    "We use a ReGeX expressoion: `(\\d{4})`. Paranthesis represents the group. So we can create two different columns by extracting using two or more paranthesis. `\\d` represents the digit. `\\d{4}` expression together implies 4 consequtive numbers. You should check the regular expression [documentation](https://docs.python.org/3/library/re.html) for further use. "
   ]
  },
  {
   "cell_type": "markdown",
   "metadata": {},
   "source": [
    "Let's see how many `NaN` years we have:"
   ]
  },
  {
   "cell_type": "code",
   "execution_count": 68,
   "metadata": {},
   "outputs": [
    {
     "data": {
      "text/html": [
       "<div>\n",
       "<style>\n",
       "    .dataframe thead tr:only-child th {\n",
       "        text-align: right;\n",
       "    }\n",
       "\n",
       "    .dataframe thead th {\n",
       "        text-align: left;\n",
       "    }\n",
       "\n",
       "    .dataframe tbody tr th {\n",
       "        vertical-align: top;\n",
       "    }\n",
       "</style>\n",
       "<table border=\"1\" class=\"dataframe\">\n",
       "  <thead>\n",
       "    <tr style=\"text-align: right;\">\n",
       "      <th></th>\n",
       "      <th>movieId</th>\n",
       "      <th>title</th>\n",
       "      <th>genres</th>\n",
       "      <th>year</th>\n",
       "    </tr>\n",
       "  </thead>\n",
       "  <tbody>\n",
       "    <tr>\n",
       "      <th>9017</th>\n",
       "      <td>143410</td>\n",
       "      <td>Hyena Road</td>\n",
       "      <td>(no genres listed)</td>\n",
       "      <td>NaN</td>\n",
       "    </tr>\n",
       "    <tr>\n",
       "      <th>9063</th>\n",
       "      <td>151307</td>\n",
       "      <td>The Lovers and the Despot</td>\n",
       "      <td>(no genres listed)</td>\n",
       "      <td>NaN</td>\n",
       "    </tr>\n",
       "    <tr>\n",
       "      <th>9118</th>\n",
       "      <td>162376</td>\n",
       "      <td>Stranger Things</td>\n",
       "      <td>Drama</td>\n",
       "      <td>NaN</td>\n",
       "    </tr>\n",
       "    <tr>\n",
       "      <th>9124</th>\n",
       "      <td>164979</td>\n",
       "      <td>Women of '69, Unboxed</td>\n",
       "      <td>Documentary</td>\n",
       "      <td>NaN</td>\n",
       "    </tr>\n",
       "  </tbody>\n",
       "</table>\n",
       "</div>"
      ],
      "text/plain": [
       "      movieId                      title              genres year\n",
       "9017   143410                 Hyena Road  (no genres listed)  NaN\n",
       "9063   151307  The Lovers and the Despot  (no genres listed)  NaN\n",
       "9118   162376            Stranger Things               Drama  NaN\n",
       "9124   164979      Women of '69, Unboxed         Documentary  NaN"
      ]
     },
     "execution_count": 68,
     "metadata": {},
     "output_type": "execute_result"
    }
   ],
   "source": [
    "movies[movies['year'].isnull()]"
   ]
  },
  {
   "cell_type": "markdown",
   "metadata": {},
   "source": [
    "Only four of them do not have the year. So if you are making data analysis you can manually fill this values by searching the internet. For now, I will drop them using `dropna()` function:"
   ]
  },
  {
   "cell_type": "code",
   "execution_count": 69,
   "metadata": {},
   "outputs": [],
   "source": [
    "movies = movies.dropna()"
   ]
  },
  {
   "cell_type": "markdown",
   "metadata": {},
   "source": [
    "Be careful with the expression above. I defined movies after droping the null values: ```movies = movies.dropna()```. Let's check dataframe again:"
   ]
  },
  {
   "cell_type": "code",
   "execution_count": 70,
   "metadata": {},
   "outputs": [
    {
     "data": {
      "text/html": [
       "<div>\n",
       "<style>\n",
       "    .dataframe thead tr:only-child th {\n",
       "        text-align: right;\n",
       "    }\n",
       "\n",
       "    .dataframe thead th {\n",
       "        text-align: left;\n",
       "    }\n",
       "\n",
       "    .dataframe tbody tr th {\n",
       "        vertical-align: top;\n",
       "    }\n",
       "</style>\n",
       "<table border=\"1\" class=\"dataframe\">\n",
       "  <thead>\n",
       "    <tr style=\"text-align: right;\">\n",
       "      <th></th>\n",
       "      <th>movieId</th>\n",
       "      <th>title</th>\n",
       "      <th>genres</th>\n",
       "      <th>year</th>\n",
       "    </tr>\n",
       "  </thead>\n",
       "  <tbody>\n",
       "    <tr>\n",
       "      <th>0</th>\n",
       "      <td>1</td>\n",
       "      <td>Toy Story (1995)</td>\n",
       "      <td>Adventure|Animation|Children|Comedy|Fantasy</td>\n",
       "      <td>1995</td>\n",
       "    </tr>\n",
       "    <tr>\n",
       "      <th>1</th>\n",
       "      <td>2</td>\n",
       "      <td>Jumanji (1995)</td>\n",
       "      <td>Adventure|Children|Fantasy</td>\n",
       "      <td>1995</td>\n",
       "    </tr>\n",
       "    <tr>\n",
       "      <th>2</th>\n",
       "      <td>3</td>\n",
       "      <td>Grumpier Old Men (1995)</td>\n",
       "      <td>Comedy|Romance</td>\n",
       "      <td>1995</td>\n",
       "    </tr>\n",
       "    <tr>\n",
       "      <th>3</th>\n",
       "      <td>4</td>\n",
       "      <td>Waiting to Exhale (1995)</td>\n",
       "      <td>Comedy|Drama|Romance</td>\n",
       "      <td>1995</td>\n",
       "    </tr>\n",
       "    <tr>\n",
       "      <th>4</th>\n",
       "      <td>5</td>\n",
       "      <td>Father of the Bride Part II (1995)</td>\n",
       "      <td>Comedy</td>\n",
       "      <td>1995</td>\n",
       "    </tr>\n",
       "  </tbody>\n",
       "</table>\n",
       "</div>"
      ],
      "text/plain": [
       "   movieId                               title  \\\n",
       "0        1                    Toy Story (1995)   \n",
       "1        2                      Jumanji (1995)   \n",
       "2        3             Grumpier Old Men (1995)   \n",
       "3        4            Waiting to Exhale (1995)   \n",
       "4        5  Father of the Bride Part II (1995)   \n",
       "\n",
       "                                        genres  year  \n",
       "0  Adventure|Animation|Children|Comedy|Fantasy  1995  \n",
       "1                   Adventure|Children|Fantasy  1995  \n",
       "2                               Comedy|Romance  1995  \n",
       "3                         Comedy|Drama|Romance  1995  \n",
       "4                                       Comedy  1995  "
      ]
     },
     "execution_count": 70,
     "metadata": {},
     "output_type": "execute_result"
    }
   ],
   "source": [
    "movies.head()"
   ]
  },
  {
   "cell_type": "markdown",
   "metadata": {},
   "source": [
    "We can remove the years from the title using [str.replace](https://pandas.pydata.org/pandas-docs/stable/generated/pandas.Series.str.replace.html) function. "
   ]
  },
  {
   "cell_type": "code",
   "execution_count": 71,
   "metadata": {},
   "outputs": [
    {
     "data": {
      "text/html": [
       "<div>\n",
       "<style>\n",
       "    .dataframe thead tr:only-child th {\n",
       "        text-align: right;\n",
       "    }\n",
       "\n",
       "    .dataframe thead th {\n",
       "        text-align: left;\n",
       "    }\n",
       "\n",
       "    .dataframe tbody tr th {\n",
       "        vertical-align: top;\n",
       "    }\n",
       "</style>\n",
       "<table border=\"1\" class=\"dataframe\">\n",
       "  <thead>\n",
       "    <tr style=\"text-align: right;\">\n",
       "      <th></th>\n",
       "      <th>movieId</th>\n",
       "      <th>title</th>\n",
       "      <th>genres</th>\n",
       "      <th>year</th>\n",
       "    </tr>\n",
       "  </thead>\n",
       "  <tbody>\n",
       "    <tr>\n",
       "      <th>0</th>\n",
       "      <td>1</td>\n",
       "      <td>Toy Story</td>\n",
       "      <td>Adventure|Animation|Children|Comedy|Fantasy</td>\n",
       "      <td>1995</td>\n",
       "    </tr>\n",
       "    <tr>\n",
       "      <th>1</th>\n",
       "      <td>2</td>\n",
       "      <td>Jumanji</td>\n",
       "      <td>Adventure|Children|Fantasy</td>\n",
       "      <td>1995</td>\n",
       "    </tr>\n",
       "    <tr>\n",
       "      <th>2</th>\n",
       "      <td>3</td>\n",
       "      <td>Grumpier Old Men</td>\n",
       "      <td>Comedy|Romance</td>\n",
       "      <td>1995</td>\n",
       "    </tr>\n",
       "    <tr>\n",
       "      <th>3</th>\n",
       "      <td>4</td>\n",
       "      <td>Waiting to Exhale</td>\n",
       "      <td>Comedy|Drama|Romance</td>\n",
       "      <td>1995</td>\n",
       "    </tr>\n",
       "    <tr>\n",
       "      <th>4</th>\n",
       "      <td>5</td>\n",
       "      <td>Father of the Bride Part II</td>\n",
       "      <td>Comedy</td>\n",
       "      <td>1995</td>\n",
       "    </tr>\n",
       "  </tbody>\n",
       "</table>\n",
       "</div>"
      ],
      "text/plain": [
       "   movieId                         title  \\\n",
       "0        1                    Toy Story    \n",
       "1        2                      Jumanji    \n",
       "2        3             Grumpier Old Men    \n",
       "3        4            Waiting to Exhale    \n",
       "4        5  Father of the Bride Part II    \n",
       "\n",
       "                                        genres  year  \n",
       "0  Adventure|Animation|Children|Comedy|Fantasy  1995  \n",
       "1                   Adventure|Children|Fantasy  1995  \n",
       "2                               Comedy|Romance  1995  \n",
       "3                         Comedy|Drama|Romance  1995  \n",
       "4                                       Comedy  1995  "
      ]
     },
     "execution_count": 71,
     "metadata": {},
     "output_type": "execute_result"
    }
   ],
   "source": [
    "movies['title'] = movies['title'].str.replace('\\(\\d{4}\\)','')\n",
    "movies.head()"
   ]
  },
  {
   "cell_type": "markdown",
   "metadata": {},
   "source": [
    "We will create new columns for genres wıth boolean values. It will do will take time. Follow carefully:"
   ]
  },
  {
   "cell_type": "code",
   "execution_count": 72,
   "metadata": {},
   "outputs": [],
   "source": [
    "gen = movies['genres'].str.split('|')"
   ]
  },
  {
   "cell_type": "code",
   "execution_count": 73,
   "metadata": {},
   "outputs": [],
   "source": [
    "gen_list = []\n",
    "for i in gen:\n",
    "    for j in i:\n",
    "        gen_list.append(j)"
   ]
  },
  {
   "cell_type": "markdown",
   "metadata": {},
   "source": [
    "Find the unique genres:"
   ]
  },
  {
   "cell_type": "code",
   "execution_count": 74,
   "metadata": {
    "scrolled": false
   },
   "outputs": [
    {
     "name": "stdout",
     "output_type": "stream",
     "text": [
      "20\n"
     ]
    }
   ],
   "source": [
    "gen_list = set(gen_list) # set() function automatically removes the duplicates.\n",
    "gen_list = list(gen_list)\n",
    "print(len(gen_list))"
   ]
  },
  {
   "cell_type": "code",
   "execution_count": 75,
   "metadata": {},
   "outputs": [
    {
     "data": {
      "text/plain": [
       "['(no genres listed)',\n",
       " 'Action',\n",
       " 'Adventure',\n",
       " 'Animation',\n",
       " 'Children',\n",
       " 'Comedy',\n",
       " 'Crime',\n",
       " 'Documentary',\n",
       " 'Drama',\n",
       " 'Fantasy',\n",
       " 'Film-Noir',\n",
       " 'Horror',\n",
       " 'IMAX',\n",
       " 'Musical',\n",
       " 'Mystery',\n",
       " 'Romance',\n",
       " 'Sci-Fi',\n",
       " 'Thriller',\n",
       " 'War',\n",
       " 'Western']"
      ]
     },
     "execution_count": 75,
     "metadata": {},
     "output_type": "execute_result"
    }
   ],
   "source": [
    "gen_list=sorted(gen_list)\n",
    "gen_list"
   ]
  },
  {
   "cell_type": "markdown",
   "metadata": {},
   "source": [
    "We should drop the first value using `pop()` function:"
   ]
  },
  {
   "cell_type": "code",
   "execution_count": 76,
   "metadata": {},
   "outputs": [
    {
     "data": {
      "text/plain": [
       "'(no genres listed)'"
      ]
     },
     "execution_count": 76,
     "metadata": {},
     "output_type": "execute_result"
    }
   ],
   "source": [
    "gen_list.pop(0)"
   ]
  },
  {
   "cell_type": "markdown",
   "metadata": {},
   "source": [
    "It looks like we have 20 different genres. Let's define a new column for each of them:"
   ]
  },
  {
   "cell_type": "code",
   "execution_count": 77,
   "metadata": {},
   "outputs": [],
   "source": [
    "for i in gen_list:\n",
    "    movies[i] = movies['genres'].str.contains(str(i))"
   ]
  },
  {
   "cell_type": "code",
   "execution_count": 78,
   "metadata": {},
   "outputs": [
    {
     "data": {
      "text/html": [
       "<div>\n",
       "<style>\n",
       "    .dataframe thead tr:only-child th {\n",
       "        text-align: right;\n",
       "    }\n",
       "\n",
       "    .dataframe thead th {\n",
       "        text-align: left;\n",
       "    }\n",
       "\n",
       "    .dataframe tbody tr th {\n",
       "        vertical-align: top;\n",
       "    }\n",
       "</style>\n",
       "<table border=\"1\" class=\"dataframe\">\n",
       "  <thead>\n",
       "    <tr style=\"text-align: right;\">\n",
       "      <th></th>\n",
       "      <th>movieId</th>\n",
       "      <th>title</th>\n",
       "      <th>genres</th>\n",
       "      <th>year</th>\n",
       "      <th>Action</th>\n",
       "      <th>Adventure</th>\n",
       "      <th>Animation</th>\n",
       "      <th>Children</th>\n",
       "      <th>Comedy</th>\n",
       "      <th>Crime</th>\n",
       "      <th>...</th>\n",
       "      <th>Film-Noir</th>\n",
       "      <th>Horror</th>\n",
       "      <th>IMAX</th>\n",
       "      <th>Musical</th>\n",
       "      <th>Mystery</th>\n",
       "      <th>Romance</th>\n",
       "      <th>Sci-Fi</th>\n",
       "      <th>Thriller</th>\n",
       "      <th>War</th>\n",
       "      <th>Western</th>\n",
       "    </tr>\n",
       "  </thead>\n",
       "  <tbody>\n",
       "    <tr>\n",
       "      <th>0</th>\n",
       "      <td>1</td>\n",
       "      <td>Toy Story</td>\n",
       "      <td>Adventure|Animation|Children|Comedy|Fantasy</td>\n",
       "      <td>1995</td>\n",
       "      <td>False</td>\n",
       "      <td>True</td>\n",
       "      <td>True</td>\n",
       "      <td>True</td>\n",
       "      <td>True</td>\n",
       "      <td>False</td>\n",
       "      <td>...</td>\n",
       "      <td>False</td>\n",
       "      <td>False</td>\n",
       "      <td>False</td>\n",
       "      <td>False</td>\n",
       "      <td>False</td>\n",
       "      <td>False</td>\n",
       "      <td>False</td>\n",
       "      <td>False</td>\n",
       "      <td>False</td>\n",
       "      <td>False</td>\n",
       "    </tr>\n",
       "    <tr>\n",
       "      <th>1</th>\n",
       "      <td>2</td>\n",
       "      <td>Jumanji</td>\n",
       "      <td>Adventure|Children|Fantasy</td>\n",
       "      <td>1995</td>\n",
       "      <td>False</td>\n",
       "      <td>True</td>\n",
       "      <td>False</td>\n",
       "      <td>True</td>\n",
       "      <td>False</td>\n",
       "      <td>False</td>\n",
       "      <td>...</td>\n",
       "      <td>False</td>\n",
       "      <td>False</td>\n",
       "      <td>False</td>\n",
       "      <td>False</td>\n",
       "      <td>False</td>\n",
       "      <td>False</td>\n",
       "      <td>False</td>\n",
       "      <td>False</td>\n",
       "      <td>False</td>\n",
       "      <td>False</td>\n",
       "    </tr>\n",
       "    <tr>\n",
       "      <th>2</th>\n",
       "      <td>3</td>\n",
       "      <td>Grumpier Old Men</td>\n",
       "      <td>Comedy|Romance</td>\n",
       "      <td>1995</td>\n",
       "      <td>False</td>\n",
       "      <td>False</td>\n",
       "      <td>False</td>\n",
       "      <td>False</td>\n",
       "      <td>True</td>\n",
       "      <td>False</td>\n",
       "      <td>...</td>\n",
       "      <td>False</td>\n",
       "      <td>False</td>\n",
       "      <td>False</td>\n",
       "      <td>False</td>\n",
       "      <td>False</td>\n",
       "      <td>True</td>\n",
       "      <td>False</td>\n",
       "      <td>False</td>\n",
       "      <td>False</td>\n",
       "      <td>False</td>\n",
       "    </tr>\n",
       "    <tr>\n",
       "      <th>3</th>\n",
       "      <td>4</td>\n",
       "      <td>Waiting to Exhale</td>\n",
       "      <td>Comedy|Drama|Romance</td>\n",
       "      <td>1995</td>\n",
       "      <td>False</td>\n",
       "      <td>False</td>\n",
       "      <td>False</td>\n",
       "      <td>False</td>\n",
       "      <td>True</td>\n",
       "      <td>False</td>\n",
       "      <td>...</td>\n",
       "      <td>False</td>\n",
       "      <td>False</td>\n",
       "      <td>False</td>\n",
       "      <td>False</td>\n",
       "      <td>False</td>\n",
       "      <td>True</td>\n",
       "      <td>False</td>\n",
       "      <td>False</td>\n",
       "      <td>False</td>\n",
       "      <td>False</td>\n",
       "    </tr>\n",
       "    <tr>\n",
       "      <th>4</th>\n",
       "      <td>5</td>\n",
       "      <td>Father of the Bride Part II</td>\n",
       "      <td>Comedy</td>\n",
       "      <td>1995</td>\n",
       "      <td>False</td>\n",
       "      <td>False</td>\n",
       "      <td>False</td>\n",
       "      <td>False</td>\n",
       "      <td>True</td>\n",
       "      <td>False</td>\n",
       "      <td>...</td>\n",
       "      <td>False</td>\n",
       "      <td>False</td>\n",
       "      <td>False</td>\n",
       "      <td>False</td>\n",
       "      <td>False</td>\n",
       "      <td>False</td>\n",
       "      <td>False</td>\n",
       "      <td>False</td>\n",
       "      <td>False</td>\n",
       "      <td>False</td>\n",
       "    </tr>\n",
       "  </tbody>\n",
       "</table>\n",
       "<p>5 rows × 23 columns</p>\n",
       "</div>"
      ],
      "text/plain": [
       "   movieId                         title  \\\n",
       "0        1                    Toy Story    \n",
       "1        2                      Jumanji    \n",
       "2        3             Grumpier Old Men    \n",
       "3        4            Waiting to Exhale    \n",
       "4        5  Father of the Bride Part II    \n",
       "\n",
       "                                        genres  year  Action  Adventure  \\\n",
       "0  Adventure|Animation|Children|Comedy|Fantasy  1995   False       True   \n",
       "1                   Adventure|Children|Fantasy  1995   False       True   \n",
       "2                               Comedy|Romance  1995   False      False   \n",
       "3                         Comedy|Drama|Romance  1995   False      False   \n",
       "4                                       Comedy  1995   False      False   \n",
       "\n",
       "   Animation  Children  Comedy  Crime   ...     Film-Noir  Horror   IMAX  \\\n",
       "0       True      True    True  False   ...         False   False  False   \n",
       "1      False      True   False  False   ...         False   False  False   \n",
       "2      False     False    True  False   ...         False   False  False   \n",
       "3      False     False    True  False   ...         False   False  False   \n",
       "4      False     False    True  False   ...         False   False  False   \n",
       "\n",
       "   Musical  Mystery  Romance  Sci-Fi  Thriller    War  Western  \n",
       "0    False    False    False   False     False  False    False  \n",
       "1    False    False    False   False     False  False    False  \n",
       "2    False    False     True   False     False  False    False  \n",
       "3    False    False     True   False     False  False    False  \n",
       "4    False    False    False   False     False  False    False  \n",
       "\n",
       "[5 rows x 23 columns]"
      ]
     },
     "execution_count": 78,
     "metadata": {},
     "output_type": "execute_result"
    }
   ],
   "source": [
    "movies.head()"
   ]
  },
  {
   "cell_type": "markdown",
   "metadata": {},
   "source": [
    "Now we can drop the `genres` column:"
   ]
  },
  {
   "cell_type": "code",
   "execution_count": 79,
   "metadata": {
    "collapsed": true
   },
   "outputs": [],
   "source": [
    "del movies['genres']"
   ]
  },
  {
   "cell_type": "code",
   "execution_count": 80,
   "metadata": {},
   "outputs": [
    {
     "data": {
      "text/html": [
       "<div>\n",
       "<style>\n",
       "    .dataframe thead tr:only-child th {\n",
       "        text-align: right;\n",
       "    }\n",
       "\n",
       "    .dataframe thead th {\n",
       "        text-align: left;\n",
       "    }\n",
       "\n",
       "    .dataframe tbody tr th {\n",
       "        vertical-align: top;\n",
       "    }\n",
       "</style>\n",
       "<table border=\"1\" class=\"dataframe\">\n",
       "  <thead>\n",
       "    <tr style=\"text-align: right;\">\n",
       "      <th></th>\n",
       "      <th>movieId</th>\n",
       "      <th>title</th>\n",
       "      <th>year</th>\n",
       "      <th>Action</th>\n",
       "      <th>Adventure</th>\n",
       "      <th>Animation</th>\n",
       "      <th>Children</th>\n",
       "      <th>Comedy</th>\n",
       "      <th>Crime</th>\n",
       "      <th>Documentary</th>\n",
       "      <th>...</th>\n",
       "      <th>Film-Noir</th>\n",
       "      <th>Horror</th>\n",
       "      <th>IMAX</th>\n",
       "      <th>Musical</th>\n",
       "      <th>Mystery</th>\n",
       "      <th>Romance</th>\n",
       "      <th>Sci-Fi</th>\n",
       "      <th>Thriller</th>\n",
       "      <th>War</th>\n",
       "      <th>Western</th>\n",
       "    </tr>\n",
       "  </thead>\n",
       "  <tbody>\n",
       "    <tr>\n",
       "      <th>0</th>\n",
       "      <td>1</td>\n",
       "      <td>Toy Story</td>\n",
       "      <td>1995</td>\n",
       "      <td>False</td>\n",
       "      <td>True</td>\n",
       "      <td>True</td>\n",
       "      <td>True</td>\n",
       "      <td>True</td>\n",
       "      <td>False</td>\n",
       "      <td>False</td>\n",
       "      <td>...</td>\n",
       "      <td>False</td>\n",
       "      <td>False</td>\n",
       "      <td>False</td>\n",
       "      <td>False</td>\n",
       "      <td>False</td>\n",
       "      <td>False</td>\n",
       "      <td>False</td>\n",
       "      <td>False</td>\n",
       "      <td>False</td>\n",
       "      <td>False</td>\n",
       "    </tr>\n",
       "    <tr>\n",
       "      <th>1</th>\n",
       "      <td>2</td>\n",
       "      <td>Jumanji</td>\n",
       "      <td>1995</td>\n",
       "      <td>False</td>\n",
       "      <td>True</td>\n",
       "      <td>False</td>\n",
       "      <td>True</td>\n",
       "      <td>False</td>\n",
       "      <td>False</td>\n",
       "      <td>False</td>\n",
       "      <td>...</td>\n",
       "      <td>False</td>\n",
       "      <td>False</td>\n",
       "      <td>False</td>\n",
       "      <td>False</td>\n",
       "      <td>False</td>\n",
       "      <td>False</td>\n",
       "      <td>False</td>\n",
       "      <td>False</td>\n",
       "      <td>False</td>\n",
       "      <td>False</td>\n",
       "    </tr>\n",
       "    <tr>\n",
       "      <th>2</th>\n",
       "      <td>3</td>\n",
       "      <td>Grumpier Old Men</td>\n",
       "      <td>1995</td>\n",
       "      <td>False</td>\n",
       "      <td>False</td>\n",
       "      <td>False</td>\n",
       "      <td>False</td>\n",
       "      <td>True</td>\n",
       "      <td>False</td>\n",
       "      <td>False</td>\n",
       "      <td>...</td>\n",
       "      <td>False</td>\n",
       "      <td>False</td>\n",
       "      <td>False</td>\n",
       "      <td>False</td>\n",
       "      <td>False</td>\n",
       "      <td>True</td>\n",
       "      <td>False</td>\n",
       "      <td>False</td>\n",
       "      <td>False</td>\n",
       "      <td>False</td>\n",
       "    </tr>\n",
       "    <tr>\n",
       "      <th>3</th>\n",
       "      <td>4</td>\n",
       "      <td>Waiting to Exhale</td>\n",
       "      <td>1995</td>\n",
       "      <td>False</td>\n",
       "      <td>False</td>\n",
       "      <td>False</td>\n",
       "      <td>False</td>\n",
       "      <td>True</td>\n",
       "      <td>False</td>\n",
       "      <td>False</td>\n",
       "      <td>...</td>\n",
       "      <td>False</td>\n",
       "      <td>False</td>\n",
       "      <td>False</td>\n",
       "      <td>False</td>\n",
       "      <td>False</td>\n",
       "      <td>True</td>\n",
       "      <td>False</td>\n",
       "      <td>False</td>\n",
       "      <td>False</td>\n",
       "      <td>False</td>\n",
       "    </tr>\n",
       "    <tr>\n",
       "      <th>4</th>\n",
       "      <td>5</td>\n",
       "      <td>Father of the Bride Part II</td>\n",
       "      <td>1995</td>\n",
       "      <td>False</td>\n",
       "      <td>False</td>\n",
       "      <td>False</td>\n",
       "      <td>False</td>\n",
       "      <td>True</td>\n",
       "      <td>False</td>\n",
       "      <td>False</td>\n",
       "      <td>...</td>\n",
       "      <td>False</td>\n",
       "      <td>False</td>\n",
       "      <td>False</td>\n",
       "      <td>False</td>\n",
       "      <td>False</td>\n",
       "      <td>False</td>\n",
       "      <td>False</td>\n",
       "      <td>False</td>\n",
       "      <td>False</td>\n",
       "      <td>False</td>\n",
       "    </tr>\n",
       "  </tbody>\n",
       "</table>\n",
       "<p>5 rows × 22 columns</p>\n",
       "</div>"
      ],
      "text/plain": [
       "   movieId                         title  year  Action  Adventure  Animation  \\\n",
       "0        1                    Toy Story   1995   False       True       True   \n",
       "1        2                      Jumanji   1995   False       True      False   \n",
       "2        3             Grumpier Old Men   1995   False      False      False   \n",
       "3        4            Waiting to Exhale   1995   False      False      False   \n",
       "4        5  Father of the Bride Part II   1995   False      False      False   \n",
       "\n",
       "   Children  Comedy  Crime  Documentary   ...     Film-Noir  Horror   IMAX  \\\n",
       "0      True    True  False        False   ...         False   False  False   \n",
       "1      True   False  False        False   ...         False   False  False   \n",
       "2     False    True  False        False   ...         False   False  False   \n",
       "3     False    True  False        False   ...         False   False  False   \n",
       "4     False    True  False        False   ...         False   False  False   \n",
       "\n",
       "   Musical  Mystery  Romance  Sci-Fi  Thriller    War  Western  \n",
       "0    False    False    False   False     False  False    False  \n",
       "1    False    False    False   False     False  False    False  \n",
       "2    False    False     True   False     False  False    False  \n",
       "3    False    False     True   False     False  False    False  \n",
       "4    False    False    False   False     False  False    False  \n",
       "\n",
       "[5 rows x 22 columns]"
      ]
     },
     "execution_count": 80,
     "metadata": {},
     "output_type": "execute_result"
    }
   ],
   "source": [
    "movies.head()"
   ]
  },
  {
   "cell_type": "code",
   "execution_count": 81,
   "metadata": {},
   "outputs": [
    {
     "data": {
      "text/plain": [
       "Film-Noir       133\n",
       "IMAX            153\n",
       "Western         168\n",
       "War             367\n",
       "Musical         394\n",
       "Animation       447\n",
       "Documentary     494\n",
       "Mystery         543\n",
       "Children        583\n",
       "Fantasy         654\n",
       "Sci-Fi          792\n",
       "Horror          877\n",
       "Crime          1100\n",
       "Adventure      1117\n",
       "Romance        1545\n",
       "Action         1545\n",
       "Thriller       1729\n",
       "Comedy         3315\n",
       "Drama          4364\n",
       "dtype: int64"
      ]
     },
     "execution_count": 81,
     "metadata": {},
     "output_type": "execute_result"
    }
   ],
   "source": [
    "movies[gen_list].sum().sort_values()"
   ]
  },
  {
   "cell_type": "code",
   "execution_count": 82,
   "metadata": {},
   "outputs": [
    {
     "data": {
      "text/plain": [
       "<matplotlib.axes._subplots.AxesSubplot at 0x1ea7caccda0>"
      ]
     },
     "execution_count": 82,
     "metadata": {},
     "output_type": "execute_result"
    },
    {
     "data": {
      "image/png": "[encoded data removed]",
      "text/plain": [
       "<matplotlib.figure.Figure at 0x1ea7c899eb8>"
      ]
     },
     "metadata": {},
     "output_type": "display_data"
    }
   ],
   "source": [
    "movies[gen_list].sum().plot(kind = 'bar')"
   ]
  },
  {
   "cell_type": "code",
   "execution_count": 83,
   "metadata": {},
   "outputs": [],
   "source": [
    "movies['year'] = pd.to_numeric(movies['year'])"
   ]
  },
  {
   "cell_type": "code",
   "execution_count": 90,
   "metadata": {},
   "outputs": [
    {
     "data": {
      "text/plain": [
       "<matplotlib.axes._subplots.AxesSubplot at 0x1ea7e06dd30>"
      ]
     },
     "execution_count": 90,
     "metadata": {},
     "output_type": "execute_result"
    },
    {
     "data": {
      "image/png": "[encoded data removed]",
      "text/plain": [
       "<matplotlib.figure.Figure at 0x1ea7e0d9828>"
      ]
     },
     "metadata": {},
     "output_type": "display_data"
    }
   ],
   "source": [
    "movies['year'].plot(kind = 'line')"
   ]
  },
  {
   "cell_type": "markdown",
   "metadata": {},
   "source": [
    "Should drop some irrelevant years..."
   ]
  },
  {
   "cell_type": "code",
   "execution_count": null,
   "metadata": {
    "collapsed": true
   },
   "outputs": [],
   "source": []
  },
  {
   "cell_type": "code",
   "execution_count": null,
   "metadata": {
    "collapsed": true
   },
   "outputs": [],
   "source": []
  },
  {
   "cell_type": "code",
   "execution_count": null,
   "metadata": {
    "collapsed": true
   },
   "outputs": [],
   "source": []
  },
  {
   "cell_type": "code",
   "execution_count": null,
   "metadata": {
    "collapsed": true
   },
   "outputs": [],
   "source": []
  },
  {
   "cell_type": "code",
   "execution_count": null,
   "metadata": {
    "collapsed": true
   },
   "outputs": [],
   "source": []
  },
  {
   "cell_type": "code",
   "execution_count": null,
   "metadata": {
    "collapsed": true
   },
   "outputs": [],
   "source": []
  },
  {
   "cell_type": "markdown",
   "metadata": {},
   "source": [
    "## References"
   ]
  },
  {
   "cell_type": "markdown",
   "metadata": {},
   "source": [
    "1. https://pandas.pydata.org/pandas-docs/stable/tutorials.html\n",
    "2. https://www.quantopian.com/lectures\n",
    "3. https://grouplens.org/datasets/movielens/"
   ]
  }
 ],
 "metadata": {
  "kernelspec": {
   "display_name": "Python 3",
   "language": "python",
   "name": "python3"
  },
  "language_info": {
   "codemirror_mode": {
    "name": "ipython",
    "version": 3
   },
   "file_extension": ".py",
   "mimetype": "text/x-python",
   "name": "python",
   "nbconvert_exporter": "python",
   "pygments_lexer": "ipython3",
   "version": "3.6.3"
  }
 },
 "nbformat": 4,
 "nbformat_minor": 2
}
