{
 "cells": [
  {
   "cell_type": "markdown",
   "metadata": {},
   "source": [
    "# Pandas Introduction"
   ]
  },
  {
   "cell_type": "markdown",
   "metadata": {},
   "source": [
    "Framework of this course and some examples are taken from the [Quantopian](https://www.quantopian.com/lectures). Quantopian lectures are not for Python version we use in the course. So there are some syntax differences. \n",
    "\n",
    "So far we learnt basic concepts about the libraries with [Numpy Introduction](https://itueconomics.github.io/bil113e/python2-numpy.html) course. We will introduce another major library used for stastics, big data and similar works. We will use pandas with numpy together:"
   ]
  },
  {
   "cell_type": "code",
   "execution_count": 1,
   "metadata": {
    "collapsed": true
   },
   "outputs": [],
   "source": [
    "import numpy as np\n",
    "import pandas as pd"
   ]
  },
  {
   "cell_type": "markdown",
   "metadata": {},
   "source": [
    "Please add a command to show `matplotlib` libraries. We will introduce `matplotlib` library in the **Data Visualization** course later."
   ]
  },
  {
   "cell_type": "code",
   "execution_count": 2,
   "metadata": {
    "collapsed": true
   },
   "outputs": [],
   "source": [
    "%matplotlib inline"
   ]
  },
  {
   "cell_type": "markdown",
   "metadata": {},
   "source": [
    "Let's create a [random.normal](https://docs.scipy.org/doc/numpy/reference/generated/numpy.random.normal.html) function to define a random dataset contains 100 values, with mean $0$ and standard deviation $ 0.5$."
   ]
  },
  {
   "cell_type": "code",
   "execution_count": 3,
   "metadata": {
    "collapsed": true
   },
   "outputs": [],
   "source": [
    "dist = np.random.normal(0, 0.5, (100,))"
   ]
  },
  {
   "cell_type": "code",
   "execution_count": 4,
   "metadata": {},
   "outputs": [
    {
     "name": "stdout",
     "output_type": "stream",
     "text": [
      "(100,)\n"
     ]
    }
   ],
   "source": [
    "print(dist.shape)"
   ]
  },
  {
   "cell_type": "markdown",
   "metadata": {},
   "source": [
    "## Series"
   ]
  },
  {
   "cell_type": "markdown",
   "metadata": {},
   "source": [
    "Using `pandas` library we can convert `dist` array into a `Series`:"
   ]
  },
  {
   "cell_type": "code",
   "execution_count": 5,
   "metadata": {
    "collapsed": true
   },
   "outputs": [],
   "source": [
    "s = pd.Series(dist)"
   ]
  },
  {
   "cell_type": "code",
   "execution_count": 6,
   "metadata": {},
   "outputs": [
    {
     "data": {
      "text/plain": [
       "0    0.206460\n",
       "1   -0.276749\n",
       "2   -0.228649\n",
       "3   -1.062890\n",
       "4    0.428246\n",
       "dtype: float64"
      ]
     },
     "execution_count": 6,
     "metadata": {},
     "output_type": "execute_result"
    }
   ],
   "source": [
    "s.head() # First 5 element"
   ]
  },
  {
   "cell_type": "code",
   "execution_count": 7,
   "metadata": {},
   "outputs": [
    {
     "data": {
      "text/plain": [
       "0    0.206460\n",
       "1   -0.276749\n",
       "2   -0.228649\n",
       "3   -1.062890\n",
       "4    0.428246\n",
       "5   -0.592387\n",
       "6   -0.059625\n",
       "7    0.278515\n",
       "8   -0.446481\n",
       "9    0.311996\n",
       "dtype: float64"
      ]
     },
     "execution_count": 7,
     "metadata": {},
     "output_type": "execute_result"
    }
   ],
   "source": [
    "s.head(10) # First 10 element"
   ]
  },
  {
   "cell_type": "code",
   "execution_count": 8,
   "metadata": {},
   "outputs": [
    {
     "data": {
      "text/plain": [
       "95    0.081638\n",
       "96    0.170132\n",
       "97    0.623729\n",
       "98   -0.735012\n",
       "99   -0.558608\n",
       "dtype: float64"
      ]
     },
     "execution_count": 8,
     "metadata": {},
     "output_type": "execute_result"
    }
   ],
   "source": [
    "s.tail() # Last 5 element"
   ]
  },
  {
   "cell_type": "code",
   "execution_count": 9,
   "metadata": {},
   "outputs": [
    {
     "data": {
      "text/plain": [
       "90    0.124739\n",
       "91   -0.110149\n",
       "92   -0.040255\n",
       "93   -0.566723\n",
       "94   -0.278076\n",
       "95    0.081638\n",
       "96    0.170132\n",
       "97    0.623729\n",
       "98   -0.735012\n",
       "99   -0.558608\n",
       "dtype: float64"
      ]
     },
     "execution_count": 9,
     "metadata": {},
     "output_type": "execute_result"
    }
   ],
   "source": [
    "s.tail(10) # Last 10 element"
   ]
  },
  {
   "cell_type": "code",
   "execution_count": 10,
   "metadata": {},
   "outputs": [
    {
     "data": {
      "text/plain": [
       "<matplotlib.axes._subplots.AxesSubplot at 0x25e5ecca7b8>"
      ]
     },
     "execution_count": 10,
     "metadata": {},
     "output_type": "execute_result"
    },
    {
     "data": {
      "image/png": "[encoded data removed]",
      "text/plain": [
       "<matplotlib.figure.Figure at 0x25e5eb85be0>"
      ]
     },
     "metadata": {},
     "output_type": "display_data"
    }
   ],
   "source": [
    "s.plot()"
   ]
  },
  {
   "cell_type": "markdown",
   "metadata": {},
   "source": [
    "This is our Series data. Unlike the arrays Series have other options. `Series` are more useful for data analysis compared to the arrays. Though they have different uses. "
   ]
  },
  {
   "cell_type": "code",
   "execution_count": 11,
   "metadata": {},
   "outputs": [
    {
     "name": "stdout",
     "output_type": "stream",
     "text": [
      "None\n"
     ]
    }
   ],
   "source": [
    "print(s.name)"
   ]
  },
  {
   "cell_type": "markdown",
   "metadata": {},
   "source": [
    "We do not have a name for series. Let's define it:"
   ]
  },
  {
   "cell_type": "code",
   "execution_count": 12,
   "metadata": {},
   "outputs": [
    {
     "name": "stdout",
     "output_type": "stream",
     "text": [
      "Stock returns\n"
     ]
    }
   ],
   "source": [
    "s.name = \"Stock returns\"\n",
    "print(s.name)"
   ]
  },
  {
   "cell_type": "code",
   "execution_count": 13,
   "metadata": {},
   "outputs": [
    {
     "name": "stdout",
     "output_type": "stream",
     "text": [
      "RangeIndex(start=0, stop=100, step=1)\n"
     ]
    }
   ],
   "source": [
    "print(s.index)"
   ]
  },
  {
   "cell_type": "markdown",
   "metadata": {},
   "source": [
    "Assume that this is a return data of a stock. So the Index range should be data, daily:"
   ]
  },
  {
   "cell_type": "markdown",
   "metadata": {},
   "source": [
    "[pandas.date_range](https://pandas.pydata.org/pandas-docs/stable/generated/pandas.date_range.html)"
   ]
  },
  {
   "cell_type": "code",
   "execution_count": 14,
   "metadata": {
    "collapsed": true
   },
   "outputs": [],
   "source": [
    "new_index = pd.date_range(\"2016-01-01\", periods=len(s), freq=\"B\")"
   ]
  },
  {
   "cell_type": "markdown",
   "metadata": {},
   "source": [
    "- set a starting date: `2016-01-01`\n",
    "- defined the periods with: `len(s)`\n",
    "- frequency created for the business days to skip weekends: `B`"
   ]
  },
  {
   "cell_type": "code",
   "execution_count": 15,
   "metadata": {
    "collapsed": true
   },
   "outputs": [],
   "source": [
    "s.index = new_index"
   ]
  },
  {
   "cell_type": "markdown",
   "metadata": {},
   "source": [
    "We change the series index with `new_index` created above. Let's plot it:"
   ]
  },
  {
   "cell_type": "markdown",
   "metadata": {},
   "source": [
    "[pandas.series.plot](https://pandas.pydata.org/pandas-docs/stable/generated/pandas.Series.plot.html)"
   ]
  },
  {
   "cell_type": "code",
   "execution_count": 16,
   "metadata": {},
   "outputs": [
    {
     "data": {
      "text/plain": [
       "<matplotlib.axes._subplots.AxesSubplot at 0x25e5eccf710>"
      ]
     },
     "execution_count": 16,
     "metadata": {},
     "output_type": "execute_result"
    },
    {
     "data": {
      "image/png": "[encoded data removed]",
      "text/plain": [
       "<matplotlib.figure.Figure at 0x25e5bf024a8>"
      ]
     },
     "metadata": {},
     "output_type": "display_data"
    }
   ],
   "source": [
    "s.plot(title=s.name)"
   ]
  },
  {
   "cell_type": "markdown",
   "metadata": {},
   "source": [
    "Well... We have a more proper plot compared to the first one. Please be careful about the options. "
   ]
  },
  {
   "cell_type": "markdown",
   "metadata": {},
   "source": [
    "Assume these values are percentage, like `1%`. What happened at the end of the day? We need to define them as $s \\times 0.01 + $ to see their true values. After this process we will find cumulative product:"
   ]
  },
  {
   "cell_type": "code",
   "execution_count": 17,
   "metadata": {},
   "outputs": [
    {
     "data": {
      "text/plain": [
       "<matplotlib.axes._subplots.AxesSubplot at 0x25e5eec7cc0>"
      ]
     },
     "execution_count": 17,
     "metadata": {},
     "output_type": "execute_result"
    },
    {
     "data": {
      "image/png": "[encoded data removed]",
      "text/plain": [
       "<matplotlib.figure.Figure at 0x25e5f0d01d0>"
      ]
     },
     "metadata": {},
     "output_type": "display_data"
    }
   ],
   "source": [
    "s_cum = (s*0.01 + 1).cumprod()\n",
    "s_cum.plot(title=s_cum.name)"
   ]
  },
  {
   "cell_type": "markdown",
   "metadata": {},
   "source": [
    "It looks like within 100 days our stock price increased/decreased(percent): "
   ]
  },
  {
   "cell_type": "code",
   "execution_count": 18,
   "metadata": {},
   "outputs": [
    {
     "name": "stdout",
     "output_type": "stream",
     "text": [
      "0.710663278594\n"
     ]
    }
   ],
   "source": [
    "print((s_cum[-1] - 1)*100)"
   ]
  },
  {
   "cell_type": "markdown",
   "metadata": {},
   "source": [
    "### Accessing elements"
   ]
  },
  {
   "cell_type": "markdown",
   "metadata": {},
   "source": [
    "`iloc[start:end:step]`"
   ]
  },
  {
   "cell_type": "markdown",
   "metadata": {},
   "source": [
    "By default `step=1`."
   ]
  },
  {
   "cell_type": "code",
   "execution_count": 19,
   "metadata": {},
   "outputs": [
    {
     "name": "stdout",
     "output_type": "stream",
     "text": [
      "First element of the series:  0.2064604866\n",
      "Last element of the series:  -0.558607761734\n",
      "(or) Last element of the series:  -0.558607761734\n"
     ]
    }
   ],
   "source": [
    "print(\"First element of the series: \", s.iloc[0])\n",
    "print(\"Last element of the series: \", s.iloc[len(s)-1])\n",
    "print(\"(or) Last element of the series: \", s.iloc[-1])"
   ]
  },
  {
   "cell_type": "markdown",
   "metadata": {},
   "source": [
    "You can make slicing:"
   ]
  },
  {
   "cell_type": "code",
   "execution_count": 20,
   "metadata": {},
   "outputs": [
    {
     "name": "stdout",
     "output_type": "stream",
     "text": [
      "2016-01-01    0.206460\n",
      "2016-01-04   -0.276749\n",
      "2016-01-05   -0.228649\n",
      "2016-01-06   -1.062890\n",
      "2016-01-07    0.428246\n",
      "2016-01-08   -0.592387\n",
      "2016-01-11   -0.059625\n",
      "2016-01-12    0.278515\n",
      "2016-01-13   -0.446481\n",
      "2016-01-14    0.311996\n",
      "Freq: B, Name: Stock returns, dtype: float64\n"
     ]
    }
   ],
   "source": [
    "print(s.iloc[:10])"
   ]
  },
  {
   "cell_type": "code",
   "execution_count": 21,
   "metadata": {},
   "outputs": [
    {
     "name": "stdout",
     "output_type": "stream",
     "text": [
      "2016-01-01    0.206460\n",
      "2016-01-15    0.741621\n",
      "2016-01-29   -0.205949\n",
      "2016-02-12   -0.427155\n",
      "2016-02-26   -0.442942\n",
      "2016-03-11   -0.259963\n",
      "2016-03-25   -0.114082\n",
      "2016-04-08   -0.009781\n",
      "2016-04-22    0.233274\n",
      "2016-05-06    0.124739\n",
      "Freq: 10B, Name: Stock returns, dtype: float64\n"
     ]
    }
   ],
   "source": [
    "print(s.iloc[:100:10])"
   ]
  },
  {
   "cell_type": "markdown",
   "metadata": {},
   "source": [
    "You can access series elements with `index_name`:"
   ]
  },
  {
   "cell_type": "code",
   "execution_count": 22,
   "metadata": {},
   "outputs": [
    {
     "name": "stdout",
     "output_type": "stream",
     "text": [
      "0.2064604866\n"
     ]
    }
   ],
   "source": [
    "print(s.loc['2016-01-01'])"
   ]
  },
  {
   "cell_type": "code",
   "execution_count": 23,
   "metadata": {},
   "outputs": [
    {
     "name": "stdout",
     "output_type": "stream",
     "text": [
      "2016-01-01    0.206460\n",
      "2016-01-04   -0.276749\n",
      "2016-01-05   -0.228649\n",
      "2016-01-06   -1.062890\n",
      "2016-01-07    0.428246\n",
      "2016-01-08   -0.592387\n",
      "Freq: B, Name: Stock returns, dtype: float64\n"
     ]
    }
   ],
   "source": [
    "print(s.loc['2016-01-01':'2016-01-10']) # Between dates"
   ]
  },
  {
   "cell_type": "markdown",
   "metadata": {},
   "source": [
    "### Boolean"
   ]
  },
  {
   "cell_type": "markdown",
   "metadata": {},
   "source": [
    "Which dates have negative returns?"
   ]
  },
  {
   "cell_type": "code",
   "execution_count": 24,
   "metadata": {},
   "outputs": [
    {
     "name": "stdout",
     "output_type": "stream",
     "text": [
      "2016-01-01    False\n",
      "2016-01-04     True\n",
      "2016-01-05     True\n",
      "2016-01-06     True\n",
      "2016-01-07    False\n",
      "Freq: B, Name: Stock returns, dtype: bool\n"
     ]
    }
   ],
   "source": [
    "print((s < 0).head())"
   ]
  },
  {
   "cell_type": "markdown",
   "metadata": {},
   "source": [
    "How to access those series?"
   ]
  },
  {
   "cell_type": "code",
   "execution_count": 25,
   "metadata": {},
   "outputs": [
    {
     "name": "stdout",
     "output_type": "stream",
     "text": [
      "2016-01-04   -0.276749\n",
      "2016-01-05   -0.228649\n",
      "2016-01-06   -1.062890\n",
      "2016-01-08   -0.592387\n",
      "2016-01-11   -0.059625\n",
      "Name: Stock returns, dtype: float64\n"
     ]
    }
   ],
   "source": [
    "print(s[s < 0].head())"
   ]
  },
  {
   "cell_type": "code",
   "execution_count": 26,
   "metadata": {},
   "outputs": [
    {
     "name": "stdout",
     "output_type": "stream",
     "text": [
      "2016-04-13    1.226129\n",
      "Freq: B, Name: Stock returns, dtype: float64\n"
     ]
    }
   ],
   "source": [
    "print(s[s > 1])"
   ]
  },
  {
   "cell_type": "markdown",
   "metadata": {},
   "source": [
    "It looks like we have only series above that are greater than 1."
   ]
  },
  {
   "cell_type": "code",
   "execution_count": 27,
   "metadata": {},
   "outputs": [
    {
     "name": "stdout",
     "output_type": "stream",
     "text": [
      "2016-01-06   -1.062890\n",
      "2016-04-04   -1.233236\n",
      "2016-04-13    1.226129\n",
      "Name: Stock returns, dtype: float64\n"
     ]
    }
   ],
   "source": [
    "print(s[(s > 1) | (s < -1)])"
   ]
  },
  {
   "cell_type": "markdown",
   "metadata": {},
   "source": [
    "Or simply:"
   ]
  },
  {
   "cell_type": "code",
   "execution_count": 28,
   "metadata": {},
   "outputs": [
    {
     "name": "stdout",
     "output_type": "stream",
     "text": [
      "2016-01-06   -1.062890\n",
      "2016-04-04   -1.233236\n",
      "2016-04-13    1.226129\n",
      "Name: Stock returns, dtype: float64\n"
     ]
    }
   ],
   "source": [
    "print(s[np.abs(s) > 1])"
   ]
  },
  {
   "cell_type": "markdown",
   "metadata": {},
   "source": [
    "### Some basic functions:"
   ]
  },
  {
   "cell_type": "code",
   "execution_count": 29,
   "metadata": {},
   "outputs": [
    {
     "name": "stdout",
     "output_type": "stream",
     "text": [
      "0.008180270164569342\n",
      "0.47112885016508926\n",
      "1.22612898439\n",
      "-1.23323629512\n",
      "-0.015338590910960789\n"
     ]
    }
   ],
   "source": [
    "print(s.mean()) # mean\n",
    "print(s.std()) # standard deviation\n",
    "print(s.max()) # max value\n",
    "print(s.min()) # min value\n",
    "print(s.median()) # median value"
   ]
  },
  {
   "cell_type": "markdown",
   "metadata": {},
   "source": [
    "You can do all by just `describe` function:"
   ]
  },
  {
   "cell_type": "code",
   "execution_count": 30,
   "metadata": {},
   "outputs": [
    {
     "data": {
      "text/plain": [
       "count    100.000000\n",
       "mean       0.008180\n",
       "std        0.471129\n",
       "min       -1.233236\n",
       "25%       -0.302915\n",
       "50%       -0.015339\n",
       "75%        0.353289\n",
       "max        1.226129\n",
       "Name: Stock returns, dtype: float64"
      ]
     },
     "execution_count": 30,
     "metadata": {},
     "output_type": "execute_result"
    }
   ],
   "source": [
    "s.describe()"
   ]
  },
  {
   "cell_type": "code",
   "execution_count": 31,
   "metadata": {},
   "outputs": [
    {
     "name": "stdout",
     "output_type": "stream",
     "text": [
      "2016-01-01    0.206460\n",
      "2016-01-04    0.276749\n",
      "2016-01-05    0.228649\n",
      "2016-01-06    1.062890\n",
      "2016-01-07    0.428246\n",
      "Freq: B, Name: Stock returns, dtype: float64\n"
     ]
    }
   ],
   "source": [
    "print(s.abs().head()) # Returns absolute values"
   ]
  },
  {
   "cell_type": "markdown",
   "metadata": {},
   "source": [
    "### NaN values"
   ]
  },
  {
   "cell_type": "code",
   "execution_count": 32,
   "metadata": {
    "collapsed": true
   },
   "outputs": [],
   "source": [
    "new_series = pd.Series([1,5,np.nan,2,6,8,2,np.nan])"
   ]
  },
  {
   "cell_type": "code",
   "execution_count": 33,
   "metadata": {},
   "outputs": [
    {
     "data": {
      "text/plain": [
       "<matplotlib.axes._subplots.AxesSubplot at 0x25e5f0105c0>"
      ]
     },
     "execution_count": 33,
     "metadata": {},
     "output_type": "execute_result"
    },
    {
     "data": {
      "image/png": "[encoded data removed]",
      "text/plain": [
       "<matplotlib.figure.Figure at 0x25e5f041f98>"
      ]
     },
     "metadata": {},
     "output_type": "display_data"
    }
   ],
   "source": [
    "new_series.plot()"
   ]
  },
  {
   "cell_type": "markdown",
   "metadata": {},
   "source": [
    "We can drop null values:"
   ]
  },
  {
   "cell_type": "code",
   "execution_count": 34,
   "metadata": {
    "collapsed": true
   },
   "outputs": [],
   "source": [
    "new_series = new_series.dropna()"
   ]
  },
  {
   "cell_type": "code",
   "execution_count": 35,
   "metadata": {},
   "outputs": [
    {
     "data": {
      "text/plain": [
       "<matplotlib.axes._subplots.AxesSubplot at 0x25e5f15bd30>"
      ]
     },
     "execution_count": 35,
     "metadata": {},
     "output_type": "execute_result"
    },
    {
     "data": {
      "image/png": "[encoded data removed]",
      "text/plain": [
       "<matplotlib.figure.Figure at 0x25e5f16ff98>"
      ]
     },
     "metadata": {},
     "output_type": "display_data"
    }
   ],
   "source": [
    "new_series.plot()"
   ]
  },
  {
   "cell_type": "markdown",
   "metadata": {},
   "source": [
    "## DataFrame"
   ]
  },
  {
   "cell_type": "markdown",
   "metadata": {},
   "source": [
    "[pandas.DataFrame](https://pandas.pydata.org/pandas-docs/stable/generated/pandas.DataFrame.html)"
   ]
  },
  {
   "cell_type": "markdown",
   "metadata": {},
   "source": [
    "- Dataframe\n",
    "- rolling mean\n",
    "- file operations"
   ]
  },
  {
   "cell_type": "markdown",
   "metadata": {},
   "source": [
    "We can carry many operations of the `Series` within the `pandas.DataFrame`"
   ]
  },
  {
   "cell_type": "code",
   "execution_count": 36,
   "metadata": {},
   "outputs": [
    {
     "name": "stdout",
     "output_type": "stream",
     "text": [
      "{'a': [1, 2, 3, 4, 5], 'b': ['L', 'K', 'J', 'M', 'Z'], 'c': array([-0.68514057,  0.74877699, -0.85640892, -0.24735215,  0.42636971])}\n"
     ]
    }
   ],
   "source": [
    "dict_data = {\n",
    "    'a' : [1, 2, 3, 4, 5],\n",
    "    'b' : ['L', 'K', 'J', 'M', 'Z'],\n",
    "    'c' : np.random.normal(0, 1, 5)\n",
    "}\n",
    "print (dict_data)"
   ]
  },
  {
   "cell_type": "code",
   "execution_count": 37,
   "metadata": {},
   "outputs": [
    {
     "name": "stdout",
     "output_type": "stream",
     "text": [
      "            a  b         c\n",
      "2016-01-01  1  L -0.685141\n",
      "2016-01-02  2  K  0.748777\n",
      "2016-01-03  3  J -0.856409\n",
      "2016-01-04  4  M -0.247352\n",
      "2016-01-05  5  Z  0.426370\n"
     ]
    }
   ],
   "source": [
    "df = pd.DataFrame(dict_data, index=pd.date_range('2016-01-01', periods=5))\n",
    "print (df)"
   ]
  },
  {
   "cell_type": "markdown",
   "metadata": {},
   "source": [
    "What happened here is that we define three series named `a, b, and c`. They can converted to the `pandas.Series` seperately instead we create a `DataFrame` to combine all attributes. Each column in the `DataFrame` are a `pandas.Series`."
   ]
  },
  {
   "cell_type": "code",
   "execution_count": 38,
   "metadata": {},
   "outputs": [
    {
     "name": "stdout",
     "output_type": "stream",
     "text": [
      "<class 'pandas.core.series.Series'>\n",
      "<class 'pandas.core.series.Series'>\n",
      "<class 'pandas.core.series.Series'>\n"
     ]
    }
   ],
   "source": [
    "print(type(df['a']))\n",
    "print(type(df['b']))\n",
    "print(type(df['c']))"
   ]
  },
  {
   "cell_type": "markdown",
   "metadata": {},
   "source": [
    "But together:"
   ]
  },
  {
   "cell_type": "code",
   "execution_count": 39,
   "metadata": {},
   "outputs": [
    {
     "name": "stdout",
     "output_type": "stream",
     "text": [
      "<class 'pandas.core.frame.DataFrame'>\n"
     ]
    }
   ],
   "source": [
    "print(type(df))"
   ]
  },
  {
   "cell_type": "markdown",
   "metadata": {},
   "source": [
    "You can define a `DataFrame` in many ways:"
   ]
  },
  {
   "cell_type": "markdown",
   "metadata": {},
   "source": [
    "You do not necessarly type the name of the column. You can just write down the column indexes. First column is:"
   ]
  },
  {
   "cell_type": "code",
   "execution_count": 40,
   "metadata": {},
   "outputs": [
    {
     "data": {
      "text/plain": [
       "2016-01-01    1\n",
       "2016-01-02    2\n",
       "2016-01-03    3\n",
       "2016-01-04    4\n",
       "2016-01-05    5\n",
       "Freq: D, Name: a, dtype: int64"
      ]
     },
     "execution_count": 40,
     "metadata": {},
     "output_type": "execute_result"
    }
   ],
   "source": [
    "df.iloc[:,0].head()"
   ]
  },
  {
   "cell_type": "code",
   "execution_count": 41,
   "metadata": {},
   "outputs": [
    {
     "name": "stdout",
     "output_type": "stream",
     "text": [
      "   Evens  Odds\n",
      "0      2     1\n",
      "1      4     3\n",
      "2      6     5\n",
      "3      8     7\n",
      "4     10     9\n"
     ]
    }
   ],
   "source": [
    "s_1 = pd.Series([2, 4, 6, 8, 10], name='Evens')\n",
    "s_2 = pd.Series([1, 3, 5, 7, 9], name=\"Odds\")\n",
    "numbers = pd.concat([s_1, s_2], axis=1)\n",
    "print(numbers)"
   ]
  },
  {
   "cell_type": "markdown",
   "metadata": {},
   "source": [
    "Column names:"
   ]
  },
  {
   "cell_type": "code",
   "execution_count": 42,
   "metadata": {},
   "outputs": [
    {
     "name": "stdout",
     "output_type": "stream",
     "text": [
      "Index(['Evens', 'Odds'], dtype='object')\n"
     ]
    }
   ],
   "source": [
    "print(numbers.columns)"
   ]
  },
  {
   "cell_type": "markdown",
   "metadata": {},
   "source": [
    "Change column names:"
   ]
  },
  {
   "cell_type": "code",
   "execution_count": 43,
   "metadata": {
    "collapsed": true
   },
   "outputs": [],
   "source": [
    "numbers.columns = ['Shmevens', 'Shmodds']"
   ]
  },
  {
   "cell_type": "code",
   "execution_count": 44,
   "metadata": {},
   "outputs": [
    {
     "name": "stdout",
     "output_type": "stream",
     "text": [
      "   Shmevens  Shmodds\n",
      "0         2        1\n",
      "1         4        3\n",
      "2         6        5\n",
      "3         8        7\n",
      "4        10        9\n"
     ]
    }
   ],
   "source": [
    "print(numbers)"
   ]
  },
  {
   "cell_type": "markdown",
   "metadata": {},
   "source": [
    "Most of the attributes of the `pandas.Series` are valid for `DataFrames`:"
   ]
  },
  {
   "cell_type": "code",
   "execution_count": 45,
   "metadata": {},
   "outputs": [
    {
     "name": "stdout",
     "output_type": "stream",
     "text": [
      "RangeIndex(start=0, stop=5, step=1)\n"
     ]
    }
   ],
   "source": [
    "print(numbers.index)"
   ]
  },
  {
   "cell_type": "code",
   "execution_count": 46,
   "metadata": {},
   "outputs": [
    {
     "name": "stdout",
     "output_type": "stream",
     "text": [
      "            Shmevens  Shmodds\n",
      "2016-01-01         2        1\n",
      "2016-01-02         4        3\n",
      "2016-01-03         6        5\n",
      "2016-01-04         8        7\n",
      "2016-01-05        10        9\n"
     ]
    }
   ],
   "source": [
    "numbers.index = pd.date_range(\"2016-01-01\", periods=len(numbers))\n",
    "print(numbers)"
   ]
  },
  {
   "cell_type": "code",
   "execution_count": 47,
   "metadata": {},
   "outputs": [
    {
     "name": "stdout",
     "output_type": "stream",
     "text": [
      "[[ 2  1]\n",
      " [ 4  3]\n",
      " [ 6  5]\n",
      " [ 8  7]\n",
      " [10  9]]\n"
     ]
    }
   ],
   "source": [
    "print(numbers.values)"
   ]
  },
  {
   "cell_type": "markdown",
   "metadata": {},
   "source": [
    "Let's create a similar DataFrame as done with series, randomly:"
   ]
  },
  {
   "cell_type": "code",
   "execution_count": 48,
   "metadata": {
    "collapsed": true
   },
   "outputs": [],
   "source": [
    "dist = np.random.normal(0, 0.5, (100,10))"
   ]
  },
  {
   "cell_type": "code",
   "execution_count": 49,
   "metadata": {},
   "outputs": [
    {
     "data": {
      "text/html": [
       "<div>\n",
       "<style>\n",
       "    .dataframe thead tr:only-child th {\n",
       "        text-align: right;\n",
       "    }\n",
       "\n",
       "    .dataframe thead th {\n",
       "        text-align: left;\n",
       "    }\n",
       "\n",
       "    .dataframe tbody tr th {\n",
       "        vertical-align: top;\n",
       "    }\n",
       "</style>\n",
       "<table border=\"1\" class=\"dataframe\">\n",
       "  <thead>\n",
       "    <tr style=\"text-align: right;\">\n",
       "      <th></th>\n",
       "      <th>0</th>\n",
       "      <th>1</th>\n",
       "      <th>2</th>\n",
       "      <th>3</th>\n",
       "      <th>4</th>\n",
       "      <th>5</th>\n",
       "      <th>6</th>\n",
       "      <th>7</th>\n",
       "      <th>8</th>\n",
       "      <th>9</th>\n",
       "    </tr>\n",
       "  </thead>\n",
       "  <tbody>\n",
       "    <tr>\n",
       "      <th>0</th>\n",
       "      <td>-0.446992</td>\n",
       "      <td>-0.125940</td>\n",
       "      <td>-0.000399</td>\n",
       "      <td>-0.501827</td>\n",
       "      <td>0.115230</td>\n",
       "      <td>0.479060</td>\n",
       "      <td>-0.116413</td>\n",
       "      <td>-0.409685</td>\n",
       "      <td>0.590708</td>\n",
       "      <td>-0.350776</td>\n",
       "    </tr>\n",
       "    <tr>\n",
       "      <th>1</th>\n",
       "      <td>-0.330578</td>\n",
       "      <td>0.802011</td>\n",
       "      <td>1.222257</td>\n",
       "      <td>-0.051850</td>\n",
       "      <td>0.775409</td>\n",
       "      <td>0.386112</td>\n",
       "      <td>-0.018506</td>\n",
       "      <td>0.505156</td>\n",
       "      <td>-0.428722</td>\n",
       "      <td>0.651669</td>\n",
       "    </tr>\n",
       "    <tr>\n",
       "      <th>2</th>\n",
       "      <td>0.598588</td>\n",
       "      <td>1.074359</td>\n",
       "      <td>1.346447</td>\n",
       "      <td>0.452431</td>\n",
       "      <td>-0.092580</td>\n",
       "      <td>-0.575396</td>\n",
       "      <td>-0.199225</td>\n",
       "      <td>-0.544727</td>\n",
       "      <td>0.151302</td>\n",
       "      <td>-0.172620</td>\n",
       "    </tr>\n",
       "    <tr>\n",
       "      <th>3</th>\n",
       "      <td>1.124833</td>\n",
       "      <td>-0.491186</td>\n",
       "      <td>-0.568421</td>\n",
       "      <td>-0.454849</td>\n",
       "      <td>0.271061</td>\n",
       "      <td>-0.675577</td>\n",
       "      <td>-0.446528</td>\n",
       "      <td>0.302356</td>\n",
       "      <td>0.223904</td>\n",
       "      <td>-0.554224</td>\n",
       "    </tr>\n",
       "    <tr>\n",
       "      <th>4</th>\n",
       "      <td>0.125049</td>\n",
       "      <td>0.324779</td>\n",
       "      <td>0.352703</td>\n",
       "      <td>0.053338</td>\n",
       "      <td>0.607782</td>\n",
       "      <td>-0.678665</td>\n",
       "      <td>-0.452536</td>\n",
       "      <td>0.291534</td>\n",
       "      <td>-0.640169</td>\n",
       "      <td>0.182811</td>\n",
       "    </tr>\n",
       "  </tbody>\n",
       "</table>\n",
       "</div>"
      ],
      "text/plain": [
       "          0         1         2         3         4         5         6  \\\n",
       "0 -0.446992 -0.125940 -0.000399 -0.501827  0.115230  0.479060 -0.116413   \n",
       "1 -0.330578  0.802011  1.222257 -0.051850  0.775409  0.386112 -0.018506   \n",
       "2  0.598588  1.074359  1.346447  0.452431 -0.092580 -0.575396 -0.199225   \n",
       "3  1.124833 -0.491186 -0.568421 -0.454849  0.271061 -0.675577 -0.446528   \n",
       "4  0.125049  0.324779  0.352703  0.053338  0.607782 -0.678665 -0.452536   \n",
       "\n",
       "          7         8         9  \n",
       "0 -0.409685  0.590708 -0.350776  \n",
       "1  0.505156 -0.428722  0.651669  \n",
       "2 -0.544727  0.151302 -0.172620  \n",
       "3  0.302356  0.223904 -0.554224  \n",
       "4  0.291534 -0.640169  0.182811  "
      ]
     },
     "execution_count": 49,
     "metadata": {},
     "output_type": "execute_result"
    }
   ],
   "source": [
    "df = pd.DataFrame(dist)\n",
    "df.head()"
   ]
  },
  {
   "cell_type": "code",
   "execution_count": 50,
   "metadata": {
    "collapsed": true
   },
   "outputs": [],
   "source": [
    "df.index = pd.date_range(\"2016-01-01\", periods=len(df.index), freq='B')"
   ]
  },
  {
   "cell_type": "code",
   "execution_count": 51,
   "metadata": {
    "collapsed": true
   },
   "outputs": [],
   "source": [
    "df.columns = ['Stck {}'.format(str(i)) for i in range(1,11)]"
   ]
  },
  {
   "cell_type": "code",
   "execution_count": 52,
   "metadata": {},
   "outputs": [
    {
     "data": {
      "text/html": [
       "<div>\n",
       "<style>\n",
       "    .dataframe thead tr:only-child th {\n",
       "        text-align: right;\n",
       "    }\n",
       "\n",
       "    .dataframe thead th {\n",
       "        text-align: left;\n",
       "    }\n",
       "\n",
       "    .dataframe tbody tr th {\n",
       "        vertical-align: top;\n",
       "    }\n",
       "</style>\n",
       "<table border=\"1\" class=\"dataframe\">\n",
       "  <thead>\n",
       "    <tr style=\"text-align: right;\">\n",
       "      <th></th>\n",
       "      <th>Stck 1</th>\n",
       "      <th>Stck 2</th>\n",
       "      <th>Stck 3</th>\n",
       "      <th>Stck 4</th>\n",
       "      <th>Stck 5</th>\n",
       "      <th>Stck 6</th>\n",
       "      <th>Stck 7</th>\n",
       "      <th>Stck 8</th>\n",
       "      <th>Stck 9</th>\n",
       "      <th>Stck 10</th>\n",
       "    </tr>\n",
       "  </thead>\n",
       "  <tbody>\n",
       "    <tr>\n",
       "      <th>2016-01-01</th>\n",
       "      <td>-0.446992</td>\n",
       "      <td>-0.125940</td>\n",
       "      <td>-0.000399</td>\n",
       "      <td>-0.501827</td>\n",
       "      <td>0.115230</td>\n",
       "      <td>0.479060</td>\n",
       "      <td>-0.116413</td>\n",
       "      <td>-0.409685</td>\n",
       "      <td>0.590708</td>\n",
       "      <td>-0.350776</td>\n",
       "    </tr>\n",
       "    <tr>\n",
       "      <th>2016-01-04</th>\n",
       "      <td>-0.330578</td>\n",
       "      <td>0.802011</td>\n",
       "      <td>1.222257</td>\n",
       "      <td>-0.051850</td>\n",
       "      <td>0.775409</td>\n",
       "      <td>0.386112</td>\n",
       "      <td>-0.018506</td>\n",
       "      <td>0.505156</td>\n",
       "      <td>-0.428722</td>\n",
       "      <td>0.651669</td>\n",
       "    </tr>\n",
       "    <tr>\n",
       "      <th>2016-01-05</th>\n",
       "      <td>0.598588</td>\n",
       "      <td>1.074359</td>\n",
       "      <td>1.346447</td>\n",
       "      <td>0.452431</td>\n",
       "      <td>-0.092580</td>\n",
       "      <td>-0.575396</td>\n",
       "      <td>-0.199225</td>\n",
       "      <td>-0.544727</td>\n",
       "      <td>0.151302</td>\n",
       "      <td>-0.172620</td>\n",
       "    </tr>\n",
       "    <tr>\n",
       "      <th>2016-01-06</th>\n",
       "      <td>1.124833</td>\n",
       "      <td>-0.491186</td>\n",
       "      <td>-0.568421</td>\n",
       "      <td>-0.454849</td>\n",
       "      <td>0.271061</td>\n",
       "      <td>-0.675577</td>\n",
       "      <td>-0.446528</td>\n",
       "      <td>0.302356</td>\n",
       "      <td>0.223904</td>\n",
       "      <td>-0.554224</td>\n",
       "    </tr>\n",
       "    <tr>\n",
       "      <th>2016-01-07</th>\n",
       "      <td>0.125049</td>\n",
       "      <td>0.324779</td>\n",
       "      <td>0.352703</td>\n",
       "      <td>0.053338</td>\n",
       "      <td>0.607782</td>\n",
       "      <td>-0.678665</td>\n",
       "      <td>-0.452536</td>\n",
       "      <td>0.291534</td>\n",
       "      <td>-0.640169</td>\n",
       "      <td>0.182811</td>\n",
       "    </tr>\n",
       "  </tbody>\n",
       "</table>\n",
       "</div>"
      ],
      "text/plain": [
       "              Stck 1    Stck 2    Stck 3    Stck 4    Stck 5    Stck 6  \\\n",
       "2016-01-01 -0.446992 -0.125940 -0.000399 -0.501827  0.115230  0.479060   \n",
       "2016-01-04 -0.330578  0.802011  1.222257 -0.051850  0.775409  0.386112   \n",
       "2016-01-05  0.598588  1.074359  1.346447  0.452431 -0.092580 -0.575396   \n",
       "2016-01-06  1.124833 -0.491186 -0.568421 -0.454849  0.271061 -0.675577   \n",
       "2016-01-07  0.125049  0.324779  0.352703  0.053338  0.607782 -0.678665   \n",
       "\n",
       "              Stck 7    Stck 8    Stck 9   Stck 10  \n",
       "2016-01-01 -0.116413 -0.409685  0.590708 -0.350776  \n",
       "2016-01-04 -0.018506  0.505156 -0.428722  0.651669  \n",
       "2016-01-05 -0.199225 -0.544727  0.151302 -0.172620  \n",
       "2016-01-06 -0.446528  0.302356  0.223904 -0.554224  \n",
       "2016-01-07 -0.452536  0.291534 -0.640169  0.182811  "
      ]
     },
     "execution_count": 52,
     "metadata": {},
     "output_type": "execute_result"
    }
   ],
   "source": [
    "df.head()"
   ]
  },
  {
   "cell_type": "markdown",
   "metadata": {},
   "source": [
    "Now we have 10 stock prices returns within one DataFrame. Let's calculate the returns as multiplication of previous day: "
   ]
  },
  {
   "cell_type": "code",
   "execution_count": 53,
   "metadata": {
    "collapsed": true
   },
   "outputs": [],
   "source": [
    "df_cum = df*0.01 + 1\n",
    "df_cum = df_cum.cumprod()"
   ]
  },
  {
   "cell_type": "code",
   "execution_count": 54,
   "metadata": {},
   "outputs": [
    {
     "data": {
      "text/html": [
       "<div>\n",
       "<style>\n",
       "    .dataframe thead tr:only-child th {\n",
       "        text-align: right;\n",
       "    }\n",
       "\n",
       "    .dataframe thead th {\n",
       "        text-align: left;\n",
       "    }\n",
       "\n",
       "    .dataframe tbody tr th {\n",
       "        vertical-align: top;\n",
       "    }\n",
       "</style>\n",
       "<table border=\"1\" class=\"dataframe\">\n",
       "  <thead>\n",
       "    <tr style=\"text-align: right;\">\n",
       "      <th></th>\n",
       "      <th>Stck 1</th>\n",
       "      <th>Stck 2</th>\n",
       "      <th>Stck 3</th>\n",
       "      <th>Stck 4</th>\n",
       "      <th>Stck 5</th>\n",
       "      <th>Stck 6</th>\n",
       "      <th>Stck 7</th>\n",
       "      <th>Stck 8</th>\n",
       "      <th>Stck 9</th>\n",
       "      <th>Stck 10</th>\n",
       "    </tr>\n",
       "  </thead>\n",
       "  <tbody>\n",
       "    <tr>\n",
       "      <th>2016-01-01</th>\n",
       "      <td>0.995530</td>\n",
       "      <td>0.998741</td>\n",
       "      <td>0.999996</td>\n",
       "      <td>0.994982</td>\n",
       "      <td>1.001152</td>\n",
       "      <td>1.004791</td>\n",
       "      <td>0.998836</td>\n",
       "      <td>0.995903</td>\n",
       "      <td>1.005907</td>\n",
       "      <td>0.996492</td>\n",
       "    </tr>\n",
       "    <tr>\n",
       "      <th>2016-01-04</th>\n",
       "      <td>0.992239</td>\n",
       "      <td>1.006751</td>\n",
       "      <td>1.012219</td>\n",
       "      <td>0.994466</td>\n",
       "      <td>1.008915</td>\n",
       "      <td>1.008670</td>\n",
       "      <td>0.998651</td>\n",
       "      <td>1.000934</td>\n",
       "      <td>1.001595</td>\n",
       "      <td>1.002986</td>\n",
       "    </tr>\n",
       "    <tr>\n",
       "      <th>2016-01-05</th>\n",
       "      <td>0.998179</td>\n",
       "      <td>1.017567</td>\n",
       "      <td>1.025848</td>\n",
       "      <td>0.998965</td>\n",
       "      <td>1.007981</td>\n",
       "      <td>1.002866</td>\n",
       "      <td>0.996661</td>\n",
       "      <td>0.995482</td>\n",
       "      <td>1.003110</td>\n",
       "      <td>1.001255</td>\n",
       "    </tr>\n",
       "    <tr>\n",
       "      <th>2016-01-06</th>\n",
       "      <td>1.009406</td>\n",
       "      <td>1.012569</td>\n",
       "      <td>1.020016</td>\n",
       "      <td>0.994421</td>\n",
       "      <td>1.010714</td>\n",
       "      <td>0.996091</td>\n",
       "      <td>0.992211</td>\n",
       "      <td>0.998492</td>\n",
       "      <td>1.005356</td>\n",
       "      <td>0.995706</td>\n",
       "    </tr>\n",
       "    <tr>\n",
       "      <th>2016-01-07</th>\n",
       "      <td>1.010669</td>\n",
       "      <td>1.015857</td>\n",
       "      <td>1.023614</td>\n",
       "      <td>0.994952</td>\n",
       "      <td>1.016856</td>\n",
       "      <td>0.989331</td>\n",
       "      <td>0.987721</td>\n",
       "      <td>1.001402</td>\n",
       "      <td>0.998920</td>\n",
       "      <td>0.997526</td>\n",
       "    </tr>\n",
       "  </tbody>\n",
       "</table>\n",
       "</div>"
      ],
      "text/plain": [
       "              Stck 1    Stck 2    Stck 3    Stck 4    Stck 5    Stck 6  \\\n",
       "2016-01-01  0.995530  0.998741  0.999996  0.994982  1.001152  1.004791   \n",
       "2016-01-04  0.992239  1.006751  1.012219  0.994466  1.008915  1.008670   \n",
       "2016-01-05  0.998179  1.017567  1.025848  0.998965  1.007981  1.002866   \n",
       "2016-01-06  1.009406  1.012569  1.020016  0.994421  1.010714  0.996091   \n",
       "2016-01-07  1.010669  1.015857  1.023614  0.994952  1.016856  0.989331   \n",
       "\n",
       "              Stck 7    Stck 8    Stck 9   Stck 10  \n",
       "2016-01-01  0.998836  0.995903  1.005907  0.996492  \n",
       "2016-01-04  0.998651  1.000934  1.001595  1.002986  \n",
       "2016-01-05  0.996661  0.995482  1.003110  1.001255  \n",
       "2016-01-06  0.992211  0.998492  1.005356  0.995706  \n",
       "2016-01-07  0.987721  1.001402  0.998920  0.997526  "
      ]
     },
     "execution_count": 54,
     "metadata": {},
     "output_type": "execute_result"
    }
   ],
   "source": [
    "df_cum.head()"
   ]
  },
  {
   "cell_type": "markdown",
   "metadata": {},
   "source": [
    "[pandas.DataFrame.plot](https://pandas.pydata.org/pandas-docs/stable/generated/pandas.DataFrame.plot.html)"
   ]
  },
  {
   "cell_type": "code",
   "execution_count": 55,
   "metadata": {},
   "outputs": [
    {
     "data": {
      "text/plain": [
       "<matplotlib.axes._subplots.AxesSubplot at 0x25e60183e48>"
      ]
     },
     "execution_count": 55,
     "metadata": {},
     "output_type": "execute_result"
    },
    {
     "data": {
      "image/png": "[encoded data removed]",
      "text/plain": [
       "<matplotlib.figure.Figure at 0x25e5f175be0>"
      ]
     },
     "metadata": {},
     "output_type": "display_data"
    }
   ],
   "source": [
    "df_cum.plot(figsize = (10,5))"
   ]
  },
  {
   "cell_type": "markdown",
   "metadata": {},
   "source": [
    "As you see at the end of the day some stocks made profit and some made loss. "
   ]
  },
  {
   "cell_type": "markdown",
   "metadata": {},
   "source": [
    "Locating the values works same with `Series`. The last day profits are loses:"
   ]
  },
  {
   "cell_type": "code",
   "execution_count": 56,
   "metadata": {},
   "outputs": [
    {
     "data": {
      "text/plain": [
       "Stck 1     1.097438\n",
       "Stck 2     1.000256\n",
       "Stck 3     0.977037\n",
       "Stck 4     0.964654\n",
       "Stck 5     0.941996\n",
       "Stck 6     1.009997\n",
       "Stck 7     1.021212\n",
       "Stck 8     1.059765\n",
       "Stck 9     0.959447\n",
       "Stck 10    0.917423\n",
       "Name: 2016-05-19 00:00:00, dtype: float64"
      ]
     },
     "execution_count": 56,
     "metadata": {},
     "output_type": "execute_result"
    }
   ],
   "source": [
    "df_cum.iloc[-1]"
   ]
  },
  {
   "cell_type": "markdown",
   "metadata": {},
   "source": [
    "**BUT ** This is a two dimensional shape and you need two parameters to locate specific values. "
   ]
  },
  {
   "cell_type": "code",
   "execution_count": 57,
   "metadata": {},
   "outputs": [
    {
     "data": {
      "text/plain": [
       "0.97703710774899499"
      ]
     },
     "execution_count": 57,
     "metadata": {},
     "output_type": "execute_result"
    }
   ],
   "source": [
    "df_cum.iloc[-1,2]"
   ]
  },
  {
   "cell_type": "markdown",
   "metadata": {},
   "source": [
    "For example we can only care about profited stocks:"
   ]
  },
  {
   "cell_type": "code",
   "execution_count": 58,
   "metadata": {},
   "outputs": [
    {
     "data": {
      "text/plain": [
       "Stck 1      True\n",
       "Stck 2      True\n",
       "Stck 3     False\n",
       "Stck 4     False\n",
       "Stck 5     False\n",
       "Stck 6      True\n",
       "Stck 7      True\n",
       "Stck 8      True\n",
       "Stck 9     False\n",
       "Stck 10    False\n",
       "Name: 2016-05-19 00:00:00, dtype: bool"
      ]
     },
     "execution_count": 58,
     "metadata": {},
     "output_type": "execute_result"
    }
   ],
   "source": [
    "df_cum.iloc[-1]>1"
   ]
  },
  {
   "cell_type": "markdown",
   "metadata": {},
   "source": [
    "### Adding new columns"
   ]
  },
  {
   "cell_type": "markdown",
   "metadata": {},
   "source": [
    "You can simply define a column name:"
   ]
  },
  {
   "cell_type": "code",
   "execution_count": 59,
   "metadata": {
    "collapsed": true
   },
   "outputs": [],
   "source": [
    "df['new'] = 1"
   ]
  },
  {
   "cell_type": "code",
   "execution_count": 60,
   "metadata": {},
   "outputs": [
    {
     "data": {
      "text/html": [
       "<div>\n",
       "<style>\n",
       "    .dataframe thead tr:only-child th {\n",
       "        text-align: right;\n",
       "    }\n",
       "\n",
       "    .dataframe thead th {\n",
       "        text-align: left;\n",
       "    }\n",
       "\n",
       "    .dataframe tbody tr th {\n",
       "        vertical-align: top;\n",
       "    }\n",
       "</style>\n",
       "<table border=\"1\" class=\"dataframe\">\n",
       "  <thead>\n",
       "    <tr style=\"text-align: right;\">\n",
       "      <th></th>\n",
       "      <th>Stck 1</th>\n",
       "      <th>Stck 2</th>\n",
       "      <th>Stck 3</th>\n",
       "      <th>Stck 4</th>\n",
       "      <th>Stck 5</th>\n",
       "      <th>Stck 6</th>\n",
       "      <th>Stck 7</th>\n",
       "      <th>Stck 8</th>\n",
       "      <th>Stck 9</th>\n",
       "      <th>Stck 10</th>\n",
       "      <th>new</th>\n",
       "    </tr>\n",
       "  </thead>\n",
       "  <tbody>\n",
       "    <tr>\n",
       "      <th>2016-01-01</th>\n",
       "      <td>-0.446992</td>\n",
       "      <td>-0.125940</td>\n",
       "      <td>-0.000399</td>\n",
       "      <td>-0.501827</td>\n",
       "      <td>0.115230</td>\n",
       "      <td>0.479060</td>\n",
       "      <td>-0.116413</td>\n",
       "      <td>-0.409685</td>\n",
       "      <td>0.590708</td>\n",
       "      <td>-0.350776</td>\n",
       "      <td>1</td>\n",
       "    </tr>\n",
       "    <tr>\n",
       "      <th>2016-01-04</th>\n",
       "      <td>-0.330578</td>\n",
       "      <td>0.802011</td>\n",
       "      <td>1.222257</td>\n",
       "      <td>-0.051850</td>\n",
       "      <td>0.775409</td>\n",
       "      <td>0.386112</td>\n",
       "      <td>-0.018506</td>\n",
       "      <td>0.505156</td>\n",
       "      <td>-0.428722</td>\n",
       "      <td>0.651669</td>\n",
       "      <td>1</td>\n",
       "    </tr>\n",
       "    <tr>\n",
       "      <th>2016-01-05</th>\n",
       "      <td>0.598588</td>\n",
       "      <td>1.074359</td>\n",
       "      <td>1.346447</td>\n",
       "      <td>0.452431</td>\n",
       "      <td>-0.092580</td>\n",
       "      <td>-0.575396</td>\n",
       "      <td>-0.199225</td>\n",
       "      <td>-0.544727</td>\n",
       "      <td>0.151302</td>\n",
       "      <td>-0.172620</td>\n",
       "      <td>1</td>\n",
       "    </tr>\n",
       "    <tr>\n",
       "      <th>2016-01-06</th>\n",
       "      <td>1.124833</td>\n",
       "      <td>-0.491186</td>\n",
       "      <td>-0.568421</td>\n",
       "      <td>-0.454849</td>\n",
       "      <td>0.271061</td>\n",
       "      <td>-0.675577</td>\n",
       "      <td>-0.446528</td>\n",
       "      <td>0.302356</td>\n",
       "      <td>0.223904</td>\n",
       "      <td>-0.554224</td>\n",
       "      <td>1</td>\n",
       "    </tr>\n",
       "    <tr>\n",
       "      <th>2016-01-07</th>\n",
       "      <td>0.125049</td>\n",
       "      <td>0.324779</td>\n",
       "      <td>0.352703</td>\n",
       "      <td>0.053338</td>\n",
       "      <td>0.607782</td>\n",
       "      <td>-0.678665</td>\n",
       "      <td>-0.452536</td>\n",
       "      <td>0.291534</td>\n",
       "      <td>-0.640169</td>\n",
       "      <td>0.182811</td>\n",
       "      <td>1</td>\n",
       "    </tr>\n",
       "  </tbody>\n",
       "</table>\n",
       "</div>"
      ],
      "text/plain": [
       "              Stck 1    Stck 2    Stck 3    Stck 4    Stck 5    Stck 6  \\\n",
       "2016-01-01 -0.446992 -0.125940 -0.000399 -0.501827  0.115230  0.479060   \n",
       "2016-01-04 -0.330578  0.802011  1.222257 -0.051850  0.775409  0.386112   \n",
       "2016-01-05  0.598588  1.074359  1.346447  0.452431 -0.092580 -0.575396   \n",
       "2016-01-06  1.124833 -0.491186 -0.568421 -0.454849  0.271061 -0.675577   \n",
       "2016-01-07  0.125049  0.324779  0.352703  0.053338  0.607782 -0.678665   \n",
       "\n",
       "              Stck 7    Stck 8    Stck 9   Stck 10  new  \n",
       "2016-01-01 -0.116413 -0.409685  0.590708 -0.350776    1  \n",
       "2016-01-04 -0.018506  0.505156 -0.428722  0.651669    1  \n",
       "2016-01-05 -0.199225 -0.544727  0.151302 -0.172620    1  \n",
       "2016-01-06 -0.446528  0.302356  0.223904 -0.554224    1  \n",
       "2016-01-07 -0.452536  0.291534 -0.640169  0.182811    1  "
      ]
     },
     "execution_count": 60,
     "metadata": {},
     "output_type": "execute_result"
    }
   ],
   "source": [
    "df.head()"
   ]
  },
  {
   "cell_type": "markdown",
   "metadata": {},
   "source": [
    "Deleting a column is very easy:"
   ]
  },
  {
   "cell_type": "code",
   "execution_count": 61,
   "metadata": {
    "collapsed": true
   },
   "outputs": [],
   "source": [
    "del df['new']"
   ]
  },
  {
   "cell_type": "markdown",
   "metadata": {},
   "source": [
    "Sorting by columns:"
   ]
  },
  {
   "cell_type": "code",
   "execution_count": 62,
   "metadata": {},
   "outputs": [
    {
     "data": {
      "text/html": [
       "<div>\n",
       "<style>\n",
       "    .dataframe thead tr:only-child th {\n",
       "        text-align: right;\n",
       "    }\n",
       "\n",
       "    .dataframe thead th {\n",
       "        text-align: left;\n",
       "    }\n",
       "\n",
       "    .dataframe tbody tr th {\n",
       "        vertical-align: top;\n",
       "    }\n",
       "</style>\n",
       "<table border=\"1\" class=\"dataframe\">\n",
       "  <thead>\n",
       "    <tr style=\"text-align: right;\">\n",
       "      <th></th>\n",
       "      <th>Stck 1</th>\n",
       "      <th>Stck 2</th>\n",
       "      <th>Stck 3</th>\n",
       "      <th>Stck 4</th>\n",
       "      <th>Stck 5</th>\n",
       "      <th>Stck 6</th>\n",
       "      <th>Stck 7</th>\n",
       "      <th>Stck 8</th>\n",
       "      <th>Stck 9</th>\n",
       "      <th>Stck 10</th>\n",
       "    </tr>\n",
       "  </thead>\n",
       "  <tbody>\n",
       "    <tr>\n",
       "      <th>2016-03-28</th>\n",
       "      <td>0.374295</td>\n",
       "      <td>-1.354561</td>\n",
       "      <td>0.300346</td>\n",
       "      <td>0.441737</td>\n",
       "      <td>-0.015118</td>\n",
       "      <td>0.591829</td>\n",
       "      <td>-0.481357</td>\n",
       "      <td>-0.084721</td>\n",
       "      <td>-0.055706</td>\n",
       "      <td>0.074755</td>\n",
       "    </tr>\n",
       "    <tr>\n",
       "      <th>2016-05-04</th>\n",
       "      <td>0.494602</td>\n",
       "      <td>-1.323258</td>\n",
       "      <td>0.193482</td>\n",
       "      <td>0.476564</td>\n",
       "      <td>0.662402</td>\n",
       "      <td>0.146976</td>\n",
       "      <td>-0.357030</td>\n",
       "      <td>0.437952</td>\n",
       "      <td>-0.431906</td>\n",
       "      <td>0.143335</td>\n",
       "    </tr>\n",
       "    <tr>\n",
       "      <th>2016-02-22</th>\n",
       "      <td>0.486382</td>\n",
       "      <td>-1.319228</td>\n",
       "      <td>-0.313781</td>\n",
       "      <td>0.654399</td>\n",
       "      <td>-0.075103</td>\n",
       "      <td>-0.151623</td>\n",
       "      <td>0.312741</td>\n",
       "      <td>0.564649</td>\n",
       "      <td>-1.162388</td>\n",
       "      <td>-0.156544</td>\n",
       "    </tr>\n",
       "    <tr>\n",
       "      <th>2016-01-14</th>\n",
       "      <td>0.234236</td>\n",
       "      <td>-0.978936</td>\n",
       "      <td>0.121669</td>\n",
       "      <td>-0.040426</td>\n",
       "      <td>0.362779</td>\n",
       "      <td>-0.475869</td>\n",
       "      <td>0.215675</td>\n",
       "      <td>0.837823</td>\n",
       "      <td>-0.031925</td>\n",
       "      <td>-0.377035</td>\n",
       "    </tr>\n",
       "    <tr>\n",
       "      <th>2016-03-10</th>\n",
       "      <td>-0.013318</td>\n",
       "      <td>-0.959109</td>\n",
       "      <td>-0.454863</td>\n",
       "      <td>-0.627668</td>\n",
       "      <td>-0.104735</td>\n",
       "      <td>1.226608</td>\n",
       "      <td>0.903144</td>\n",
       "      <td>0.040904</td>\n",
       "      <td>-0.336801</td>\n",
       "      <td>0.011334</td>\n",
       "    </tr>\n",
       "  </tbody>\n",
       "</table>\n",
       "</div>"
      ],
      "text/plain": [
       "              Stck 1    Stck 2    Stck 3    Stck 4    Stck 5    Stck 6  \\\n",
       "2016-03-28  0.374295 -1.354561  0.300346  0.441737 -0.015118  0.591829   \n",
       "2016-05-04  0.494602 -1.323258  0.193482  0.476564  0.662402  0.146976   \n",
       "2016-02-22  0.486382 -1.319228 -0.313781  0.654399 -0.075103 -0.151623   \n",
       "2016-01-14  0.234236 -0.978936  0.121669 -0.040426  0.362779 -0.475869   \n",
       "2016-03-10 -0.013318 -0.959109 -0.454863 -0.627668 -0.104735  1.226608   \n",
       "\n",
       "              Stck 7    Stck 8    Stck 9   Stck 10  \n",
       "2016-03-28 -0.481357 -0.084721 -0.055706  0.074755  \n",
       "2016-05-04 -0.357030  0.437952 -0.431906  0.143335  \n",
       "2016-02-22  0.312741  0.564649 -1.162388 -0.156544  \n",
       "2016-01-14  0.215675  0.837823 -0.031925 -0.377035  \n",
       "2016-03-10  0.903144  0.040904 -0.336801  0.011334  "
      ]
     },
     "execution_count": 62,
     "metadata": {},
     "output_type": "execute_result"
    }
   ],
   "source": [
    "df.sort_values(by='Stck 2').head()"
   ]
  },
  {
   "cell_type": "markdown",
   "metadata": {},
   "source": [
    "## Read and Save DataFrame to files"
   ]
  },
  {
   "cell_type": "markdown",
   "metadata": {},
   "source": [
    "We will learn how to read files and save dataframe to the files. pandas can read all common databases. Command `pd.read_`:"
   ]
  },
  {
   "cell_type": "code",
   "execution_count": 63,
   "metadata": {},
   "outputs": [],
   "source": [
    "movies = pd.read_csv('movies.csv')"
   ]
  },
  {
   "cell_type": "markdown",
   "metadata": {},
   "source": [
    "Be careful! Your notebook file and the `movies.csv` file must be in the same folder. Or you must show the location of the file clearly. "
   ]
  },
  {
   "cell_type": "code",
   "execution_count": 64,
   "metadata": {},
   "outputs": [
    {
     "data": {
      "text/html": [
       "<div>\n",
       "<style>\n",
       "    .dataframe thead tr:only-child th {\n",
       "        text-align: right;\n",
       "    }\n",
       "\n",
       "    .dataframe thead th {\n",
       "        text-align: left;\n",
       "    }\n",
       "\n",
       "    .dataframe tbody tr th {\n",
       "        vertical-align: top;\n",
       "    }\n",
       "</style>\n",
       "<table border=\"1\" class=\"dataframe\">\n",
       "  <thead>\n",
       "    <tr style=\"text-align: right;\">\n",
       "      <th></th>\n",
       "      <th>movieId</th>\n",
       "      <th>title</th>\n",
       "      <th>genres</th>\n",
       "    </tr>\n",
       "  </thead>\n",
       "  <tbody>\n",
       "    <tr>\n",
       "      <th>0</th>\n",
       "      <td>1</td>\n",
       "      <td>Toy Story (1995)</td>\n",
       "      <td>Adventure|Animation|Children|Comedy|Fantasy</td>\n",
       "    </tr>\n",
       "    <tr>\n",
       "      <th>1</th>\n",
       "      <td>2</td>\n",
       "      <td>Jumanji (1995)</td>\n",
       "      <td>Adventure|Children|Fantasy</td>\n",
       "    </tr>\n",
       "    <tr>\n",
       "      <th>2</th>\n",
       "      <td>3</td>\n",
       "      <td>Grumpier Old Men (1995)</td>\n",
       "      <td>Comedy|Romance</td>\n",
       "    </tr>\n",
       "    <tr>\n",
       "      <th>3</th>\n",
       "      <td>4</td>\n",
       "      <td>Waiting to Exhale (1995)</td>\n",
       "      <td>Comedy|Drama|Romance</td>\n",
       "    </tr>\n",
       "    <tr>\n",
       "      <th>4</th>\n",
       "      <td>5</td>\n",
       "      <td>Father of the Bride Part II (1995)</td>\n",
       "      <td>Comedy</td>\n",
       "    </tr>\n",
       "  </tbody>\n",
       "</table>\n",
       "</div>"
      ],
      "text/plain": [
       "   movieId                               title  \\\n",
       "0        1                    Toy Story (1995)   \n",
       "1        2                      Jumanji (1995)   \n",
       "2        3             Grumpier Old Men (1995)   \n",
       "3        4            Waiting to Exhale (1995)   \n",
       "4        5  Father of the Bride Part II (1995)   \n",
       "\n",
       "                                        genres  \n",
       "0  Adventure|Animation|Children|Comedy|Fantasy  \n",
       "1                   Adventure|Children|Fantasy  \n",
       "2                               Comedy|Romance  \n",
       "3                         Comedy|Drama|Romance  \n",
       "4                                       Comedy  "
      ]
     },
     "execution_count": 64,
     "metadata": {},
     "output_type": "execute_result"
    }
   ],
   "source": [
    "movies.head()"
   ]
  },
  {
   "cell_type": "code",
   "execution_count": 65,
   "metadata": {},
   "outputs": [
    {
     "data": {
      "text/html": [
       "<div>\n",
       "<style>\n",
       "    .dataframe thead tr:only-child th {\n",
       "        text-align: right;\n",
       "    }\n",
       "\n",
       "    .dataframe thead th {\n",
       "        text-align: left;\n",
       "    }\n",
       "\n",
       "    .dataframe tbody tr th {\n",
       "        vertical-align: top;\n",
       "    }\n",
       "</style>\n",
       "<table border=\"1\" class=\"dataframe\">\n",
       "  <thead>\n",
       "    <tr style=\"text-align: right;\">\n",
       "      <th></th>\n",
       "      <th>movieId</th>\n",
       "      <th>title</th>\n",
       "      <th>genres</th>\n",
       "    </tr>\n",
       "  </thead>\n",
       "  <tbody>\n",
       "    <tr>\n",
       "      <th>9120</th>\n",
       "      <td>162672</td>\n",
       "      <td>Mohenjo Daro (2016)</td>\n",
       "      <td>Adventure|Drama|Romance</td>\n",
       "    </tr>\n",
       "    <tr>\n",
       "      <th>9121</th>\n",
       "      <td>163056</td>\n",
       "      <td>Shin Godzilla (2016)</td>\n",
       "      <td>Action|Adventure|Fantasy|Sci-Fi</td>\n",
       "    </tr>\n",
       "    <tr>\n",
       "      <th>9122</th>\n",
       "      <td>163949</td>\n",
       "      <td>The Beatles: Eight Days a Week - The Touring Y...</td>\n",
       "      <td>Documentary</td>\n",
       "    </tr>\n",
       "    <tr>\n",
       "      <th>9123</th>\n",
       "      <td>164977</td>\n",
       "      <td>The Gay Desperado (1936)</td>\n",
       "      <td>Comedy</td>\n",
       "    </tr>\n",
       "    <tr>\n",
       "      <th>9124</th>\n",
       "      <td>164979</td>\n",
       "      <td>Women of '69, Unboxed</td>\n",
       "      <td>Documentary</td>\n",
       "    </tr>\n",
       "  </tbody>\n",
       "</table>\n",
       "</div>"
      ],
      "text/plain": [
       "      movieId                                              title  \\\n",
       "9120   162672                                Mohenjo Daro (2016)   \n",
       "9121   163056                               Shin Godzilla (2016)   \n",
       "9122   163949  The Beatles: Eight Days a Week - The Touring Y...   \n",
       "9123   164977                           The Gay Desperado (1936)   \n",
       "9124   164979                              Women of '69, Unboxed   \n",
       "\n",
       "                               genres  \n",
       "9120          Adventure|Drama|Romance  \n",
       "9121  Action|Adventure|Fantasy|Sci-Fi  \n",
       "9122                      Documentary  \n",
       "9123                           Comedy  \n",
       "9124                      Documentary  "
      ]
     },
     "execution_count": 65,
     "metadata": {},
     "output_type": "execute_result"
    }
   ],
   "source": [
    "movies.tail()"
   ]
  },
  {
   "cell_type": "markdown",
   "metadata": {},
   "source": [
    "You can find this database from [movieLens](https://grouplens.org/datasets/movielens/). \n",
    "\n",
    "download [movies.csv](../assets/movies.csv)"
   ]
  },
  {
   "cell_type": "markdown",
   "metadata": {},
   "source": [
    "We will do some operations with this dataset. For example title contains year of the movies. It would look nicer if we can seperate it and create a new column. We will use the `Series.str` operations. Find the [documentation](https://pandas.pydata.org/pandas-docs/stable/api.html#string-handling). "
   ]
  },
  {
   "cell_type": "markdown",
   "metadata": {},
   "source": [
    "You can do this operation with many different way. First way is to use `str.extract` method to find years and define a new column:"
   ]
  },
  {
   "cell_type": "code",
   "execution_count": 66,
   "metadata": {},
   "outputs": [
    {
     "name": "stderr",
     "output_type": "stream",
     "text": [
      "C:\\ProgramData\\Anaconda3\\lib\\site-packages\\ipykernel_launcher.py:1: FutureWarning: currently extract(expand=None) means expand=False (return Index/Series/DataFrame) but in a future version of pandas this will be changed to expand=True (return DataFrame)\n",
      "  \"\"\"Entry point for launching an IPython kernel.\n"
     ]
    }
   ],
   "source": [
    "movies['year'] = movies['title'].str.extract('(\\d{4})')"
   ]
  },
  {
   "cell_type": "code",
   "execution_count": 67,
   "metadata": {},
   "outputs": [
    {
     "data": {
      "text/html": [
       "<div>\n",
       "<style>\n",
       "    .dataframe thead tr:only-child th {\n",
       "        text-align: right;\n",
       "    }\n",
       "\n",
       "    .dataframe thead th {\n",
       "        text-align: left;\n",
       "    }\n",
       "\n",
       "    .dataframe tbody tr th {\n",
       "        vertical-align: top;\n",
       "    }\n",
       "</style>\n",
       "<table border=\"1\" class=\"dataframe\">\n",
       "  <thead>\n",
       "    <tr style=\"text-align: right;\">\n",
       "      <th></th>\n",
       "      <th>movieId</th>\n",
       "      <th>title</th>\n",
       "      <th>genres</th>\n",
       "      <th>year</th>\n",
       "    </tr>\n",
       "  </thead>\n",
       "  <tbody>\n",
       "    <tr>\n",
       "      <th>9120</th>\n",
       "      <td>162672</td>\n",
       "      <td>Mohenjo Daro (2016)</td>\n",
       "      <td>Adventure|Drama|Romance</td>\n",
       "      <td>2016</td>\n",
       "    </tr>\n",
       "    <tr>\n",
       "      <th>9121</th>\n",
       "      <td>163056</td>\n",
       "      <td>Shin Godzilla (2016)</td>\n",
       "      <td>Action|Adventure|Fantasy|Sci-Fi</td>\n",
       "      <td>2016</td>\n",
       "    </tr>\n",
       "    <tr>\n",
       "      <th>9122</th>\n",
       "      <td>163949</td>\n",
       "      <td>The Beatles: Eight Days a Week - The Touring Y...</td>\n",
       "      <td>Documentary</td>\n",
       "      <td>2016</td>\n",
       "    </tr>\n",
       "    <tr>\n",
       "      <th>9123</th>\n",
       "      <td>164977</td>\n",
       "      <td>The Gay Desperado (1936)</td>\n",
       "      <td>Comedy</td>\n",
       "      <td>1936</td>\n",
       "    </tr>\n",
       "    <tr>\n",
       "      <th>9124</th>\n",
       "      <td>164979</td>\n",
       "      <td>Women of '69, Unboxed</td>\n",
       "      <td>Documentary</td>\n",
       "      <td>NaN</td>\n",
       "    </tr>\n",
       "  </tbody>\n",
       "</table>\n",
       "</div>"
      ],
      "text/plain": [
       "      movieId                                              title  \\\n",
       "9120   162672                                Mohenjo Daro (2016)   \n",
       "9121   163056                               Shin Godzilla (2016)   \n",
       "9122   163949  The Beatles: Eight Days a Week - The Touring Y...   \n",
       "9123   164977                           The Gay Desperado (1936)   \n",
       "9124   164979                              Women of '69, Unboxed   \n",
       "\n",
       "                               genres  year  \n",
       "9120          Adventure|Drama|Romance  2016  \n",
       "9121  Action|Adventure|Fantasy|Sci-Fi  2016  \n",
       "9122                      Documentary  2016  \n",
       "9123                           Comedy  1936  \n",
       "9124                      Documentary   NaN  "
      ]
     },
     "execution_count": 67,
     "metadata": {},
     "output_type": "execute_result"
    }
   ],
   "source": [
    "movies.tail()"
   ]
  },
  {
   "cell_type": "markdown",
   "metadata": {},
   "source": [
    "We use a ReGeX expressoion: `(\\d{4})`. Paranthesis represents the group. So we can create two different columns by extracting using two or more paranthesis. `\\d` represents the digit. `\\d{4}` expression together implies 4 consequtive numbers. You should check the regular expression [documentation](https://docs.python.org/3/library/re.html) for further use. "
   ]
  },
  {
   "cell_type": "markdown",
   "metadata": {},
   "source": [
    "Let's see how many `NaN` years we have:"
   ]
  },
  {
   "cell_type": "code",
   "execution_count": 68,
   "metadata": {},
   "outputs": [
    {
     "data": {
      "text/html": [
       "<div>\n",
       "<style>\n",
       "    .dataframe thead tr:only-child th {\n",
       "        text-align: right;\n",
       "    }\n",
       "\n",
       "    .dataframe thead th {\n",
       "        text-align: left;\n",
       "    }\n",
       "\n",
       "    .dataframe tbody tr th {\n",
       "        vertical-align: top;\n",
       "    }\n",
       "</style>\n",
       "<table border=\"1\" class=\"dataframe\">\n",
       "  <thead>\n",
       "    <tr style=\"text-align: right;\">\n",
       "      <th></th>\n",
       "      <th>movieId</th>\n",
       "      <th>title</th>\n",
       "      <th>genres</th>\n",
       "      <th>year</th>\n",
       "    </tr>\n",
       "  </thead>\n",
       "  <tbody>\n",
       "    <tr>\n",
       "      <th>9017</th>\n",
       "      <td>143410</td>\n",
       "      <td>Hyena Road</td>\n",
       "      <td>(no genres listed)</td>\n",
       "      <td>NaN</td>\n",
       "    </tr>\n",
       "    <tr>\n",
       "      <th>9063</th>\n",
       "      <td>151307</td>\n",
       "      <td>The Lovers and the Despot</td>\n",
       "      <td>(no genres listed)</td>\n",
       "      <td>NaN</td>\n",
       "    </tr>\n",
       "    <tr>\n",
       "      <th>9118</th>\n",
       "      <td>162376</td>\n",
       "      <td>Stranger Things</td>\n",
       "      <td>Drama</td>\n",
       "      <td>NaN</td>\n",
       "    </tr>\n",
       "    <tr>\n",
       "      <th>9124</th>\n",
       "      <td>164979</td>\n",
       "      <td>Women of '69, Unboxed</td>\n",
       "      <td>Documentary</td>\n",
       "      <td>NaN</td>\n",
       "    </tr>\n",
       "  </tbody>\n",
       "</table>\n",
       "</div>"
      ],
      "text/plain": [
       "      movieId                      title              genres year\n",
       "9017   143410                 Hyena Road  (no genres listed)  NaN\n",
       "9063   151307  The Lovers and the Despot  (no genres listed)  NaN\n",
       "9118   162376            Stranger Things               Drama  NaN\n",
       "9124   164979      Women of '69, Unboxed         Documentary  NaN"
      ]
     },
     "execution_count": 68,
     "metadata": {},
     "output_type": "execute_result"
    }
   ],
   "source": [
    "movies[movies['year'].isnull()]"
   ]
  },
  {
   "cell_type": "markdown",
   "metadata": {},
   "source": [
    "Only four of them do not have the year. So if you are making data analysis you can manually fill this values by searching the internet. For now, I will drop them using `dropna()` function:"
   ]
  },
  {
   "cell_type": "code",
   "execution_count": 69,
   "metadata": {
    "collapsed": true
   },
   "outputs": [],
   "source": [
    "movies = movies.dropna()"
   ]
  },
  {
   "cell_type": "markdown",
   "metadata": {},
   "source": [
    "Be careful with the expression above. I defined movies after droping the null values: ```movies = movies.dropna()```. Let's check dataframe again:"
   ]
  },
  {
   "cell_type": "code",
   "execution_count": 70,
   "metadata": {},
   "outputs": [
    {
     "data": {
      "text/html": [
       "<div>\n",
       "<style>\n",
       "    .dataframe thead tr:only-child th {\n",
       "        text-align: right;\n",
       "    }\n",
       "\n",
       "    .dataframe thead th {\n",
       "        text-align: left;\n",
       "    }\n",
       "\n",
       "    .dataframe tbody tr th {\n",
       "        vertical-align: top;\n",
       "    }\n",
       "</style>\n",
       "<table border=\"1\" class=\"dataframe\">\n",
       "  <thead>\n",
       "    <tr style=\"text-align: right;\">\n",
       "      <th></th>\n",
       "      <th>movieId</th>\n",
       "      <th>title</th>\n",
       "      <th>genres</th>\n",
       "      <th>year</th>\n",
       "    </tr>\n",
       "  </thead>\n",
       "  <tbody>\n",
       "    <tr>\n",
       "      <th>0</th>\n",
       "      <td>1</td>\n",
       "      <td>Toy Story (1995)</td>\n",
       "      <td>Adventure|Animation|Children|Comedy|Fantasy</td>\n",
       "      <td>1995</td>\n",
       "    </tr>\n",
       "    <tr>\n",
       "      <th>1</th>\n",
       "      <td>2</td>\n",
       "      <td>Jumanji (1995)</td>\n",
       "      <td>Adventure|Children|Fantasy</td>\n",
       "      <td>1995</td>\n",
       "    </tr>\n",
       "    <tr>\n",
       "      <th>2</th>\n",
       "      <td>3</td>\n",
       "      <td>Grumpier Old Men (1995)</td>\n",
       "      <td>Comedy|Romance</td>\n",
       "      <td>1995</td>\n",
       "    </tr>\n",
       "    <tr>\n",
       "      <th>3</th>\n",
       "      <td>4</td>\n",
       "      <td>Waiting to Exhale (1995)</td>\n",
       "      <td>Comedy|Drama|Romance</td>\n",
       "      <td>1995</td>\n",
       "    </tr>\n",
       "    <tr>\n",
       "      <th>4</th>\n",
       "      <td>5</td>\n",
       "      <td>Father of the Bride Part II (1995)</td>\n",
       "      <td>Comedy</td>\n",
       "      <td>1995</td>\n",
       "    </tr>\n",
       "  </tbody>\n",
       "</table>\n",
       "</div>"
      ],
      "text/plain": [
       "   movieId                               title  \\\n",
       "0        1                    Toy Story (1995)   \n",
       "1        2                      Jumanji (1995)   \n",
       "2        3             Grumpier Old Men (1995)   \n",
       "3        4            Waiting to Exhale (1995)   \n",
       "4        5  Father of the Bride Part II (1995)   \n",
       "\n",
       "                                        genres  year  \n",
       "0  Adventure|Animation|Children|Comedy|Fantasy  1995  \n",
       "1                   Adventure|Children|Fantasy  1995  \n",
       "2                               Comedy|Romance  1995  \n",
       "3                         Comedy|Drama|Romance  1995  \n",
       "4                                       Comedy  1995  "
      ]
     },
     "execution_count": 70,
     "metadata": {},
     "output_type": "execute_result"
    }
   ],
   "source": [
    "movies.head()"
   ]
  },
  {
   "cell_type": "markdown",
   "metadata": {},
   "source": [
    "We can remove the years from the title using [str.replace](https://pandas.pydata.org/pandas-docs/stable/generated/pandas.Series.str.replace.html) function. "
   ]
  },
  {
   "cell_type": "code",
   "execution_count": 71,
   "metadata": {},
   "outputs": [
    {
     "data": {
      "text/html": [
       "<div>\n",
       "<style>\n",
       "    .dataframe thead tr:only-child th {\n",
       "        text-align: right;\n",
       "    }\n",
       "\n",
       "    .dataframe thead th {\n",
       "        text-align: left;\n",
       "    }\n",
       "\n",
       "    .dataframe tbody tr th {\n",
       "        vertical-align: top;\n",
       "    }\n",
       "</style>\n",
       "<table border=\"1\" class=\"dataframe\">\n",
       "  <thead>\n",
       "    <tr style=\"text-align: right;\">\n",
       "      <th></th>\n",
       "      <th>movieId</th>\n",
       "      <th>title</th>\n",
       "      <th>genres</th>\n",
       "      <th>year</th>\n",
       "    </tr>\n",
       "  </thead>\n",
       "  <tbody>\n",
       "    <tr>\n",
       "      <th>0</th>\n",
       "      <td>1</td>\n",
       "      <td>Toy Story</td>\n",
       "      <td>Adventure|Animation|Children|Comedy|Fantasy</td>\n",
       "      <td>1995</td>\n",
       "    </tr>\n",
       "    <tr>\n",
       "      <th>1</th>\n",
       "      <td>2</td>\n",
       "      <td>Jumanji</td>\n",
       "      <td>Adventure|Children|Fantasy</td>\n",
       "      <td>1995</td>\n",
       "    </tr>\n",
       "    <tr>\n",
       "      <th>2</th>\n",
       "      <td>3</td>\n",
       "      <td>Grumpier Old Men</td>\n",
       "      <td>Comedy|Romance</td>\n",
       "      <td>1995</td>\n",
       "    </tr>\n",
       "    <tr>\n",
       "      <th>3</th>\n",
       "      <td>4</td>\n",
       "      <td>Waiting to Exhale</td>\n",
       "      <td>Comedy|Drama|Romance</td>\n",
       "      <td>1995</td>\n",
       "    </tr>\n",
       "    <tr>\n",
       "      <th>4</th>\n",
       "      <td>5</td>\n",
       "      <td>Father of the Bride Part II</td>\n",
       "      <td>Comedy</td>\n",
       "      <td>1995</td>\n",
       "    </tr>\n",
       "  </tbody>\n",
       "</table>\n",
       "</div>"
      ],
      "text/plain": [
       "   movieId                         title  \\\n",
       "0        1                    Toy Story    \n",
       "1        2                      Jumanji    \n",
       "2        3             Grumpier Old Men    \n",
       "3        4            Waiting to Exhale    \n",
       "4        5  Father of the Bride Part II    \n",
       "\n",
       "                                        genres  year  \n",
       "0  Adventure|Animation|Children|Comedy|Fantasy  1995  \n",
       "1                   Adventure|Children|Fantasy  1995  \n",
       "2                               Comedy|Romance  1995  \n",
       "3                         Comedy|Drama|Romance  1995  \n",
       "4                                       Comedy  1995  "
      ]
     },
     "execution_count": 71,
     "metadata": {},
     "output_type": "execute_result"
    }
   ],
   "source": [
    "movies['title'] = movies['title'].str.replace('\\(\\d{4}\\)','')\n",
    "movies.head()"
   ]
  },
  {
   "cell_type": "markdown",
   "metadata": {},
   "source": [
    "We will create new columns for genres wıth boolean values. It will do will take time. Follow carefully:"
   ]
  },
  {
   "cell_type": "code",
   "execution_count": 72,
   "metadata": {
    "collapsed": true
   },
   "outputs": [],
   "source": [
    "gen = movies['genres'].str.split('|')"
   ]
  },
  {
   "cell_type": "code",
   "execution_count": 73,
   "metadata": {
    "collapsed": true
   },
   "outputs": [],
   "source": [
    "gen_list = []\n",
    "for i in gen:\n",
    "    for j in i:\n",
    "        gen_list.append(j)"
   ]
  },
  {
   "cell_type": "markdown",
   "metadata": {},
   "source": [
    "Find the unique genres:"
   ]
  },
  {
   "cell_type": "code",
   "execution_count": 74,
   "metadata": {
    "scrolled": false
   },
   "outputs": [
    {
     "name": "stdout",
     "output_type": "stream",
     "text": [
      "20\n"
     ]
    }
   ],
   "source": [
    "gen_list = set(gen_list) # set() function automatically removes the duplicates.\n",
    "gen_list = list(gen_list)\n",
    "print(len(gen_list))"
   ]
  },
  {
   "cell_type": "code",
   "execution_count": 75,
   "metadata": {},
   "outputs": [
    {
     "data": {
      "text/plain": [
       "['(no genres listed)',\n",
       " 'Action',\n",
       " 'Adventure',\n",
       " 'Animation',\n",
       " 'Children',\n",
       " 'Comedy',\n",
       " 'Crime',\n",
       " 'Documentary',\n",
       " 'Drama',\n",
       " 'Fantasy',\n",
       " 'Film-Noir',\n",
       " 'Horror',\n",
       " 'IMAX',\n",
       " 'Musical',\n",
       " 'Mystery',\n",
       " 'Romance',\n",
       " 'Sci-Fi',\n",
       " 'Thriller',\n",
       " 'War',\n",
       " 'Western']"
      ]
     },
     "execution_count": 75,
     "metadata": {},
     "output_type": "execute_result"
    }
   ],
   "source": [
    "gen_list=sorted(gen_list)\n",
    "gen_list"
   ]
  },
  {
   "cell_type": "markdown",
   "metadata": {},
   "source": [
    "We should drop the first value using `pop()` function:"
   ]
  },
  {
   "cell_type": "code",
   "execution_count": 76,
   "metadata": {},
   "outputs": [
    {
     "data": {
      "text/plain": [
       "'(no genres listed)'"
      ]
     },
     "execution_count": 76,
     "metadata": {},
     "output_type": "execute_result"
    }
   ],
   "source": [
    "gen_list.pop(0)"
   ]
  },
  {
   "cell_type": "markdown",
   "metadata": {},
   "source": [
    "It looks like we have 20 different genres. Let's define a new column for each of them:"
   ]
  },
  {
   "cell_type": "code",
   "execution_count": 77,
   "metadata": {
    "collapsed": true
   },
   "outputs": [],
   "source": [
    "for i in gen_list:\n",
    "    movies[i] = movies['genres'].str.contains(str(i))"
   ]
  },
  {
   "cell_type": "code",
   "execution_count": 78,
   "metadata": {},
   "outputs": [
    {
     "data": {
      "text/html": [
       "<div>\n",
       "<style>\n",
       "    .dataframe thead tr:only-child th {\n",
       "        text-align: right;\n",
       "    }\n",
       "\n",
       "    .dataframe thead th {\n",
       "        text-align: left;\n",
       "    }\n",
       "\n",
       "    .dataframe tbody tr th {\n",
       "        vertical-align: top;\n",
       "    }\n",
       "</style>\n",
       "<table border=\"1\" class=\"dataframe\">\n",
       "  <thead>\n",
       "    <tr style=\"text-align: right;\">\n",
       "      <th></th>\n",
       "      <th>movieId</th>\n",
       "      <th>title</th>\n",
       "      <th>genres</th>\n",
       "      <th>year</th>\n",
       "      <th>Action</th>\n",
       "      <th>Adventure</th>\n",
       "      <th>Animation</th>\n",
       "      <th>Children</th>\n",
       "      <th>Comedy</th>\n",
       "      <th>Crime</th>\n",
       "      <th>...</th>\n",
       "      <th>Film-Noir</th>\n",
       "      <th>Horror</th>\n",
       "      <th>IMAX</th>\n",
       "      <th>Musical</th>\n",
       "      <th>Mystery</th>\n",
       "      <th>Romance</th>\n",
       "      <th>Sci-Fi</th>\n",
       "      <th>Thriller</th>\n",
       "      <th>War</th>\n",
       "      <th>Western</th>\n",
       "    </tr>\n",
       "  </thead>\n",
       "  <tbody>\n",
       "    <tr>\n",
       "      <th>0</th>\n",
       "      <td>1</td>\n",
       "      <td>Toy Story</td>\n",
       "      <td>Adventure|Animation|Children|Comedy|Fantasy</td>\n",
       "      <td>1995</td>\n",
       "      <td>False</td>\n",
       "      <td>True</td>\n",
       "      <td>True</td>\n",
       "      <td>True</td>\n",
       "      <td>True</td>\n",
       "      <td>False</td>\n",
       "      <td>...</td>\n",
       "      <td>False</td>\n",
       "      <td>False</td>\n",
       "      <td>False</td>\n",
       "      <td>False</td>\n",
       "      <td>False</td>\n",
       "      <td>False</td>\n",
       "      <td>False</td>\n",
       "      <td>False</td>\n",
       "      <td>False</td>\n",
       "      <td>False</td>\n",
       "    </tr>\n",
       "    <tr>\n",
       "      <th>1</th>\n",
       "      <td>2</td>\n",
       "      <td>Jumanji</td>\n",
       "      <td>Adventure|Children|Fantasy</td>\n",
       "      <td>1995</td>\n",
       "      <td>False</td>\n",
       "      <td>True</td>\n",
       "      <td>False</td>\n",
       "      <td>True</td>\n",
       "      <td>False</td>\n",
       "      <td>False</td>\n",
       "      <td>...</td>\n",
       "      <td>False</td>\n",
       "      <td>False</td>\n",
       "      <td>False</td>\n",
       "      <td>False</td>\n",
       "      <td>False</td>\n",
       "      <td>False</td>\n",
       "      <td>False</td>\n",
       "      <td>False</td>\n",
       "      <td>False</td>\n",
       "      <td>False</td>\n",
       "    </tr>\n",
       "    <tr>\n",
       "      <th>2</th>\n",
       "      <td>3</td>\n",
       "      <td>Grumpier Old Men</td>\n",
       "      <td>Comedy|Romance</td>\n",
       "      <td>1995</td>\n",
       "      <td>False</td>\n",
       "      <td>False</td>\n",
       "      <td>False</td>\n",
       "      <td>False</td>\n",
       "      <td>True</td>\n",
       "      <td>False</td>\n",
       "      <td>...</td>\n",
       "      <td>False</td>\n",
       "      <td>False</td>\n",
       "      <td>False</td>\n",
       "      <td>False</td>\n",
       "      <td>False</td>\n",
       "      <td>True</td>\n",
       "      <td>False</td>\n",
       "      <td>False</td>\n",
       "      <td>False</td>\n",
       "      <td>False</td>\n",
       "    </tr>\n",
       "    <tr>\n",
       "      <th>3</th>\n",
       "      <td>4</td>\n",
       "      <td>Waiting to Exhale</td>\n",
       "      <td>Comedy|Drama|Romance</td>\n",
       "      <td>1995</td>\n",
       "      <td>False</td>\n",
       "      <td>False</td>\n",
       "      <td>False</td>\n",
       "      <td>False</td>\n",
       "      <td>True</td>\n",
       "      <td>False</td>\n",
       "      <td>...</td>\n",
       "      <td>False</td>\n",
       "      <td>False</td>\n",
       "      <td>False</td>\n",
       "      <td>False</td>\n",
       "      <td>False</td>\n",
       "      <td>True</td>\n",
       "      <td>False</td>\n",
       "      <td>False</td>\n",
       "      <td>False</td>\n",
       "      <td>False</td>\n",
       "    </tr>\n",
       "    <tr>\n",
       "      <th>4</th>\n",
       "      <td>5</td>\n",
       "      <td>Father of the Bride Part II</td>\n",
       "      <td>Comedy</td>\n",
       "      <td>1995</td>\n",
       "      <td>False</td>\n",
       "      <td>False</td>\n",
       "      <td>False</td>\n",
       "      <td>False</td>\n",
       "      <td>True</td>\n",
       "      <td>False</td>\n",
       "      <td>...</td>\n",
       "      <td>False</td>\n",
       "      <td>False</td>\n",
       "      <td>False</td>\n",
       "      <td>False</td>\n",
       "      <td>False</td>\n",
       "      <td>False</td>\n",
       "      <td>False</td>\n",
       "      <td>False</td>\n",
       "      <td>False</td>\n",
       "      <td>False</td>\n",
       "    </tr>\n",
       "  </tbody>\n",
       "</table>\n",
       "<p>5 rows × 23 columns</p>\n",
       "</div>"
      ],
      "text/plain": [
       "   movieId                         title  \\\n",
       "0        1                    Toy Story    \n",
       "1        2                      Jumanji    \n",
       "2        3             Grumpier Old Men    \n",
       "3        4            Waiting to Exhale    \n",
       "4        5  Father of the Bride Part II    \n",
       "\n",
       "                                        genres  year  Action  Adventure  \\\n",
       "0  Adventure|Animation|Children|Comedy|Fantasy  1995   False       True   \n",
       "1                   Adventure|Children|Fantasy  1995   False       True   \n",
       "2                               Comedy|Romance  1995   False      False   \n",
       "3                         Comedy|Drama|Romance  1995   False      False   \n",
       "4                                       Comedy  1995   False      False   \n",
       "\n",
       "   Animation  Children  Comedy  Crime   ...     Film-Noir  Horror   IMAX  \\\n",
       "0       True      True    True  False   ...         False   False  False   \n",
       "1      False      True   False  False   ...         False   False  False   \n",
       "2      False     False    True  False   ...         False   False  False   \n",
       "3      False     False    True  False   ...         False   False  False   \n",
       "4      False     False    True  False   ...         False   False  False   \n",
       "\n",
       "   Musical  Mystery  Romance  Sci-Fi  Thriller    War  Western  \n",
       "0    False    False    False   False     False  False    False  \n",
       "1    False    False    False   False     False  False    False  \n",
       "2    False    False     True   False     False  False    False  \n",
       "3    False    False     True   False     False  False    False  \n",
       "4    False    False    False   False     False  False    False  \n",
       "\n",
       "[5 rows x 23 columns]"
      ]
     },
     "execution_count": 78,
     "metadata": {},
     "output_type": "execute_result"
    }
   ],
   "source": [
    "movies.head()"
   ]
  },
  {
   "cell_type": "markdown",
   "metadata": {},
   "source": [
    "Now we can drop the `genres` column:"
   ]
  },
  {
   "cell_type": "code",
   "execution_count": 79,
   "metadata": {
    "collapsed": true
   },
   "outputs": [],
   "source": [
    "del movies['genres']"
   ]
  },
  {
   "cell_type": "code",
   "execution_count": 80,
   "metadata": {},
   "outputs": [
    {
     "data": {
      "text/html": [
       "<div>\n",
       "<style>\n",
       "    .dataframe thead tr:only-child th {\n",
       "        text-align: right;\n",
       "    }\n",
       "\n",
       "    .dataframe thead th {\n",
       "        text-align: left;\n",
       "    }\n",
       "\n",
       "    .dataframe tbody tr th {\n",
       "        vertical-align: top;\n",
       "    }\n",
       "</style>\n",
       "<table border=\"1\" class=\"dataframe\">\n",
       "  <thead>\n",
       "    <tr style=\"text-align: right;\">\n",
       "      <th></th>\n",
       "      <th>movieId</th>\n",
       "      <th>title</th>\n",
       "      <th>year</th>\n",
       "      <th>Action</th>\n",
       "      <th>Adventure</th>\n",
       "      <th>Animation</th>\n",
       "      <th>Children</th>\n",
       "      <th>Comedy</th>\n",
       "      <th>Crime</th>\n",
       "      <th>Documentary</th>\n",
       "      <th>...</th>\n",
       "      <th>Film-Noir</th>\n",
       "      <th>Horror</th>\n",
       "      <th>IMAX</th>\n",
       "      <th>Musical</th>\n",
       "      <th>Mystery</th>\n",
       "      <th>Romance</th>\n",
       "      <th>Sci-Fi</th>\n",
       "      <th>Thriller</th>\n",
       "      <th>War</th>\n",
       "      <th>Western</th>\n",
       "    </tr>\n",
       "  </thead>\n",
       "  <tbody>\n",
       "    <tr>\n",
       "      <th>0</th>\n",
       "      <td>1</td>\n",
       "      <td>Toy Story</td>\n",
       "      <td>1995</td>\n",
       "      <td>False</td>\n",
       "      <td>True</td>\n",
       "      <td>True</td>\n",
       "      <td>True</td>\n",
       "      <td>True</td>\n",
       "      <td>False</td>\n",
       "      <td>False</td>\n",
       "      <td>...</td>\n",
       "      <td>False</td>\n",
       "      <td>False</td>\n",
       "      <td>False</td>\n",
       "      <td>False</td>\n",
       "      <td>False</td>\n",
       "      <td>False</td>\n",
       "      <td>False</td>\n",
       "      <td>False</td>\n",
       "      <td>False</td>\n",
       "      <td>False</td>\n",
       "    </tr>\n",
       "    <tr>\n",
       "      <th>1</th>\n",
       "      <td>2</td>\n",
       "      <td>Jumanji</td>\n",
       "      <td>1995</td>\n",
       "      <td>False</td>\n",
       "      <td>True</td>\n",
       "      <td>False</td>\n",
       "      <td>True</td>\n",
       "      <td>False</td>\n",
       "      <td>False</td>\n",
       "      <td>False</td>\n",
       "      <td>...</td>\n",
       "      <td>False</td>\n",
       "      <td>False</td>\n",
       "      <td>False</td>\n",
       "      <td>False</td>\n",
       "      <td>False</td>\n",
       "      <td>False</td>\n",
       "      <td>False</td>\n",
       "      <td>False</td>\n",
       "      <td>False</td>\n",
       "      <td>False</td>\n",
       "    </tr>\n",
       "    <tr>\n",
       "      <th>2</th>\n",
       "      <td>3</td>\n",
       "      <td>Grumpier Old Men</td>\n",
       "      <td>1995</td>\n",
       "      <td>False</td>\n",
       "      <td>False</td>\n",
       "      <td>False</td>\n",
       "      <td>False</td>\n",
       "      <td>True</td>\n",
       "      <td>False</td>\n",
       "      <td>False</td>\n",
       "      <td>...</td>\n",
       "      <td>False</td>\n",
       "      <td>False</td>\n",
       "      <td>False</td>\n",
       "      <td>False</td>\n",
       "      <td>False</td>\n",
       "      <td>True</td>\n",
       "      <td>False</td>\n",
       "      <td>False</td>\n",
       "      <td>False</td>\n",
       "      <td>False</td>\n",
       "    </tr>\n",
       "    <tr>\n",
       "      <th>3</th>\n",
       "      <td>4</td>\n",
       "      <td>Waiting to Exhale</td>\n",
       "      <td>1995</td>\n",
       "      <td>False</td>\n",
       "      <td>False</td>\n",
       "      <td>False</td>\n",
       "      <td>False</td>\n",
       "      <td>True</td>\n",
       "      <td>False</td>\n",
       "      <td>False</td>\n",
       "      <td>...</td>\n",
       "      <td>False</td>\n",
       "      <td>False</td>\n",
       "      <td>False</td>\n",
       "      <td>False</td>\n",
       "      <td>False</td>\n",
       "      <td>True</td>\n",
       "      <td>False</td>\n",
       "      <td>False</td>\n",
       "      <td>False</td>\n",
       "      <td>False</td>\n",
       "    </tr>\n",
       "    <tr>\n",
       "      <th>4</th>\n",
       "      <td>5</td>\n",
       "      <td>Father of the Bride Part II</td>\n",
       "      <td>1995</td>\n",
       "      <td>False</td>\n",
       "      <td>False</td>\n",
       "      <td>False</td>\n",
       "      <td>False</td>\n",
       "      <td>True</td>\n",
       "      <td>False</td>\n",
       "      <td>False</td>\n",
       "      <td>...</td>\n",
       "      <td>False</td>\n",
       "      <td>False</td>\n",
       "      <td>False</td>\n",
       "      <td>False</td>\n",
       "      <td>False</td>\n",
       "      <td>False</td>\n",
       "      <td>False</td>\n",
       "      <td>False</td>\n",
       "      <td>False</td>\n",
       "      <td>False</td>\n",
       "    </tr>\n",
       "  </tbody>\n",
       "</table>\n",
       "<p>5 rows × 22 columns</p>\n",
       "</div>"
      ],
      "text/plain": [
       "   movieId                         title  year  Action  Adventure  Animation  \\\n",
       "0        1                    Toy Story   1995   False       True       True   \n",
       "1        2                      Jumanji   1995   False       True      False   \n",
       "2        3             Grumpier Old Men   1995   False      False      False   \n",
       "3        4            Waiting to Exhale   1995   False      False      False   \n",
       "4        5  Father of the Bride Part II   1995   False      False      False   \n",
       "\n",
       "   Children  Comedy  Crime  Documentary   ...     Film-Noir  Horror   IMAX  \\\n",
       "0      True    True  False        False   ...         False   False  False   \n",
       "1      True   False  False        False   ...         False   False  False   \n",
       "2     False    True  False        False   ...         False   False  False   \n",
       "3     False    True  False        False   ...         False   False  False   \n",
       "4     False    True  False        False   ...         False   False  False   \n",
       "\n",
       "   Musical  Mystery  Romance  Sci-Fi  Thriller    War  Western  \n",
       "0    False    False    False   False     False  False    False  \n",
       "1    False    False    False   False     False  False    False  \n",
       "2    False    False     True   False     False  False    False  \n",
       "3    False    False     True   False     False  False    False  \n",
       "4    False    False    False   False     False  False    False  \n",
       "\n",
       "[5 rows x 22 columns]"
      ]
     },
     "execution_count": 80,
     "metadata": {},
     "output_type": "execute_result"
    }
   ],
   "source": [
    "movies.head()"
   ]
  },
  {
   "cell_type": "code",
   "execution_count": 81,
   "metadata": {},
   "outputs": [
    {
     "data": {
      "text/plain": [
       "Film-Noir       133\n",
       "IMAX            153\n",
       "Western         168\n",
       "War             367\n",
       "Musical         394\n",
       "Animation       447\n",
       "Documentary     494\n",
       "Mystery         543\n",
       "Children        583\n",
       "Fantasy         654\n",
       "Sci-Fi          792\n",
       "Horror          877\n",
       "Crime          1100\n",
       "Adventure      1117\n",
       "Romance        1545\n",
       "Action         1545\n",
       "Thriller       1729\n",
       "Comedy         3315\n",
       "Drama          4364\n",
       "dtype: int64"
      ]
     },
     "execution_count": 81,
     "metadata": {},
     "output_type": "execute_result"
    }
   ],
   "source": [
    "movies[gen_list].sum().sort_values()"
   ]
  },
  {
   "cell_type": "code",
   "execution_count": 82,
   "metadata": {},
   "outputs": [
    {
     "data": {
      "text/plain": [
       "<matplotlib.axes._subplots.AxesSubplot at 0x25e606b0358>"
      ]
     },
     "execution_count": 82,
     "metadata": {},
     "output_type": "execute_result"
    },
    {
     "data": {
      "image/png": "[encoded data removed]",
      "text/plain": [
       "<matplotlib.figure.Figure at 0x25e5eb85c18>"
      ]
     },
     "metadata": {},
     "output_type": "display_data"
    }
   ],
   "source": [
    "movies[gen_list].sum().plot(kind = 'bar')"
   ]
  },
  {
   "cell_type": "code",
   "execution_count": 83,
   "metadata": {
    "collapsed": true
   },
   "outputs": [],
   "source": [
    "movies['year'] = pd.to_numeric(movies['year'])"
   ]
  },
  {
   "cell_type": "code",
   "execution_count": 84,
   "metadata": {},
   "outputs": [
    {
     "data": {
      "text/plain": [
       "<matplotlib.axes._subplots.AxesSubplot at 0x25e60701e10>"
      ]
     },
     "execution_count": 84,
     "metadata": {},
     "output_type": "execute_result"
    },
    {
     "data": {
      "image/png": "[encoded data removed]",
      "text/plain": [
       "<matplotlib.figure.Figure at 0x25e60728b70>"
      ]
     },
     "metadata": {},
     "output_type": "display_data"
    }
   ],
   "source": [
    "movies['year'].plot()"
   ]
  },
  {
   "cell_type": "markdown",
   "metadata": {},
   "source": [
    "Opps... It looks like we have some non-sense years inside our data. Let's trim the years later than 2018 and earlier than 1800:"
   ]
  },
  {
   "cell_type": "code",
   "execution_count": 85,
   "metadata": {},
   "outputs": [],
   "source": [
    "movies = movies[((movies['year'] < 2018) & (movies['year'] > 1800))]"
   ]
  },
  {
   "cell_type": "markdown",
   "metadata": {
    "collapsed": true
   },
   "source": [
    "Well, we redefined the `movies` excluding some years:"
   ]
  },
  {
   "cell_type": "code",
   "execution_count": 86,
   "metadata": {},
   "outputs": [
    {
     "data": {
      "text/plain": [
       "<matplotlib.axes._subplots.AxesSubplot at 0x25e602bf3c8>"
      ]
     },
     "execution_count": 86,
     "metadata": {},
     "output_type": "execute_result"
    },
    {
     "data": {
      "image/png": "[encoded data removed]",
      "text/plain": [
       "<matplotlib.figure.Figure at 0x25e606ccef0>"
      ]
     },
     "metadata": {},
     "output_type": "display_data"
    }
   ],
   "source": [
    "movies['year'].plot()"
   ]
  },
  {
   "cell_type": "markdown",
   "metadata": {
    "collapsed": true
   },
   "source": [
    "## Saving Database"
   ]
  },
  {
   "cell_type": "markdown",
   "metadata": {},
   "source": [
    "Pandas allows you to save your DataFrame in different types of files: csv, xlsx, html, latex, stata, sql, xarray, json, and so on."
   ]
  },
  {
   "cell_type": "markdown",
   "metadata": {},
   "source": [
    "### Saving CSV"
   ]
  },
  {
   "cell_type": "code",
   "execution_count": 87,
   "metadata": {
    "collapsed": true
   },
   "outputs": [],
   "source": [
    "movies.to_csv('movies_new.csv')"
   ]
  },
  {
   "cell_type": "markdown",
   "metadata": {},
   "source": [
    "After you do this operation, a filed names `movies_new.csv` will be created. You can read the same file by the command we used earlier."
   ]
  },
  {
   "cell_type": "markdown",
   "metadata": {},
   "source": [
    "### Saving Excel"
   ]
  },
  {
   "cell_type": "markdown",
   "metadata": {},
   "source": [
    "In order to save an Excel file you need to create and ExcelWrite object first:"
   ]
  },
  {
   "cell_type": "code",
   "execution_count": 88,
   "metadata": {
    "collapsed": true
   },
   "outputs": [],
   "source": [
    "ex = pd.ExcelWriter('movies.xlsx')"
   ]
  },
  {
   "cell_type": "code",
   "execution_count": 89,
   "metadata": {},
   "outputs": [],
   "source": [
    "movies.to_excel(ex, 'Sheet 1')"
   ]
  },
  {
   "cell_type": "code",
   "execution_count": 90,
   "metadata": {
    "collapsed": true
   },
   "outputs": [],
   "source": [
    "ex.save()"
   ]
  },
  {
   "cell_type": "markdown",
   "metadata": {},
   "source": [
    "You have an excel file named `movies.xlsx` and dataframe saved to the `Sheet 1`."
   ]
  },
  {
   "cell_type": "markdown",
   "metadata": {},
   "source": [
    "### Saving SQL"
   ]
  },
  {
   "cell_type": "code",
   "execution_count": 91,
   "metadata": {
    "collapsed": true
   },
   "outputs": [],
   "source": [
    "import sqlite3"
   ]
  },
  {
   "cell_type": "code",
   "execution_count": 92,
   "metadata": {
    "collapsed": true
   },
   "outputs": [],
   "source": [
    "conn = sqlite3.connect('movies.db')"
   ]
  },
  {
   "cell_type": "code",
   "execution_count": 93,
   "metadata": {},
   "outputs": [],
   "source": [
    "movies.to_sql('Movies', conn)"
   ]
  },
  {
   "cell_type": "code",
   "execution_count": 94,
   "metadata": {
    "collapsed": true
   },
   "outputs": [],
   "source": [
    "conn.close()"
   ]
  },
  {
   "cell_type": "markdown",
   "metadata": {},
   "source": [
    "Now we saved our dataframe to a sql file. "
   ]
  },
  {
   "cell_type": "markdown",
   "metadata": {},
   "source": [
    "## References"
   ]
  },
  {
   "cell_type": "markdown",
   "metadata": {},
   "source": [
    "1. https://pandas.pydata.org/pandas-docs/stable/tutorials.html\n",
    "2. https://www.quantopian.com/lectures\n",
    "3. https://grouplens.org/datasets/movielens/"
   ]
  }
 ],
 "metadata": {
  "kernelspec": {
   "display_name": "Python 3",
   "language": "python",
   "name": "python3"
  },
  "language_info": {
   "codemirror_mode": {
    "name": "ipython",
    "version": 3
   },
   "file_extension": ".py",
   "mimetype": "text/x-python",
   "name": "python",
   "nbconvert_exporter": "python",
   "pygments_lexer": "ipython3",
   "version": "3.6.3"
  }
 },
 "nbformat": 4,
 "nbformat_minor": 2
}
