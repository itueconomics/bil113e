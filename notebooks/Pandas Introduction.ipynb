{
 "cells": [
  {
   "cell_type": "markdown",
   "metadata": {},
   "source": [
    "# Pandas Introduction"
   ]
  },
  {
   "cell_type": "markdown",
   "metadata": {},
   "source": [
    "Framework of this course and some examples are taken from the [Quantopian](https://www.quantopian.com/lectures). Quantopian lectures are not for Python version we use in the course. So there are some syntax differences. \n",
    "\n",
    "We far we learnt basic concepts about the libraries with [Numpy Introduction](https://itueconomics.github.io/bil113e/python2-numpy.html) course. We will introduce another major library used for stastics, big data and similar works. We will use pandas with numpy. So we import our libraries:"
   ]
  },
  {
   "cell_type": "code",
   "execution_count": 58,
   "metadata": {
    "collapsed": true
   },
   "outputs": [],
   "source": [
    "import numpy as np\n",
    "import pandas as pd"
   ]
  },
  {
   "cell_type": "markdown",
   "metadata": {},
   "source": [
    "Please add a command to show `matplotlib` libraries. We will introduce `matplotlib` library in the **Data Visualization** course later."
   ]
  },
  {
   "cell_type": "code",
   "execution_count": 59,
   "metadata": {
    "collapsed": true
   },
   "outputs": [],
   "source": [
    "%matplotlib inline"
   ]
  },
  {
   "cell_type": "markdown",
   "metadata": {},
   "source": [
    "Let's create a [random.normal](https://docs.scipy.org/doc/numpy/reference/generated/numpy.random.normal.html) function to define a random dataset contains 100 values, with mean $0$ and standard deviation $ 0.5$."
   ]
  },
  {
   "cell_type": "code",
   "execution_count": 60,
   "metadata": {
    "collapsed": true
   },
   "outputs": [],
   "source": [
    "dist = np.random.normal(0, 0.5, (100,))"
   ]
  },
  {
   "cell_type": "code",
   "execution_count": 61,
   "metadata": {},
   "outputs": [
    {
     "name": "stdout",
     "output_type": "stream",
     "text": [
      "(100,)\n"
     ]
    }
   ],
   "source": [
    "print(dist.shape)"
   ]
  },
  {
   "cell_type": "markdown",
   "metadata": {},
   "source": [
    "## Series"
   ]
  },
  {
   "cell_type": "markdown",
   "metadata": {},
   "source": [
    "Using `pandas` library we can convert `dist` array into a `Series`:"
   ]
  },
  {
   "cell_type": "code",
   "execution_count": 72,
   "metadata": {},
   "outputs": [],
   "source": [
    "s = pd.Series(dist)"
   ]
  },
  {
   "cell_type": "code",
   "execution_count": 121,
   "metadata": {},
   "outputs": [
    {
     "data": {
      "text/plain": [
       "2016-01-01    0.483070\n",
       "2016-01-04   -0.311935\n",
       "2016-01-05    0.064338\n",
       "2016-01-06   -1.340761\n",
       "2016-01-07   -0.048894\n",
       "Freq: B, Name: Stock returns, dtype: float64"
      ]
     },
     "execution_count": 121,
     "metadata": {},
     "output_type": "execute_result"
    }
   ],
   "source": [
    "s.head() # First 5 element"
   ]
  },
  {
   "cell_type": "code",
   "execution_count": 122,
   "metadata": {},
   "outputs": [
    {
     "data": {
      "text/plain": [
       "2016-01-01    0.483070\n",
       "2016-01-04   -0.311935\n",
       "2016-01-05    0.064338\n",
       "2016-01-06   -1.340761\n",
       "2016-01-07   -0.048894\n",
       "2016-01-08    0.684970\n",
       "2016-01-11    0.418712\n",
       "2016-01-12    0.468986\n",
       "2016-01-13    0.199612\n",
       "2016-01-14    1.185406\n",
       "Freq: B, Name: Stock returns, dtype: float64"
      ]
     },
     "execution_count": 122,
     "metadata": {},
     "output_type": "execute_result"
    }
   ],
   "source": [
    "s.head(10) # First 10 element"
   ]
  },
  {
   "cell_type": "code",
   "execution_count": 123,
   "metadata": {},
   "outputs": [
    {
     "data": {
      "text/plain": [
       "2016-05-13   -0.098090\n",
       "2016-05-16    0.474426\n",
       "2016-05-17    0.175430\n",
       "2016-05-18   -0.412900\n",
       "2016-05-19   -0.394906\n",
       "Freq: B, Name: Stock returns, dtype: float64"
      ]
     },
     "execution_count": 123,
     "metadata": {},
     "output_type": "execute_result"
    }
   ],
   "source": [
    "s.tail() # Last 5 element"
   ]
  },
  {
   "cell_type": "code",
   "execution_count": 124,
   "metadata": {},
   "outputs": [
    {
     "data": {
      "text/plain": [
       "2016-05-06   -0.065045\n",
       "2016-05-09   -0.019158\n",
       "2016-05-10   -0.881440\n",
       "2016-05-11    0.604379\n",
       "2016-05-12    0.143153\n",
       "2016-05-13   -0.098090\n",
       "2016-05-16    0.474426\n",
       "2016-05-17    0.175430\n",
       "2016-05-18   -0.412900\n",
       "2016-05-19   -0.394906\n",
       "Freq: B, Name: Stock returns, dtype: float64"
      ]
     },
     "execution_count": 124,
     "metadata": {},
     "output_type": "execute_result"
    }
   ],
   "source": [
    "s.tail(10) # Last 10 element"
   ]
  },
  {
   "cell_type": "code",
   "execution_count": 73,
   "metadata": {},
   "outputs": [
    {
     "data": {
      "text/plain": [
       "<matplotlib.axes._subplots.AxesSubplot at 0x7fd664627630>"
      ]
     },
     "execution_count": 73,
     "metadata": {},
     "output_type": "execute_result"
    },
    {
     "data": {
      "image/png": "[encoded data removed]",
      "text/plain": [
       "<matplotlib.figure.Figure at 0x7fd66bd11908>"
      ]
     },
     "metadata": {},
     "output_type": "display_data"
    }
   ],
   "source": [
    "s.plot()"
   ]
  },
  {
   "cell_type": "markdown",
   "metadata": {},
   "source": [
    "This is our Series data. Unlike the arrays Series have other options. `Series` are more useful for data analysis compared to the arrays. Though they have different uses. "
   ]
  },
  {
   "cell_type": "code",
   "execution_count": 74,
   "metadata": {},
   "outputs": [
    {
     "name": "stdout",
     "output_type": "stream",
     "text": [
      "None\n"
     ]
    }
   ],
   "source": [
    "print(s.name)"
   ]
  },
  {
   "cell_type": "markdown",
   "metadata": {},
   "source": [
    "We do not have a name for series. Let's define it:"
   ]
  },
  {
   "cell_type": "code",
   "execution_count": 75,
   "metadata": {},
   "outputs": [
    {
     "name": "stdout",
     "output_type": "stream",
     "text": [
      "Stock returns\n"
     ]
    }
   ],
   "source": [
    "s.name = \"Stock returns\"\n",
    "print(s.name)"
   ]
  },
  {
   "cell_type": "code",
   "execution_count": 76,
   "metadata": {},
   "outputs": [
    {
     "name": "stdout",
     "output_type": "stream",
     "text": [
      "RangeIndex(start=0, stop=100, step=1)\n"
     ]
    }
   ],
   "source": [
    "print(s.index)"
   ]
  },
  {
   "cell_type": "markdown",
   "metadata": {},
   "source": [
    "Assume that this is a return data of a stock. So the Index range should be data, daily:"
   ]
  },
  {
   "cell_type": "markdown",
   "metadata": {},
   "source": [
    "[pandas.date_range](https://pandas.pydata.org/pandas-docs/stable/generated/pandas.date_range.html)"
   ]
  },
  {
   "cell_type": "code",
   "execution_count": 77,
   "metadata": {
    "collapsed": true
   },
   "outputs": [],
   "source": [
    "new_index = pd.date_range(\"2016-01-01\", periods=len(s), freq=\"B\")"
   ]
  },
  {
   "cell_type": "markdown",
   "metadata": {},
   "source": [
    "- set a starting date: `2016-01-01`\n",
    "- defined the periods with: `len(s)`\n",
    "- frequency created for the business days to skip weekends: `B`"
   ]
  },
  {
   "cell_type": "code",
   "execution_count": 78,
   "metadata": {
    "collapsed": true
   },
   "outputs": [],
   "source": [
    "s.index = new_index"
   ]
  },
  {
   "cell_type": "markdown",
   "metadata": {},
   "source": [
    "We change the series index with `new_index` created above. Let's plot it:"
   ]
  },
  {
   "cell_type": "markdown",
   "metadata": {},
   "source": [
    "[pandas.series.plot](https://pandas.pydata.org/pandas-docs/stable/generated/pandas.Series.plot.html)"
   ]
  },
  {
   "cell_type": "code",
   "execution_count": 79,
   "metadata": {},
   "outputs": [
    {
     "data": {
      "text/plain": [
       "<matplotlib.axes._subplots.AxesSubplot at 0x7fd6645d1cc0>"
      ]
     },
     "execution_count": 79,
     "metadata": {},
     "output_type": "execute_result"
    },
    {
     "data": {
      "image/png": "[encoded data removed]",
      "text/plain": [
       "<matplotlib.figure.Figure at 0x7fd664664b38>"
      ]
     },
     "metadata": {},
     "output_type": "display_data"
    }
   ],
   "source": [
    "s.plot(title=s.name)"
   ]
  },
  {
   "cell_type": "markdown",
   "metadata": {},
   "source": [
    "Well... We have a more proper plot compared to the first one. Please be careful about the options. "
   ]
  },
  {
   "cell_type": "markdown",
   "metadata": {},
   "source": [
    "Assume these values are percentage, like `1%`. What happened at the end of the day? We need to define them as $s \\times 0.01 + $ to see their true values. After this process we will find cumulative product:"
   ]
  },
  {
   "cell_type": "code",
   "execution_count": 80,
   "metadata": {},
   "outputs": [
    {
     "data": {
      "text/plain": [
       "<matplotlib.axes._subplots.AxesSubplot at 0x7fd664580470>"
      ]
     },
     "execution_count": 80,
     "metadata": {},
     "output_type": "execute_result"
    },
    {
     "data": {
      "image/png": "[encoded data removed]",
      "text/plain": [
       "<matplotlib.figure.Figure at 0x7fd66479e7b8>"
      ]
     },
     "metadata": {},
     "output_type": "display_data"
    }
   ],
   "source": [
    "s_cum = (s*0.01 + 1).cumprod()\n",
    "s_cum.plot(title=s_cum.name)"
   ]
  },
  {
   "cell_type": "markdown",
   "metadata": {},
   "source": [
    "It looks like within 100 days our stock price increased/decreased(percent): "
   ]
  },
  {
   "cell_type": "code",
   "execution_count": 81,
   "metadata": {},
   "outputs": [
    {
     "name": "stdout",
     "output_type": "stream",
     "text": [
      "2.40239482245\n"
     ]
    }
   ],
   "source": [
    "print((s_cum[-1] - 1)*100)"
   ]
  },
  {
   "cell_type": "markdown",
   "metadata": {},
   "source": [
    "### Accessing elements"
   ]
  },
  {
   "cell_type": "markdown",
   "metadata": {},
   "source": [
    "`iloc[start:end:step]`"
   ]
  },
  {
   "cell_type": "markdown",
   "metadata": {},
   "source": [
    "By default `step=1`."
   ]
  },
  {
   "cell_type": "code",
   "execution_count": 84,
   "metadata": {},
   "outputs": [
    {
     "name": "stdout",
     "output_type": "stream",
     "text": [
      "First element of the series:  0.483070009334\n",
      "Last element of the series:  -0.394905912349\n",
      "(or)Last element of the series:  -0.394905912349\n"
     ]
    }
   ],
   "source": [
    "print(\"First element of the series: \", s.iloc[0])\n",
    "print(\"Last element of the series: \", s.iloc[len(s)-1])\n",
    "print(\"(or) Last element of the series: \", s.iloc[-1])"
   ]
  },
  {
   "cell_type": "markdown",
   "metadata": {},
   "source": [
    "You can make slicing:"
   ]
  },
  {
   "cell_type": "code",
   "execution_count": 85,
   "metadata": {},
   "outputs": [
    {
     "name": "stdout",
     "output_type": "stream",
     "text": [
      "2016-01-01    0.483070\n",
      "2016-01-04   -0.311935\n",
      "2016-01-05    0.064338\n",
      "2016-01-06   -1.340761\n",
      "2016-01-07   -0.048894\n",
      "2016-01-08    0.684970\n",
      "2016-01-11    0.418712\n",
      "2016-01-12    0.468986\n",
      "2016-01-13    0.199612\n",
      "2016-01-14    1.185406\n",
      "Freq: B, Name: Stock returns, dtype: float64\n"
     ]
    }
   ],
   "source": [
    "print(s.iloc[:10])"
   ]
  },
  {
   "cell_type": "code",
   "execution_count": 135,
   "metadata": {},
   "outputs": [
    {
     "name": "stdout",
     "output_type": "stream",
     "text": [
      "2016-01-01    0.483070\n",
      "2016-01-15    0.125994\n",
      "2016-01-29   -0.498062\n",
      "2016-02-12   -0.039106\n",
      "2016-02-26   -0.390126\n",
      "2016-03-11   -0.089328\n",
      "2016-03-25   -0.394837\n",
      "2016-04-08   -0.662184\n",
      "2016-04-22   -0.392648\n",
      "2016-05-06   -0.065045\n",
      "Freq: 10B, Name: Stock returns, dtype: float64\n"
     ]
    }
   ],
   "source": [
    "print(s.iloc[:100:10])"
   ]
  },
  {
   "cell_type": "markdown",
   "metadata": {},
   "source": [
    "You can access series elements with `index_name`:"
   ]
  },
  {
   "cell_type": "code",
   "execution_count": 132,
   "metadata": {},
   "outputs": [
    {
     "name": "stdout",
     "output_type": "stream",
     "text": [
      "0.483070009334\n"
     ]
    }
   ],
   "source": [
    "print(s.loc['2016-01-01'])"
   ]
  },
  {
   "cell_type": "code",
   "execution_count": 133,
   "metadata": {},
   "outputs": [
    {
     "name": "stdout",
     "output_type": "stream",
     "text": [
      "2016-01-01    0.483070\n",
      "2016-01-04   -0.311935\n",
      "2016-01-05    0.064338\n",
      "2016-01-06   -1.340761\n",
      "2016-01-07   -0.048894\n",
      "2016-01-08    0.684970\n",
      "Freq: B, Name: Stock returns, dtype: float64\n"
     ]
    }
   ],
   "source": [
    "print(s.loc['2016-01-01':'2016-01-10']) # Between dates"
   ]
  },
  {
   "cell_type": "markdown",
   "metadata": {},
   "source": [
    "### Boolean"
   ]
  },
  {
   "cell_type": "markdown",
   "metadata": {},
   "source": [
    "Which dates have negative returns?"
   ]
  },
  {
   "cell_type": "code",
   "execution_count": 130,
   "metadata": {},
   "outputs": [
    {
     "name": "stdout",
     "output_type": "stream",
     "text": [
      "2016-01-01    False\n",
      "2016-01-04     True\n",
      "2016-01-05    False\n",
      "2016-01-06     True\n",
      "2016-01-07     True\n",
      "Freq: B, Name: Stock returns, dtype: bool\n"
     ]
    }
   ],
   "source": [
    "print((s < 0).head())"
   ]
  },
  {
   "cell_type": "markdown",
   "metadata": {},
   "source": [
    "How to access those series?"
   ]
  },
  {
   "cell_type": "code",
   "execution_count": 129,
   "metadata": {},
   "outputs": [
    {
     "name": "stdout",
     "output_type": "stream",
     "text": [
      "2016-01-04   -0.311935\n",
      "2016-01-06   -1.340761\n",
      "2016-01-07   -0.048894\n",
      "2016-01-19   -0.141090\n",
      "2016-01-22   -0.273300\n",
      "Name: Stock returns, dtype: float64\n"
     ]
    }
   ],
   "source": [
    "print(s[s < 0].head())"
   ]
  },
  {
   "cell_type": "code",
   "execution_count": 97,
   "metadata": {},
   "outputs": [
    {
     "name": "stdout",
     "output_type": "stream",
     "text": [
      "2016-01-14    1.185406\n",
      "2016-04-11    1.770334\n",
      "Name: Stock returns, dtype: float64\n"
     ]
    }
   ],
   "source": [
    "print(s[s > 1])"
   ]
  },
  {
   "cell_type": "markdown",
   "metadata": {},
   "source": [
    "It looks like we have only series above that are greater than 1."
   ]
  },
  {
   "cell_type": "code",
   "execution_count": 100,
   "metadata": {},
   "outputs": [
    {
     "name": "stdout",
     "output_type": "stream",
     "text": [
      "2016-01-06   -1.340761\n",
      "2016-01-14    1.185406\n",
      "2016-04-11    1.770334\n",
      "2016-04-29   -1.003314\n",
      "Name: Stock returns, dtype: float64\n"
     ]
    }
   ],
   "source": [
    "print(s[(s > 1) | (s < -1)])"
   ]
  },
  {
   "cell_type": "markdown",
   "metadata": {},
   "source": [
    "Or simply:"
   ]
  },
  {
   "cell_type": "code",
   "execution_count": 101,
   "metadata": {},
   "outputs": [
    {
     "name": "stdout",
     "output_type": "stream",
     "text": [
      "2016-01-06   -1.340761\n",
      "2016-01-14    1.185406\n",
      "2016-04-11    1.770334\n",
      "2016-04-29   -1.003314\n",
      "Name: Stock returns, dtype: float64\n"
     ]
    }
   ],
   "source": [
    "print(s[np.abs(s) > 1])"
   ]
  },
  {
   "cell_type": "markdown",
   "metadata": {},
   "source": [
    "### Some basic functions:"
   ]
  },
  {
   "cell_type": "code",
   "execution_count": 136,
   "metadata": {},
   "outputs": [
    {
     "name": "stdout",
     "output_type": "stream",
     "text": [
      "0.024862346192427474\n",
      "0.47588942706308945\n",
      "1.77033441627\n",
      "-1.34076114142\n",
      "0.023328870890846246\n"
     ]
    }
   ],
   "source": [
    "print(s.mean()) # mean\n",
    "print(s.std()) # standard deviation\n",
    "print(s.max()) # max value\n",
    "print(s.min()) # min value\n",
    "print(s.median()) # median value"
   ]
  },
  {
   "cell_type": "code",
   "execution_count": 128,
   "metadata": {},
   "outputs": [
    {
     "name": "stdout",
     "output_type": "stream",
     "text": [
      "2016-01-01    0.483070\n",
      "2016-01-04    0.311935\n",
      "2016-01-05    0.064338\n",
      "2016-01-06    1.340761\n",
      "2016-01-07    0.048894\n",
      "Freq: B, Name: Stock returns, dtype: float64\n"
     ]
    }
   ],
   "source": [
    "print(s.abs().head()) # Returns absolute values"
   ]
  },
  {
   "cell_type": "markdown",
   "metadata": {},
   "source": [
    "### NaN values"
   ]
  },
  {
   "cell_type": "code",
   "execution_count": 114,
   "metadata": {},
   "outputs": [],
   "source": [
    "new_series = pd.Series([1,5,np.nan,2,6,8,2,np.nan])"
   ]
  },
  {
   "cell_type": "code",
   "execution_count": 115,
   "metadata": {},
   "outputs": [
    {
     "data": {
      "text/plain": [
       "<matplotlib.axes._subplots.AxesSubplot at 0x7fd6642e5d68>"
      ]
     },
     "execution_count": 115,
     "metadata": {},
     "output_type": "execute_result"
    },
    {
     "data": {
      "image/png": "[encoded data removed]",
      "text/plain": [
       "<matplotlib.figure.Figure at 0x7fd66435c2b0>"
      ]
     },
     "metadata": {},
     "output_type": "display_data"
    }
   ],
   "source": [
    "new_series.plot()"
   ]
  },
  {
   "cell_type": "markdown",
   "metadata": {},
   "source": [
    "We can drop null values:"
   ]
  },
  {
   "cell_type": "code",
   "execution_count": 119,
   "metadata": {},
   "outputs": [],
   "source": [
    "new_series = new_series.dropna()"
   ]
  },
  {
   "cell_type": "code",
   "execution_count": 120,
   "metadata": {},
   "outputs": [
    {
     "data": {
      "text/plain": [
       "<matplotlib.axes._subplots.AxesSubplot at 0x7fd6643b12b0>"
      ]
     },
     "execution_count": 120,
     "metadata": {},
     "output_type": "execute_result"
    },
    {
     "data": {
      "image/png": "[encoded data removed]",
      "text/plain": [
       "<matplotlib.figure.Figure at 0x7fd66424e320>"
      ]
     },
     "metadata": {},
     "output_type": "display_data"
    }
   ],
   "source": [
    "new_series.plot()"
   ]
  },
  {
   "cell_type": "markdown",
   "metadata": {},
   "source": [
    "## DataFrame"
   ]
  },
  {
   "cell_type": "markdown",
   "metadata": {},
   "source": [
    "[pandas.DataFrame](https://pandas.pydata.org/pandas-docs/stable/generated/pandas.DataFrame.html)"
   ]
  },
  {
   "cell_type": "markdown",
   "metadata": {},
   "source": [
    "- Dataframe\n",
    "- rolling mean\n",
    "- file operations"
   ]
  },
  {
   "cell_type": "markdown",
   "metadata": {},
   "source": [
    "We can carry many operations of the `Series` within the `pandas.DataFrame`"
   ]
  },
  {
   "cell_type": "code",
   "execution_count": 137,
   "metadata": {},
   "outputs": [
    {
     "name": "stdout",
     "output_type": "stream",
     "text": [
      "{'a': [1, 2, 3, 4, 5], 'b': ['L', 'K', 'J', 'M', 'Z'], 'c': array([-0.02559054, -1.39424063, -0.08220515,  1.04658475,  0.12730595])}\n"
     ]
    }
   ],
   "source": [
    "dict_data = {\n",
    "    'a' : [1, 2, 3, 4, 5],\n",
    "    'b' : ['L', 'K', 'J', 'M', 'Z'],\n",
    "    'c' : np.random.normal(0, 1, 5)\n",
    "}\n",
    "print (dict_data)"
   ]
  },
  {
   "cell_type": "code",
   "execution_count": 138,
   "metadata": {},
   "outputs": [
    {
     "name": "stdout",
     "output_type": "stream",
     "text": [
      "            a  b         c\n",
      "2016-01-01  1  L -0.025591\n",
      "2016-01-02  2  K -1.394241\n",
      "2016-01-03  3  J -0.082205\n",
      "2016-01-04  4  M  1.046585\n",
      "2016-01-05  5  Z  0.127306\n"
     ]
    }
   ],
   "source": [
    "df = pd.DataFrame(dict_data, index=pd.date_range('2016-01-01', periods=5))\n",
    "print (df)"
   ]
  },
  {
   "cell_type": "markdown",
   "metadata": {},
   "source": [
    "What happened here is that we define three series named `a, b, and c`. They can converted to the `pandas.Series` seperately instead we create a `DataFrame` to combine all attributes. Each column in the `DataFrame` are a `pandas.Series`."
   ]
  },
  {
   "cell_type": "code",
   "execution_count": 141,
   "metadata": {},
   "outputs": [
    {
     "name": "stdout",
     "output_type": "stream",
     "text": [
      "<class 'pandas.core.series.Series'>\n",
      "<class 'pandas.core.series.Series'>\n",
      "<class 'pandas.core.series.Series'>\n"
     ]
    }
   ],
   "source": [
    "print(type(df['a']))\n",
    "print(type(df['b']))\n",
    "print(type(df['c']))"
   ]
  },
  {
   "cell_type": "markdown",
   "metadata": {},
   "source": [
    "But together:"
   ]
  },
  {
   "cell_type": "code",
   "execution_count": 142,
   "metadata": {},
   "outputs": [
    {
     "name": "stdout",
     "output_type": "stream",
     "text": [
      "<class 'pandas.core.frame.DataFrame'>\n"
     ]
    }
   ],
   "source": [
    "print(type(df))"
   ]
  },
  {
   "cell_type": "markdown",
   "metadata": {},
   "source": [
    "You can define a `DataFrame` in many ways:"
   ]
  },
  {
   "cell_type": "code",
   "execution_count": 143,
   "metadata": {},
   "outputs": [
    {
     "name": "stdout",
     "output_type": "stream",
     "text": [
      "   Evens  Odds\n",
      "0      2     1\n",
      "1      4     3\n",
      "2      6     5\n",
      "3      8     7\n",
      "4     10     9\n"
     ]
    }
   ],
   "source": [
    "s_1 = pd.Series([2, 4, 6, 8, 10], name='Evens')\n",
    "s_2 = pd.Series([1, 3, 5, 7, 9], name=\"Odds\")\n",
    "numbers = pd.concat([s_1, s_2], axis=1)\n",
    "print(numbers)"
   ]
  },
  {
   "cell_type": "markdown",
   "metadata": {},
   "source": [
    "Column names:"
   ]
  },
  {
   "cell_type": "code",
   "execution_count": 144,
   "metadata": {},
   "outputs": [
    {
     "name": "stdout",
     "output_type": "stream",
     "text": [
      "Index(['Evens', 'Odds'], dtype='object')\n"
     ]
    }
   ],
   "source": [
    "print(numbers.columns)"
   ]
  },
  {
   "cell_type": "markdown",
   "metadata": {},
   "source": [
    "Change column names:"
   ]
  },
  {
   "cell_type": "code",
   "execution_count": 145,
   "metadata": {
    "collapsed": true
   },
   "outputs": [],
   "source": [
    "numbers.columns = ['Shmevens', 'Shmodds']"
   ]
  },
  {
   "cell_type": "code",
   "execution_count": 146,
   "metadata": {},
   "outputs": [
    {
     "name": "stdout",
     "output_type": "stream",
     "text": [
      "   Shmevens  Shmodds\n",
      "0         2        1\n",
      "1         4        3\n",
      "2         6        5\n",
      "3         8        7\n",
      "4        10        9\n"
     ]
    }
   ],
   "source": [
    "print(numbers)"
   ]
  },
  {
   "cell_type": "markdown",
   "metadata": {},
   "source": [
    "Most of the attributes of the `pandas.Series` are valid for `DataFrames`:"
   ]
  },
  {
   "cell_type": "code",
   "execution_count": 147,
   "metadata": {},
   "outputs": [
    {
     "name": "stdout",
     "output_type": "stream",
     "text": [
      "RangeIndex(start=0, stop=5, step=1)\n"
     ]
    }
   ],
   "source": [
    "print(numbers.index)"
   ]
  },
  {
   "cell_type": "code",
   "execution_count": 148,
   "metadata": {},
   "outputs": [
    {
     "name": "stdout",
     "output_type": "stream",
     "text": [
      "            Shmevens  Shmodds\n",
      "2016-01-01         2        1\n",
      "2016-01-02         4        3\n",
      "2016-01-03         6        5\n",
      "2016-01-04         8        7\n",
      "2016-01-05        10        9\n"
     ]
    }
   ],
   "source": [
    "numbers.index = pd.date_range(\"2016-01-01\", periods=len(numbers))\n",
    "print(numbers)"
   ]
  },
  {
   "cell_type": "code",
   "execution_count": 149,
   "metadata": {},
   "outputs": [
    {
     "name": "stdout",
     "output_type": "stream",
     "text": [
      "[[ 2  1]\n",
      " [ 4  3]\n",
      " [ 6  5]\n",
      " [ 8  7]\n",
      " [10  9]]\n"
     ]
    }
   ],
   "source": [
    "print(numbers.values)"
   ]
  },
  {
   "cell_type": "markdown",
   "metadata": {},
   "source": [
    "Let's create a similar DataFrame as done with series, randomly:"
   ]
  },
  {
   "cell_type": "code",
   "execution_count": 150,
   "metadata": {
    "collapsed": true
   },
   "outputs": [],
   "source": [
    "dist = np.random.normal(0, 0.5, (100,10))"
   ]
  },
  {
   "cell_type": "code",
   "execution_count": 153,
   "metadata": {},
   "outputs": [
    {
     "data": {
      "text/html": [
       "<div>\n",
       "<style>\n",
       "    .dataframe thead tr:only-child th {\n",
       "        text-align: right;\n",
       "    }\n",
       "\n",
       "    .dataframe thead th {\n",
       "        text-align: left;\n",
       "    }\n",
       "\n",
       "    .dataframe tbody tr th {\n",
       "        vertical-align: top;\n",
       "    }\n",
       "</style>\n",
       "<table border=\"1\" class=\"dataframe\">\n",
       "  <thead>\n",
       "    <tr style=\"text-align: right;\">\n",
       "      <th></th>\n",
       "      <th>0</th>\n",
       "      <th>1</th>\n",
       "      <th>2</th>\n",
       "      <th>3</th>\n",
       "      <th>4</th>\n",
       "      <th>5</th>\n",
       "      <th>6</th>\n",
       "      <th>7</th>\n",
       "      <th>8</th>\n",
       "      <th>9</th>\n",
       "    </tr>\n",
       "  </thead>\n",
       "  <tbody>\n",
       "    <tr>\n",
       "      <th>0</th>\n",
       "      <td>-0.108153</td>\n",
       "      <td>-0.455635</td>\n",
       "      <td>0.509147</td>\n",
       "      <td>-0.246972</td>\n",
       "      <td>0.600188</td>\n",
       "      <td>0.279619</td>\n",
       "      <td>-0.457287</td>\n",
       "      <td>0.170540</td>\n",
       "      <td>-0.350081</td>\n",
       "      <td>-0.906273</td>\n",
       "    </tr>\n",
       "    <tr>\n",
       "      <th>1</th>\n",
       "      <td>-0.672657</td>\n",
       "      <td>0.611914</td>\n",
       "      <td>0.777550</td>\n",
       "      <td>0.289494</td>\n",
       "      <td>0.412834</td>\n",
       "      <td>0.601548</td>\n",
       "      <td>0.155076</td>\n",
       "      <td>0.258229</td>\n",
       "      <td>-1.249843</td>\n",
       "      <td>-1.084246</td>\n",
       "    </tr>\n",
       "    <tr>\n",
       "      <th>2</th>\n",
       "      <td>0.594375</td>\n",
       "      <td>-0.637600</td>\n",
       "      <td>-0.120537</td>\n",
       "      <td>-0.576603</td>\n",
       "      <td>-0.306880</td>\n",
       "      <td>0.308746</td>\n",
       "      <td>-0.007661</td>\n",
       "      <td>0.303328</td>\n",
       "      <td>0.812060</td>\n",
       "      <td>-0.525469</td>\n",
       "    </tr>\n",
       "    <tr>\n",
       "      <th>3</th>\n",
       "      <td>-0.332196</td>\n",
       "      <td>0.042465</td>\n",
       "      <td>-0.639609</td>\n",
       "      <td>-0.007508</td>\n",
       "      <td>-0.074882</td>\n",
       "      <td>0.502859</td>\n",
       "      <td>-0.789998</td>\n",
       "      <td>-0.888698</td>\n",
       "      <td>0.548618</td>\n",
       "      <td>-0.167398</td>\n",
       "    </tr>\n",
       "    <tr>\n",
       "      <th>4</th>\n",
       "      <td>-0.433269</td>\n",
       "      <td>0.633785</td>\n",
       "      <td>0.778991</td>\n",
       "      <td>-0.084686</td>\n",
       "      <td>0.431378</td>\n",
       "      <td>-0.496091</td>\n",
       "      <td>0.133972</td>\n",
       "      <td>0.080846</td>\n",
       "      <td>-0.398608</td>\n",
       "      <td>0.452690</td>\n",
       "    </tr>\n",
       "  </tbody>\n",
       "</table>\n",
       "</div>"
      ],
      "text/plain": [
       "          0         1         2         3         4         5         6  \\\n",
       "0 -0.108153 -0.455635  0.509147 -0.246972  0.600188  0.279619 -0.457287   \n",
       "1 -0.672657  0.611914  0.777550  0.289494  0.412834  0.601548  0.155076   \n",
       "2  0.594375 -0.637600 -0.120537 -0.576603 -0.306880  0.308746 -0.007661   \n",
       "3 -0.332196  0.042465 -0.639609 -0.007508 -0.074882  0.502859 -0.789998   \n",
       "4 -0.433269  0.633785  0.778991 -0.084686  0.431378 -0.496091  0.133972   \n",
       "\n",
       "          7         8         9  \n",
       "0  0.170540 -0.350081 -0.906273  \n",
       "1  0.258229 -1.249843 -1.084246  \n",
       "2  0.303328  0.812060 -0.525469  \n",
       "3 -0.888698  0.548618 -0.167398  \n",
       "4  0.080846 -0.398608  0.452690  "
      ]
     },
     "execution_count": 153,
     "metadata": {},
     "output_type": "execute_result"
    }
   ],
   "source": [
    "df = pd.DataFrame(dist)\n",
    "df.head()"
   ]
  },
  {
   "cell_type": "code",
   "execution_count": 154,
   "metadata": {
    "collapsed": true
   },
   "outputs": [],
   "source": [
    "df.index = pd.date_range(\"2016-01-01\", periods=len(df.index), freq='B')"
   ]
  },
  {
   "cell_type": "code",
   "execution_count": 155,
   "metadata": {
    "collapsed": true
   },
   "outputs": [],
   "source": [
    "df.columns = ['Stck {}'.format(str(i)) for i in range(1,11)]"
   ]
  },
  {
   "cell_type": "code",
   "execution_count": 156,
   "metadata": {},
   "outputs": [
    {
     "data": {
      "text/html": [
       "<div>\n",
       "<style>\n",
       "    .dataframe thead tr:only-child th {\n",
       "        text-align: right;\n",
       "    }\n",
       "\n",
       "    .dataframe thead th {\n",
       "        text-align: left;\n",
       "    }\n",
       "\n",
       "    .dataframe tbody tr th {\n",
       "        vertical-align: top;\n",
       "    }\n",
       "</style>\n",
       "<table border=\"1\" class=\"dataframe\">\n",
       "  <thead>\n",
       "    <tr style=\"text-align: right;\">\n",
       "      <th></th>\n",
       "      <th>Stck 1</th>\n",
       "      <th>Stck 2</th>\n",
       "      <th>Stck 3</th>\n",
       "      <th>Stck 4</th>\n",
       "      <th>Stck 5</th>\n",
       "      <th>Stck 6</th>\n",
       "      <th>Stck 7</th>\n",
       "      <th>Stck 8</th>\n",
       "      <th>Stck 9</th>\n",
       "      <th>Stck 10</th>\n",
       "    </tr>\n",
       "  </thead>\n",
       "  <tbody>\n",
       "    <tr>\n",
       "      <th>2016-01-01</th>\n",
       "      <td>-0.108153</td>\n",
       "      <td>-0.455635</td>\n",
       "      <td>0.509147</td>\n",
       "      <td>-0.246972</td>\n",
       "      <td>0.600188</td>\n",
       "      <td>0.279619</td>\n",
       "      <td>-0.457287</td>\n",
       "      <td>0.170540</td>\n",
       "      <td>-0.350081</td>\n",
       "      <td>-0.906273</td>\n",
       "    </tr>\n",
       "    <tr>\n",
       "      <th>2016-01-04</th>\n",
       "      <td>-0.672657</td>\n",
       "      <td>0.611914</td>\n",
       "      <td>0.777550</td>\n",
       "      <td>0.289494</td>\n",
       "      <td>0.412834</td>\n",
       "      <td>0.601548</td>\n",
       "      <td>0.155076</td>\n",
       "      <td>0.258229</td>\n",
       "      <td>-1.249843</td>\n",
       "      <td>-1.084246</td>\n",
       "    </tr>\n",
       "    <tr>\n",
       "      <th>2016-01-05</th>\n",
       "      <td>0.594375</td>\n",
       "      <td>-0.637600</td>\n",
       "      <td>-0.120537</td>\n",
       "      <td>-0.576603</td>\n",
       "      <td>-0.306880</td>\n",
       "      <td>0.308746</td>\n",
       "      <td>-0.007661</td>\n",
       "      <td>0.303328</td>\n",
       "      <td>0.812060</td>\n",
       "      <td>-0.525469</td>\n",
       "    </tr>\n",
       "    <tr>\n",
       "      <th>2016-01-06</th>\n",
       "      <td>-0.332196</td>\n",
       "      <td>0.042465</td>\n",
       "      <td>-0.639609</td>\n",
       "      <td>-0.007508</td>\n",
       "      <td>-0.074882</td>\n",
       "      <td>0.502859</td>\n",
       "      <td>-0.789998</td>\n",
       "      <td>-0.888698</td>\n",
       "      <td>0.548618</td>\n",
       "      <td>-0.167398</td>\n",
       "    </tr>\n",
       "    <tr>\n",
       "      <th>2016-01-07</th>\n",
       "      <td>-0.433269</td>\n",
       "      <td>0.633785</td>\n",
       "      <td>0.778991</td>\n",
       "      <td>-0.084686</td>\n",
       "      <td>0.431378</td>\n",
       "      <td>-0.496091</td>\n",
       "      <td>0.133972</td>\n",
       "      <td>0.080846</td>\n",
       "      <td>-0.398608</td>\n",
       "      <td>0.452690</td>\n",
       "    </tr>\n",
       "  </tbody>\n",
       "</table>\n",
       "</div>"
      ],
      "text/plain": [
       "              Stck 1    Stck 2    Stck 3    Stck 4    Stck 5    Stck 6  \\\n",
       "2016-01-01 -0.108153 -0.455635  0.509147 -0.246972  0.600188  0.279619   \n",
       "2016-01-04 -0.672657  0.611914  0.777550  0.289494  0.412834  0.601548   \n",
       "2016-01-05  0.594375 -0.637600 -0.120537 -0.576603 -0.306880  0.308746   \n",
       "2016-01-06 -0.332196  0.042465 -0.639609 -0.007508 -0.074882  0.502859   \n",
       "2016-01-07 -0.433269  0.633785  0.778991 -0.084686  0.431378 -0.496091   \n",
       "\n",
       "              Stck 7    Stck 8    Stck 9   Stck 10  \n",
       "2016-01-01 -0.457287  0.170540 -0.350081 -0.906273  \n",
       "2016-01-04  0.155076  0.258229 -1.249843 -1.084246  \n",
       "2016-01-05 -0.007661  0.303328  0.812060 -0.525469  \n",
       "2016-01-06 -0.789998 -0.888698  0.548618 -0.167398  \n",
       "2016-01-07  0.133972  0.080846 -0.398608  0.452690  "
      ]
     },
     "execution_count": 156,
     "metadata": {},
     "output_type": "execute_result"
    }
   ],
   "source": [
    "df.head()"
   ]
  },
  {
   "cell_type": "markdown",
   "metadata": {},
   "source": [
    "Now we have 10 stock prices returns within one DataFrame. Let's calculate the returns as multiplication of previous day: "
   ]
  },
  {
   "cell_type": "code",
   "execution_count": 159,
   "metadata": {
    "collapsed": true
   },
   "outputs": [],
   "source": [
    "df_cum = df*0.01 + 1\n",
    "df_cum = df_cum.cumprod()"
   ]
  },
  {
   "cell_type": "code",
   "execution_count": 160,
   "metadata": {},
   "outputs": [
    {
     "data": {
      "text/html": [
       "<div>\n",
       "<style>\n",
       "    .dataframe thead tr:only-child th {\n",
       "        text-align: right;\n",
       "    }\n",
       "\n",
       "    .dataframe thead th {\n",
       "        text-align: left;\n",
       "    }\n",
       "\n",
       "    .dataframe tbody tr th {\n",
       "        vertical-align: top;\n",
       "    }\n",
       "</style>\n",
       "<table border=\"1\" class=\"dataframe\">\n",
       "  <thead>\n",
       "    <tr style=\"text-align: right;\">\n",
       "      <th></th>\n",
       "      <th>Stck 1</th>\n",
       "      <th>Stck 2</th>\n",
       "      <th>Stck 3</th>\n",
       "      <th>Stck 4</th>\n",
       "      <th>Stck 5</th>\n",
       "      <th>Stck 6</th>\n",
       "      <th>Stck 7</th>\n",
       "      <th>Stck 8</th>\n",
       "      <th>Stck 9</th>\n",
       "      <th>Stck 10</th>\n",
       "    </tr>\n",
       "  </thead>\n",
       "  <tbody>\n",
       "    <tr>\n",
       "      <th>2016-01-01</th>\n",
       "      <td>0.998918</td>\n",
       "      <td>0.995444</td>\n",
       "      <td>1.005091</td>\n",
       "      <td>0.997530</td>\n",
       "      <td>1.006002</td>\n",
       "      <td>1.002796</td>\n",
       "      <td>0.995427</td>\n",
       "      <td>1.001705</td>\n",
       "      <td>0.996499</td>\n",
       "      <td>0.990937</td>\n",
       "    </tr>\n",
       "    <tr>\n",
       "      <th>2016-01-04</th>\n",
       "      <td>0.992199</td>\n",
       "      <td>1.001535</td>\n",
       "      <td>1.012907</td>\n",
       "      <td>1.000418</td>\n",
       "      <td>1.010155</td>\n",
       "      <td>1.008828</td>\n",
       "      <td>0.996971</td>\n",
       "      <td>1.004292</td>\n",
       "      <td>0.984045</td>\n",
       "      <td>0.980193</td>\n",
       "    </tr>\n",
       "    <tr>\n",
       "      <th>2016-01-05</th>\n",
       "      <td>0.998097</td>\n",
       "      <td>0.995149</td>\n",
       "      <td>1.011686</td>\n",
       "      <td>0.994650</td>\n",
       "      <td>1.007055</td>\n",
       "      <td>1.011943</td>\n",
       "      <td>0.996894</td>\n",
       "      <td>1.007338</td>\n",
       "      <td>0.992036</td>\n",
       "      <td>0.975042</td>\n",
       "    </tr>\n",
       "    <tr>\n",
       "      <th>2016-01-06</th>\n",
       "      <td>0.994781</td>\n",
       "      <td>0.995572</td>\n",
       "      <td>1.005215</td>\n",
       "      <td>0.994575</td>\n",
       "      <td>1.006301</td>\n",
       "      <td>1.017032</td>\n",
       "      <td>0.989019</td>\n",
       "      <td>0.998386</td>\n",
       "      <td>0.997478</td>\n",
       "      <td>0.973410</td>\n",
       "    </tr>\n",
       "    <tr>\n",
       "      <th>2016-01-07</th>\n",
       "      <td>0.990471</td>\n",
       "      <td>1.001881</td>\n",
       "      <td>1.013045</td>\n",
       "      <td>0.993733</td>\n",
       "      <td>1.010642</td>\n",
       "      <td>1.011986</td>\n",
       "      <td>0.990344</td>\n",
       "      <td>0.999193</td>\n",
       "      <td>0.993502</td>\n",
       "      <td>0.977817</td>\n",
       "    </tr>\n",
       "  </tbody>\n",
       "</table>\n",
       "</div>"
      ],
      "text/plain": [
       "              Stck 1    Stck 2    Stck 3    Stck 4    Stck 5    Stck 6  \\\n",
       "2016-01-01  0.998918  0.995444  1.005091  0.997530  1.006002  1.002796   \n",
       "2016-01-04  0.992199  1.001535  1.012907  1.000418  1.010155  1.008828   \n",
       "2016-01-05  0.998097  0.995149  1.011686  0.994650  1.007055  1.011943   \n",
       "2016-01-06  0.994781  0.995572  1.005215  0.994575  1.006301  1.017032   \n",
       "2016-01-07  0.990471  1.001881  1.013045  0.993733  1.010642  1.011986   \n",
       "\n",
       "              Stck 7    Stck 8    Stck 9   Stck 10  \n",
       "2016-01-01  0.995427  1.001705  0.996499  0.990937  \n",
       "2016-01-04  0.996971  1.004292  0.984045  0.980193  \n",
       "2016-01-05  0.996894  1.007338  0.992036  0.975042  \n",
       "2016-01-06  0.989019  0.998386  0.997478  0.973410  \n",
       "2016-01-07  0.990344  0.999193  0.993502  0.977817  "
      ]
     },
     "execution_count": 160,
     "metadata": {},
     "output_type": "execute_result"
    }
   ],
   "source": [
    "df_cum.head()"
   ]
  },
  {
   "cell_type": "markdown",
   "metadata": {},
   "source": [
    "[pandas.DataFrame.plot](https://pandas.pydata.org/pandas-docs/stable/generated/pandas.DataFrame.plot.html)"
   ]
  },
  {
   "cell_type": "code",
   "execution_count": 166,
   "metadata": {},
   "outputs": [
    {
     "data": {
      "text/plain": [
       "<matplotlib.axes._subplots.AxesSubplot at 0x7fd663d6d898>"
      ]
     },
     "execution_count": 166,
     "metadata": {},
     "output_type": "execute_result"
    },
    {
     "data": {
      "image/png": "[encoded data removed]",
      "text/plain": [
       "<matplotlib.figure.Figure at 0x7fd663e2d438>"
      ]
     },
     "metadata": {},
     "output_type": "display_data"
    }
   ],
   "source": [
    "df_cum.plot(figsize = (10,5))"
   ]
  },
  {
   "cell_type": "markdown",
   "metadata": {},
   "source": [
    "As you see at the end of the day some stocks made profit and some made loss. "
   ]
  },
  {
   "cell_type": "markdown",
   "metadata": {},
   "source": [
    "Locating the values works same with `Series`. The last day profits are loses:"
   ]
  },
  {
   "cell_type": "code",
   "execution_count": 172,
   "metadata": {},
   "outputs": [
    {
     "data": {
      "text/plain": [
       "Stck 1     0.988823\n",
       "Stck 2     0.999521\n",
       "Stck 3     1.031383\n",
       "Stck 4     1.030200\n",
       "Stck 5     1.070779\n",
       "Stck 6     1.039489\n",
       "Stck 7     0.936199\n",
       "Stck 8     1.020096\n",
       "Stck 9     0.964788\n",
       "Stck 10    1.028425\n",
       "Name: 2016-05-19 00:00:00, dtype: float64"
      ]
     },
     "execution_count": 172,
     "metadata": {},
     "output_type": "execute_result"
    }
   ],
   "source": [
    "df_cum.iloc[-1]"
   ]
  },
  {
   "cell_type": "markdown",
   "metadata": {},
   "source": [
    "**BUT ** This is a two dimensional shape and you need two parameters to locate specific values. "
   ]
  },
  {
   "cell_type": "code",
   "execution_count": 173,
   "metadata": {},
   "outputs": [
    {
     "data": {
      "text/plain": [
       "1.0313829096908862"
      ]
     },
     "execution_count": 173,
     "metadata": {},
     "output_type": "execute_result"
    }
   ],
   "source": [
    "df_cum.iloc[-1,2]"
   ]
  },
  {
   "cell_type": "markdown",
   "metadata": {},
   "source": [
    "For example we can only care about profited stocks:"
   ]
  },
  {
   "cell_type": "code",
   "execution_count": 178,
   "metadata": {},
   "outputs": [
    {
     "data": {
      "text/plain": [
       "Stck 1     False\n",
       "Stck 2     False\n",
       "Stck 3      True\n",
       "Stck 4      True\n",
       "Stck 5      True\n",
       "Stck 6      True\n",
       "Stck 7     False\n",
       "Stck 8      True\n",
       "Stck 9     False\n",
       "Stck 10     True\n",
       "Name: 2016-05-19 00:00:00, dtype: bool"
      ]
     },
     "execution_count": 178,
     "metadata": {},
     "output_type": "execute_result"
    }
   ],
   "source": [
    "df_cum.iloc[-1]>1"
   ]
  },
  {
   "cell_type": "markdown",
   "metadata": {},
   "source": [
    "### Adding new columns"
   ]
  },
  {
   "cell_type": "markdown",
   "metadata": {},
   "source": [
    "You can simply define a column name:"
   ]
  },
  {
   "cell_type": "code",
   "execution_count": 179,
   "metadata": {
    "collapsed": true
   },
   "outputs": [],
   "source": [
    "df['new'] = 1"
   ]
  },
  {
   "cell_type": "code",
   "execution_count": 180,
   "metadata": {},
   "outputs": [
    {
     "data": {
      "text/html": [
       "<div>\n",
       "<style>\n",
       "    .dataframe thead tr:only-child th {\n",
       "        text-align: right;\n",
       "    }\n",
       "\n",
       "    .dataframe thead th {\n",
       "        text-align: left;\n",
       "    }\n",
       "\n",
       "    .dataframe tbody tr th {\n",
       "        vertical-align: top;\n",
       "    }\n",
       "</style>\n",
       "<table border=\"1\" class=\"dataframe\">\n",
       "  <thead>\n",
       "    <tr style=\"text-align: right;\">\n",
       "      <th></th>\n",
       "      <th>Stck 1</th>\n",
       "      <th>Stck 2</th>\n",
       "      <th>Stck 3</th>\n",
       "      <th>Stck 4</th>\n",
       "      <th>Stck 5</th>\n",
       "      <th>Stck 6</th>\n",
       "      <th>Stck 7</th>\n",
       "      <th>Stck 8</th>\n",
       "      <th>Stck 9</th>\n",
       "      <th>Stck 10</th>\n",
       "      <th>new</th>\n",
       "    </tr>\n",
       "  </thead>\n",
       "  <tbody>\n",
       "    <tr>\n",
       "      <th>2016-01-01</th>\n",
       "      <td>-0.108153</td>\n",
       "      <td>-0.455635</td>\n",
       "      <td>0.509147</td>\n",
       "      <td>-0.246972</td>\n",
       "      <td>0.600188</td>\n",
       "      <td>0.279619</td>\n",
       "      <td>-0.457287</td>\n",
       "      <td>0.170540</td>\n",
       "      <td>-0.350081</td>\n",
       "      <td>-0.906273</td>\n",
       "      <td>1</td>\n",
       "    </tr>\n",
       "    <tr>\n",
       "      <th>2016-01-04</th>\n",
       "      <td>-0.672657</td>\n",
       "      <td>0.611914</td>\n",
       "      <td>0.777550</td>\n",
       "      <td>0.289494</td>\n",
       "      <td>0.412834</td>\n",
       "      <td>0.601548</td>\n",
       "      <td>0.155076</td>\n",
       "      <td>0.258229</td>\n",
       "      <td>-1.249843</td>\n",
       "      <td>-1.084246</td>\n",
       "      <td>1</td>\n",
       "    </tr>\n",
       "    <tr>\n",
       "      <th>2016-01-05</th>\n",
       "      <td>0.594375</td>\n",
       "      <td>-0.637600</td>\n",
       "      <td>-0.120537</td>\n",
       "      <td>-0.576603</td>\n",
       "      <td>-0.306880</td>\n",
       "      <td>0.308746</td>\n",
       "      <td>-0.007661</td>\n",
       "      <td>0.303328</td>\n",
       "      <td>0.812060</td>\n",
       "      <td>-0.525469</td>\n",
       "      <td>1</td>\n",
       "    </tr>\n",
       "    <tr>\n",
       "      <th>2016-01-06</th>\n",
       "      <td>-0.332196</td>\n",
       "      <td>0.042465</td>\n",
       "      <td>-0.639609</td>\n",
       "      <td>-0.007508</td>\n",
       "      <td>-0.074882</td>\n",
       "      <td>0.502859</td>\n",
       "      <td>-0.789998</td>\n",
       "      <td>-0.888698</td>\n",
       "      <td>0.548618</td>\n",
       "      <td>-0.167398</td>\n",
       "      <td>1</td>\n",
       "    </tr>\n",
       "    <tr>\n",
       "      <th>2016-01-07</th>\n",
       "      <td>-0.433269</td>\n",
       "      <td>0.633785</td>\n",
       "      <td>0.778991</td>\n",
       "      <td>-0.084686</td>\n",
       "      <td>0.431378</td>\n",
       "      <td>-0.496091</td>\n",
       "      <td>0.133972</td>\n",
       "      <td>0.080846</td>\n",
       "      <td>-0.398608</td>\n",
       "      <td>0.452690</td>\n",
       "      <td>1</td>\n",
       "    </tr>\n",
       "  </tbody>\n",
       "</table>\n",
       "</div>"
      ],
      "text/plain": [
       "              Stck 1    Stck 2    Stck 3    Stck 4    Stck 5    Stck 6  \\\n",
       "2016-01-01 -0.108153 -0.455635  0.509147 -0.246972  0.600188  0.279619   \n",
       "2016-01-04 -0.672657  0.611914  0.777550  0.289494  0.412834  0.601548   \n",
       "2016-01-05  0.594375 -0.637600 -0.120537 -0.576603 -0.306880  0.308746   \n",
       "2016-01-06 -0.332196  0.042465 -0.639609 -0.007508 -0.074882  0.502859   \n",
       "2016-01-07 -0.433269  0.633785  0.778991 -0.084686  0.431378 -0.496091   \n",
       "\n",
       "              Stck 7    Stck 8    Stck 9   Stck 10  new  \n",
       "2016-01-01 -0.457287  0.170540 -0.350081 -0.906273    1  \n",
       "2016-01-04  0.155076  0.258229 -1.249843 -1.084246    1  \n",
       "2016-01-05 -0.007661  0.303328  0.812060 -0.525469    1  \n",
       "2016-01-06 -0.789998 -0.888698  0.548618 -0.167398    1  \n",
       "2016-01-07  0.133972  0.080846 -0.398608  0.452690    1  "
      ]
     },
     "execution_count": 180,
     "metadata": {},
     "output_type": "execute_result"
    }
   ],
   "source": [
    "df.head()"
   ]
  },
  {
   "cell_type": "markdown",
   "metadata": {},
   "source": [
    "- all\n",
    "- any"
   ]
  },
  {
   "cell_type": "markdown",
   "metadata": {},
   "source": [
    "- fillna\n",
    "- "
   ]
  }
 ],
 "metadata": {
  "kernelspec": {
   "display_name": "Python 3",
   "language": "python",
   "name": "python3"
  },
  "language_info": {
   "codemirror_mode": {
    "name": "ipython",
    "version": 3
   },
   "file_extension": ".py",
   "mimetype": "text/x-python",
   "name": "python",
   "nbconvert_exporter": "python",
   "pygments_lexer": "ipython3",
   "version": "3.6.3"
  }
 },
 "nbformat": 4,
 "nbformat_minor": 2
}
