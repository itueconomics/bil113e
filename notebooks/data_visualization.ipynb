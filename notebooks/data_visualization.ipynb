{
 "cells": [
  {
   "cell_type": "markdown",
   "metadata": {},
   "source": [
    "# Data Visualization #"
   ]
  },
  {
   "cell_type": "markdown",
   "metadata": {},
   "source": [
    "We covered some basic notions regarding with the plotting in the [pandas](https://itueconomics.github.io/bil113e/python3-pandas.html) course. We will cover [matplotlib.pyplot](https://matplotlib.org/api/pyplot_api.html) for data visualization in Python.\n",
    "\n",
    "- Download the [Data Visualization Notebook](/bil113e/notebooks/data_visualization.ipynb)\n",
    "\n",
    "Let's start with importing necessary libraries:"
   ]
  },
  {
   "cell_type": "code",
   "execution_count": null,
   "metadata": {
    "collapsed": true
   },
   "outputs": [],
   "source": [
    "import numpy as np\n",
    "import pandas as pd\n",
    "import matplotlib.pyplot as plt"
   ]
  },
  {
   "cell_type": "code",
   "execution_count": null,
   "metadata": {},
   "outputs": [],
   "source": [
    "x = np.arange(0, 5, 0.1);\n",
    "y = np.sin(x)\n",
    "plt.plot(x, y)"
   ]
  },
  {
   "cell_type": "markdown",
   "metadata": {},
   "source": [
    "It looks like nothing appeared but a text. You should command it to plot:"
   ]
  },
  {
   "cell_type": "code",
   "execution_count": null,
   "metadata": {},
   "outputs": [],
   "source": [
    "plt.show()"
   ]
  },
  {
   "cell_type": "markdown",
   "metadata": {},
   "source": [
    "If you don't want to bother with writing this each time for plotting you can use this command:"
   ]
  },
  {
   "cell_type": "code",
   "execution_count": null,
   "metadata": {
    "collapsed": true
   },
   "outputs": [],
   "source": [
    "%matplotlib inline"
   ]
  },
  {
   "cell_type": "raw",
   "metadata": {},
   "source": [
    "From now on plots will be shown without `plt.show()` command."
   ]
  },
  {
   "cell_type": "code",
   "execution_count": null,
   "metadata": {},
   "outputs": [],
   "source": [
    "X = np.linspace(-np.pi, np.pi, 256, endpoint=True) # generating 256 linear points between -pi and +pi\n",
    "C, S = np.cos(X), np.sin(X)\n",
    "plt.plot(X, C)\n",
    "plt.plot(X, S)"
   ]
  },
  {
   "cell_type": "markdown",
   "metadata": {},
   "source": [
    "We actually combined two plots of the `sin()` and `cos()` functions. "
   ]
  },
  {
   "cell_type": "markdown",
   "metadata": {},
   "source": [
    "This plotting is done with the default settings. You can manipulate the features of the plot. Check for the [matplotlib.pyplot](https://matplotlib.org/api/pyplot_api.html) documentation. \n",
    "\n",
    "For example you can change the size of the plot:"
   ]
  },
  {
   "cell_type": "code",
   "execution_count": null,
   "metadata": {},
   "outputs": [],
   "source": [
    "plt.figure(figsize=(8,6), dpi=80)\n",
    "plt.plot(X, C)\n",
    "plt.plot(X, S)"
   ]
  },
  {
   "cell_type": "markdown",
   "metadata": {},
   "source": [
    "You can change the colors:"
   ]
  },
  {
   "cell_type": "code",
   "execution_count": null,
   "metadata": {},
   "outputs": [],
   "source": [
    "plt.figure(figsize=(8,6), dpi=80)\n",
    "plt.plot(X, C, color=\"blue\", linewidth=1.0, linestyle=\"-\")\n",
    "plt.plot(X, S, color=\"green\", linewidth=3.0, linestyle=\":\")"
   ]
  },
  {
   "cell_type": "code",
   "execution_count": null,
   "metadata": {},
   "outputs": [],
   "source": [
    "plt.figure(figsize=(8,6), dpi=80)\n",
    "plt.plot(X, C, color=\"blue\", linewidth=1.0, linestyle=\"-\")\n",
    "plt.plot(X, S, color=\"green\", linewidth=3.0, linestyle=\":\")\n",
    "plt.xlim(-4.0,4.0)\n",
    "# Set x ticks\n",
    "plt.xticks(np.linspace(-4,4,9,endpoint=True))\n",
    "# Set y limits\n",
    "plt.ylim(-1.0,1.0)\n",
    "# Set y ticks\n",
    "plt.yticks(np.linspace(-1,1,20,endpoint=True))"
   ]
  },
  {
   "cell_type": "markdown",
   "metadata": {},
   "source": [
    "Let's add some grid:"
   ]
  },
  {
   "cell_type": "code",
   "execution_count": null,
   "metadata": {},
   "outputs": [],
   "source": [
    "plt.figure(figsize=(8,6), dpi=80)\n",
    "plt.plot(X, C, color=\"blue\", linewidth=3.0, linestyle=\"-\")\n",
    "plt.plot(X, S, color=\"green\", linewidth=3.0, linestyle=\"-\")\n",
    "plt.xlim(-4.0,4.0)\n",
    "# Set x ticks\n",
    "plt.xticks(np.linspace(-4,4,9,endpoint=True))\n",
    "# Set y limits\n",
    "plt.ylim(-1.0,1.0)\n",
    "# Set y ticks\n",
    "plt.yticks(np.linspace(-1,1,20,endpoint=True))\n",
    "plt.grid(color='red')"
   ]
  },
  {
   "cell_type": "markdown",
   "metadata": {},
   "source": [
    "We can label the ticks:"
   ]
  },
  {
   "cell_type": "code",
   "execution_count": null,
   "metadata": {},
   "outputs": [],
   "source": [
    "plt.figure(figsize=(8,6), dpi=80)\n",
    "plt.plot(X, C, color=\"blue\", linewidth=3.0, linestyle=\"-\")\n",
    "plt.plot(X, S, color=\"green\", linewidth=3.0, linestyle=\"-\")\n",
    "plt.xlim(-4.0,4.0)\n",
    "# Set x ticks\n",
    "# Set y limits\n",
    "# Set y ticks\n",
    "plt.grid(color='grey')\n",
    "plt.xticks([-np.pi, -np.pi/2, 0, np.pi/2, np.pi],\n",
    "       [r'$-\\pi$', r'$-\\pi/2$', r'$0$', r'$+\\pi/2$', r'$+\\pi$'])\n",
    "\n",
    "plt.yticks([-1, 0, +1],\n",
    "       [r'$-1$', r'$0$', r'$+1$'])"
   ]
  },
  {
   "cell_type": "markdown",
   "metadata": {},
   "source": [
    "Withing the `$` signs you can use `latex/markdown` formatting."
   ]
  },
  {
   "cell_type": "markdown",
   "metadata": {},
   "source": [
    "It look's like we can save the it as figure:"
   ]
  },
  {
   "cell_type": "code",
   "execution_count": null,
   "metadata": {},
   "outputs": [],
   "source": [
    "plt.figure(figsize=(8,6), dpi=80)\n",
    "plt.plot(X, C, color=\"blue\", linewidth=3.0, linestyle=\"-\")\n",
    "plt.plot(X, S, color=\"green\", linewidth=3.0, linestyle=\"-\")\n",
    "plt.xlim(-4.0,4.0)\n",
    "# Set x ticks\n",
    "plt.xticks(np.linspace(-4,4,9,endpoint=True))\n",
    "# Set y limits\n",
    "plt.ylim(-1.0,1.0)\n",
    "# Set y ticks\n",
    "plt.yticks(np.linspace(-1,1,10,endpoint=True))\n",
    "plt.grid(color='black')\n",
    "plt.savefig('fig.png')"
   ]
  },
  {
   "cell_type": "markdown",
   "metadata": {},
   "source": [
    "Add a legend:"
   ]
  },
  {
   "cell_type": "code",
   "execution_count": null,
   "metadata": {},
   "outputs": [],
   "source": [
    "plt.figure(figsize=(8,6), dpi=80)\n",
    "plt.plot(X, C, color=\"blue\", linewidth=3.0, linestyle=\"-\", label = 'cos()')\n",
    "plt.plot(X, S, color=\"green\", linewidth=3.0, linestyle=\"-\", label='sin()')\n",
    "plt.xlim(-4.0,4.0)\n",
    "plt.xticks(np.linspace(-4,4,9,endpoint=True))\n",
    "plt.yticks(np.linspace(-1,1,10,endpoint=True))\n",
    "plt.legend(loc='upper left', frameon=False)"
   ]
  },
  {
   "cell_type": "markdown",
   "metadata": {},
   "source": [
    "Annotate some points:"
   ]
  },
  {
   "cell_type": "code",
   "execution_count": null,
   "metadata": {},
   "outputs": [],
   "source": [
    "plt.figure(figsize=(8,6), dpi=80)\n",
    "plt.plot(X, C, color=\"blue\", linewidth=3.0, linestyle=\"-\", label = 'cos()')\n",
    "plt.plot(X, S, color=\"green\", linewidth=3.0, linestyle=\"-\", label='sin()')\n",
    "plt.xlim(-4.0,4.0)\n",
    "plt.xticks(np.linspace(-4,4,9,endpoint=True))\n",
    "plt.yticks(np.linspace(-1,1,10,endpoint=True))\n",
    "plt.legend(loc='upper left', frameon=False)\n",
    "plt.annotate(s='sin(0) = 0', xy = (0,0),\n",
    "            xytext=(+10, -30), textcoords='offset points', fontsize=12,\n",
    "            arrowprops=dict(arrowstyle=\"->\", connectionstyle=\"arc3,rad=.2\"))"
   ]
  },
  {
   "cell_type": "markdown",
   "metadata": {},
   "source": [
    "Explanation of the `annotate()` attributes:\n",
    "\n",
    "- s: Text\n",
    "- xy: a `tuple` that gives the coordinates of the points.\n",
    "- xytext: coordinates of the text. In this case it means relative coordinates of the text respect to the point.\n",
    "- textcoords: have two options (1) `points` - offset (in points) from the xy value; (2) `pixels` - offset (in pixels) from the xy value\n",
    "- arrowprops: It gives attributes how to connect to the points.\n",
    "\n",
    "For now you are not necessarily learn the details. It is enough to know what you can do while plotting a data."
   ]
  },
  {
   "cell_type": "markdown",
   "metadata": {},
   "source": [
    "## Movies Database"
   ]
  },
  {
   "cell_type": "markdown",
   "metadata": {
    "collapsed": true
   },
   "source": [
    "Do you remember the dataset we manipulated in the [pandas](https://itueconomics.github.io/bil113e/python3-pandas.html) course? We actually saved it as csv file names [movies_new.csv](/bil113e/assets/movies_new.csv). Okay download the dataset and import it. "
   ]
  },
  {
   "cell_type": "code",
   "execution_count": null,
   "metadata": {},
   "outputs": [],
   "source": [
    "mv = pd.read_csv('movies_new.csv',encoding='latin1')\n",
    "mv.head()"
   ]
  },
  {
   "cell_type": "markdown",
   "metadata": {},
   "source": [
    "Let's find out the categories:"
   ]
  },
  {
   "cell_type": "code",
   "execution_count": null,
   "metadata": {},
   "outputs": [],
   "source": [
    "cat_names = mv.columns\n",
    "cat_names = cat_names[4:]\n",
    "print(cat_names, '\\n',len(cat_names))"
   ]
  },
  {
   "cell_type": "markdown",
   "metadata": {},
   "source": [
    "We have 19 categories. "
   ]
  },
  {
   "cell_type": "code",
   "execution_count": null,
   "metadata": {},
   "outputs": [],
   "source": [
    "cat = mv[cat_names].sum().sort_values()\n",
    "cat"
   ]
  },
  {
   "cell_type": "markdown",
   "metadata": {},
   "source": [
    "Let's make a histogram:"
   ]
  },
  {
   "cell_type": "code",
   "execution_count": null,
   "metadata": {},
   "outputs": [],
   "source": [
    "plt.figure(figsize=(12,5), dpi=80)\n",
    "plt.bar(cat.index, cat.values, color='darkred')\n",
    "plt.xticks(rotation=90, fontsize=12)\n",
    "plt.xlabel('Categories',fontsize=15,color='darkblue')\n",
    "plt.ylabel('Counts',fontsize=15,color='darkblue')"
   ]
  },
  {
   "cell_type": "markdown",
   "metadata": {},
   "source": [
    "May be a pie chart works better? Also see this [example](https://matplotlib.org/examples/pie_and_polar_charts/pie_demo_features.html)"
   ]
  },
  {
   "cell_type": "code",
   "execution_count": null,
   "metadata": {},
   "outputs": [],
   "source": [
    "plt.figure(figsize=(10,10), dpi=80)\n",
    "exp= [0] * 16 + [0.1] + [0] * 2\n",
    "plt.pie(cat, explode = exp, labels=cat.index,shadow=True)"
   ]
  },
  {
   "cell_type": "markdown",
   "metadata": {},
   "source": [
    "For better visualization we can cut-off some categories:"
   ]
  },
  {
   "cell_type": "code",
   "execution_count": null,
   "metadata": {
    "collapsed": true
   },
   "outputs": [],
   "source": [
    "pop_cat = cat[-12:]"
   ]
  },
  {
   "cell_type": "code",
   "execution_count": null,
   "metadata": {},
   "outputs": [],
   "source": [
    "plt.figure(figsize=(12,12), dpi=80)\n",
    "plt.pie(pop_cat, labels=pop_cat.index,shadow=True)"
   ]
  },
  {
   "cell_type": "markdown",
   "metadata": {},
   "source": [
    "Second thing we can do with our data is to count number of movies for each year."
   ]
  },
  {
   "cell_type": "code",
   "execution_count": null,
   "metadata": {},
   "outputs": [],
   "source": [
    "yrs = mv['year'].value_counts()\n",
    "yrs.head()"
   ]
  },
  {
   "cell_type": "code",
   "execution_count": null,
   "metadata": {
    "collapsed": true
   },
   "outputs": [],
   "source": [
    "yrs = yrs.sort_index()"
   ]
  },
  {
   "cell_type": "code",
   "execution_count": null,
   "metadata": {},
   "outputs": [],
   "source": [
    "plt.figure(figsize=(12,5), dpi=80)\n",
    "plt.plot(yrs, linewidth=3.0, linestyle=\"-\")\n",
    "plt.xticks(rotation=90, fontsize=11)\n",
    "plt.grid(color='black')\n",
    "plt.xlabel('Years',fontsize=15,color='darkblue')\n",
    "plt.ylabel('Counts',fontsize=15,color='darkblue')"
   ]
  },
  {
   "cell_type": "markdown",
   "metadata": {},
   "source": [
    "## Some Examples"
   ]
  },
  {
   "cell_type": "markdown",
   "metadata": {},
   "source": [
    "When you examine the examples below you will notice that how advanced plotting can be done with matplotlib. These examples are taken from: https://www.labri.fr/perso/nrougier/teaching/matplotlib/"
   ]
  },
  {
   "cell_type": "code",
   "execution_count": null,
   "metadata": {},
   "outputs": [],
   "source": [
    "n = 1024\n",
    "X = np.random.normal(0,1,n)\n",
    "Y = np.random.normal(0,1,n)\n",
    "T = np.arctan2(Y,X)\n",
    "\n",
    "plt.axes([0.025,0.025,0.95,0.95])\n",
    "plt.scatter(X,Y, s=75, c=T, alpha=.5)\n",
    "\n",
    "plt.xlim(-1.5,1.5), plt.xticks([])\n",
    "plt.ylim(-1.5,1.5), plt.yticks([])\n",
    "# savefig('../figures/scatter_ex.png',dpi=48)\n",
    "plt.show()"
   ]
  },
  {
   "cell_type": "code",
   "execution_count": null,
   "metadata": {},
   "outputs": [],
   "source": [
    "n = 12\n",
    "X = np.arange(n)\n",
    "Y1 = (1-X/float(n)) * np.random.uniform(0.5,1.0,n)\n",
    "Y2 = (1-X/float(n)) * np.random.uniform(0.5,1.0,n)\n",
    "\n",
    "plt.axes([0.025,0.025,0.95,0.95])\n",
    "plt.bar(X, +Y1, facecolor='#9999ff', edgecolor='white')\n",
    "plt.bar(X, -Y2, facecolor='#ff9999', edgecolor='white')\n",
    "\n",
    "for x,y in zip(X,Y1):\n",
    "    plt.text(x+0.4, y+0.05, '%.2f' % y, ha='center', va= 'bottom')\n",
    "\n",
    "for x,y in zip(X,Y2):\n",
    "    plt.text(x+0.4, -y-0.05, '%.2f' % y, ha='center', va= 'top')\n",
    "\n",
    "plt.xlim(-.5,n), plt.xticks([])\n",
    "plt.ylim(-1.25,+1.25), plt.yticks([])\n",
    "\n",
    "# savefig('../figures/bar_ex.png', dpi=48)\n",
    "plt.show()"
   ]
  },
  {
   "cell_type": "code",
   "execution_count": null,
   "metadata": {},
   "outputs": [],
   "source": [
    "def f(x,y):\n",
    "    return (1-x/2+x**5+y**3)*np.exp(-x**2-y**2)\n",
    "\n",
    "n = 256\n",
    "x = np.linspace(-3,3,n)\n",
    "y = np.linspace(-3,3,n)\n",
    "X,Y = np.meshgrid(x,y)\n",
    "\n",
    "plt.axes([0.025,0.025,0.95,0.95])\n",
    "\n",
    "plt.contourf(X, Y, f(X,Y), 8, alpha=.75, cmap=plt.cm.hot)\n",
    "C = plt.contour(X, Y, f(X,Y), 8, colors='black', linewidth=.5)\n",
    "plt.clabel(C, inline=1, fontsize=10)\n",
    "\n",
    "plt.xticks([]), plt.yticks([])\n",
    "plt.show()"
   ]
  },
  {
   "cell_type": "code",
   "execution_count": null,
   "metadata": {},
   "outputs": [],
   "source": [
    "\n",
    "n = 20\n",
    "Z = np.ones(n)\n",
    "Z[-1] *= 2\n",
    "\n",
    "plt.axes([0.025,0.025,0.95,0.95])\n",
    "\n",
    "plt.pie(Z, explode=Z*.05, colors = ['%f' % (i/float(n)) for i in range(n)])\n",
    "plt.gca().set_aspect('equal')\n",
    "plt.xticks([]), plt.yticks([])"
   ]
  },
  {
   "cell_type": "code",
   "execution_count": null,
   "metadata": {},
   "outputs": [],
   "source": [
    "n = 8\n",
    "X,Y = np.mgrid[0:n,0:n]\n",
    "T = np.arctan2(Y-n/2.0, X-n/2.0)\n",
    "R = 10+np.sqrt((Y-n/2.0)**2+(X-n/2.0)**2)\n",
    "U,V = R*np.cos(T), R*np.sin(T)\n",
    "\n",
    "plt.axes([0.025,0.025,0.95,0.95])\n",
    "plt.quiver(X,Y,U,V,R, alpha=.5)\n",
    "plt.quiver(X,Y,U,V, edgecolor='k', facecolor='None', linewidth=.5)\n",
    "\n",
    "plt.xlim(-1,n), plt.xticks([])\n",
    "plt.ylim(-1,n), plt.yticks([])"
   ]
  },
  {
   "cell_type": "code",
   "execution_count": null,
   "metadata": {},
   "outputs": [],
   "source": [
    "ax = plt.axes([0.025,0.025,0.95,0.95], polar=True)\n",
    "\n",
    "N = 20\n",
    "theta = np.arange(0.0, 2*np.pi, 2*np.pi/N)\n",
    "radii = 10*np.random.rand(N)\n",
    "width = np.pi/4*np.random.rand(N)\n",
    "bars = plt.bar(theta, radii, width=width, bottom=0.0)\n",
    "\n",
    "for r,bar in zip(radii, bars):\n",
    "    bar.set_facecolor( plt.cm.jet(r/10.))\n",
    "    bar.set_alpha(0.5)\n",
    "\n",
    "ax.set_xticklabels([])\n",
    "ax.set_yticklabels([])\n",
    "# savefig('../figures/polar_ex.png',dpi=48)\n",
    "plt.show()"
   ]
  },
  {
   "cell_type": "code",
   "execution_count": null,
   "metadata": {},
   "outputs": [],
   "source": [
    "eqs = []\n",
    "eqs.append((r\"$W^{3\\beta}_{\\delta_1 \\rho_1 \\sigma_2} = U^{3\\beta}_{\\delta_1 \\rho_1} + \\frac{1}{8 \\pi 2} \\int^{\\alpha_2}_{\\alpha_2} d \\alpha^\\prime_2 \\left[\\frac{ U^{2\\beta}_{\\delta_1 \\rho_1} - \\alpha^\\prime_2U^{1\\beta}_{\\rho_1 \\sigma_2} }{U^{0\\beta}_{\\rho_1 \\sigma_2}}\\right]$\"))\n",
    "eqs.append((r\"$\\frac{d\\rho}{d t} + \\rho \\vec{v}\\cdot\\nabla\\vec{v} = -\\nabla p + \\mu\\nabla^2 \\vec{v} + \\rho \\vec{g}$\"))\n",
    "eqs.append((r\"$\\int_{-\\infty}^\\infty e^{-x^2}dx=\\sqrt{\\pi}$\"))\n",
    "eqs.append((r\"$E = mc^2 = \\sqrt{{m_0}^2c^4 + p^2c^2}$\"))\n",
    "eqs.append((r\"$F_G = G\\frac{m_1m_2}{r^2}$\"))\n",
    "\n",
    "\n",
    "plt.axes([0.025,0.025,0.95,0.95])\n",
    "\n",
    "for i in range(24):\n",
    "    index = np.random.randint(0,len(eqs))\n",
    "    eq = eqs[index]\n",
    "    size = np.random.uniform(12,32)\n",
    "    x,y = np.random.uniform(0,1,2)\n",
    "    alpha = np.random.uniform(0.25,.75)\n",
    "    plt.text(x, y, eq, ha='center', va='center', color=\"#11557c\", alpha=alpha,\n",
    "             transform=plt.gca().transAxes, fontsize=size, clip_on=True)\n",
    "\n",
    "plt.xticks([]), plt.yticks([])\n",
    "# savefig('../figures/text_ex.png',dpi=48)\n",
    "plt.show()"
   ]
  },
  {
   "cell_type": "markdown",
   "metadata": {},
   "source": [
    "Matplotlib is very fundemental plotting library. Many of the plotting libraries are built on Matplotlib. You can check out for other libraries. Let's check out another library."
   ]
  },
  {
   "cell_type": "code",
   "execution_count": null,
   "metadata": {
    "collapsed": true
   },
   "outputs": [],
   "source": [
    "import seaborn as sns"
   ]
  },
  {
   "cell_type": "code",
   "execution_count": null,
   "metadata": {},
   "outputs": [],
   "source": [
    "tips = sns.load_dataset(\"tips\")\n",
    "sns.violinplot(x = \"total_bill\", data=tips)"
   ]
  },
  {
   "cell_type": "markdown",
   "metadata": {},
   "source": [
    "`seaborn` is based on matplotlib so we can use matplotlib features with seaborn. For instance:"
   ]
  },
  {
   "cell_type": "code",
   "execution_count": null,
   "metadata": {},
   "outputs": [],
   "source": [
    "plt.figure(figsize=(8,4), dpi=80)\n",
    "tips = sns.load_dataset(\"tips\")\n",
    "sns.violinplot(x = \"total_bill\", data=tips)"
   ]
  },
  {
   "cell_type": "code",
   "execution_count": null,
   "metadata": {},
   "outputs": [],
   "source": [
    "plt.figure(figsize=(7,7), dpi=80)\n",
    "# Load iris data\n",
    "iris = sns.load_dataset(\"iris\")\n",
    "# Construct iris plot\n",
    "sns.swarmplot(x=\"species\", y=\"petal_length\", data=iris)"
   ]
  },
  {
   "cell_type": "code",
   "execution_count": null,
   "metadata": {},
   "outputs": [],
   "source": [
    "titanic = sns.load_dataset(\"titanic\")\n",
    "\n",
    "# Set up a factorplot\n",
    "g = sns.factorplot(\"class\", \"survived\", \"sex\", data=titanic, kind=\"bar\", palette=\"muted\", legend=False)\n",
    " "
   ]
  },
  {
   "cell_type": "markdown",
   "metadata": {},
   "source": [
    "seaborn default styles: `white, dark, whitegrid, darkgrid, ticks`."
   ]
  },
  {
   "cell_type": "code",
   "execution_count": null,
   "metadata": {},
   "outputs": [],
   "source": [
    "sns.set() #default seaborn style\n",
    "titanic = sns.load_dataset(\"titanic\")\n",
    "g = sns.factorplot(\"class\", \"survived\", \"sex\", data=titanic, kind=\"bar\", palette=\"muted\", legend=False)"
   ]
  },
  {
   "cell_type": "code",
   "execution_count": null,
   "metadata": {},
   "outputs": [],
   "source": [
    "sns.set_style('whitegrid') #default seaborn style\n",
    "titanic = sns.load_dataset(\"titanic\")\n",
    "g = sns.factorplot(\"class\", \"survived\", \"sex\", data=titanic, kind=\"bar\", palette=\"muted\", legend=False)"
   ]
  },
  {
   "cell_type": "code",
   "execution_count": null,
   "metadata": {},
   "outputs": [],
   "source": [
    "sns.set_style('dark') #default seaborn style\n",
    "titanic = sns.load_dataset(\"titanic\")\n",
    "g = sns.factorplot(\"class\", \"survived\", \"sex\", data=titanic, kind=\"bar\", palette=\"muted\", legend=False)"
   ]
  },
  {
   "cell_type": "markdown",
   "metadata": {},
   "source": [
    "Check out for [DataCamp SeaBorn Tutorial](https://www.datacamp.com/community/tutorials/seaborn-python-tutorial)"
   ]
  },
  {
   "cell_type": "markdown",
   "metadata": {},
   "source": [
    "Objective of this course is to introduce basic plotting library of python. One importing thing should be pointed out that you do not need to grasp every detail of this features. This course should give you the intuition of how to plot data. You must get habit of learning what you need using documentations, or using Google :). "
   ]
  },
  {
   "cell_type": "markdown",
   "metadata": {},
   "source": [
    "Check out for other data visualization libraries: [10 Useful Python Data Visualization Libraries for Any Discipline](https://blog.modeanalytics.com/python-data-visualization-libraries/)"
   ]
  },
  {
   "cell_type": "markdown",
   "metadata": {},
   "source": [
    "# References\n",
    "\n",
    "- https://www.labri.fr/perso/nrougier/teaching/matplotlib/\n",
    "- https://seaborn.pydata.org/tutorial.html\n",
    "- https://matplotlib.org/users/pyplot_tutorial.html\n",
    "- https://matplotlib.org/api/pyplot_api.html"
   ]
  },
  {
   "cell_type": "code",
   "execution_count": null,
   "metadata": {
    "collapsed": true
   },
   "outputs": [],
   "source": []
  }
 ],
 "metadata": {
  "kernelspec": {
   "display_name": "Python 3",
   "language": "python",
   "name": "python3"
  },
  "language_info": {
   "codemirror_mode": {
    "name": "ipython",
    "version": 3
   },
   "file_extension": ".py",
   "mimetype": "text/x-python",
   "name": "python",
   "nbconvert_exporter": "python",
   "pygments_lexer": "ipython3",
   "version": "3.6.3"
  }
 },
 "nbformat": 4,
 "nbformat_minor": 2
}
